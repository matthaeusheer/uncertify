{
 "cells": [
  {
   "cell_type": "code",
   "execution_count": null,
   "metadata": {},
   "outputs": [],
   "source": [
    "%load_ext autoreload\n",
    "%autoreload 2\n",
    "\n",
    "from context import uncertify"
   ]
  },
  {
   "cell_type": "code",
   "execution_count": null,
   "metadata": {},
   "outputs": [],
   "source": [
    "import logging\n",
    "from uncertify.log import setup_logging\n",
    "setup_logging()\n",
    "LOG = logging.getLogger(__name__)\n",
    "\n",
    "# Matplotlib DEBUG logging spits out a whole bunch of crap\n",
    "mpl_logger = logging.getLogger('matplotlib')\n",
    "mpl_logger.setLevel(logging.WARNING)"
   ]
  },
  {
   "cell_type": "code",
   "execution_count": null,
   "metadata": {
    "pycharm": {
     "name": "#%%\n"
    }
   },
   "outputs": [],
   "source": [
    "LOG.info(f'Your code goes here... \"{uncertify.__package__}\" loaded successfully from context.py')"
   ]
  },
  {
   "cell_type": "code",
   "execution_count": null,
   "metadata": {},
   "outputs": [],
   "source": [
    "import torch\n",
    "import random\n",
    "import matplotlib.pyplot as plt\n",
    "import numpy as np\n",
    "\n",
    "from uncertify.data.utils import gauss_2d_tensor_image\n",
    "from uncertify.evaluation.statistics import get_entropy, rec_error_entropy_batch_stat\n",
    "from uncertify.data.dataloaders import dataloader_factory, DatasetType\n",
    "from uncertify.visualization.plotting import setup_plt_figure\n",
    "from uncertify.visualization import entropy_experiments\n",
    "import seaborn as sns\n",
    "from uncertify.common import DATA_DIR_PATH, HD_DATA_PATH"
   ]
  },
  {
   "cell_type": "code",
   "execution_count": null,
   "metadata": {},
   "outputs": [],
   "source": [
    "example_factory = entropy_experiments.ExampleFactory(shape=(200, 200))\n",
    "\n",
    "flat_image =  example_factory.create_sample('flat')\n",
    "entropy_experiments.plot_image_and_entropy(flat_image)\n",
    "\n",
    "gauss_noise_image = example_factory.create_sample('gauss_noise')\n",
    "entropy_experiments.plot_image_and_entropy(gauss_noise_image)\n",
    "\n",
    "checkerboard_image = example_factory.create_sample('checkerboard')\n",
    "entropy_experiments.plot_image_and_entropy(checkerboard_image)\n",
    "\n",
    "gauss_images = example_factory.create_sample('centered_gauss_blobs')\n",
    "entropy_experiments.plot_images_and_entropy(gauss_images)\n",
    "\n",
    "circle_images = example_factory.create_sample('centered_circles')\n",
    "entropy_experiments.plot_images_and_entropy(gauss_images)"
   ]
  },
  {
   "cell_type": "code",
   "execution_count": null,
   "metadata": {},
   "outputs": [],
   "source": [
    "BATCH_SIZE = 155\n",
    "SHUFFLE_VAL = True\n",
    "\n",
    "brats_t2_path    = HD_DATA_PATH / 'processed/brats17_t2_bc_std_bv3.5.hdf5'\n",
    "_, brats_val_t2_dataloader    = dataloader_factory(DatasetType.BRATS17, batch_size=BATCH_SIZE, val_set_path=brats_t2_path, shuffle_val=SHUFFLE_VAL)"
   ]
  },
  {
   "cell_type": "code",
   "execution_count": null,
   "metadata": {},
   "outputs": [],
   "source": [
    "for background in [0.0]:\n",
    "    torch.manual_seed(0)\n",
    "    for input_batch in brats_val_t2_dataloader:\n",
    "        entropy_experiments.plot_entropy_segmentations(input_batch, add_steady_background=background, add_gauss_blobs=True,\n",
    "                                                       add_circles=False, zero_out_seg=False, normalize=True)\n",
    "        break"
   ]
  },
  {
   "cell_type": "code",
   "execution_count": null,
   "metadata": {},
   "outputs": [],
   "source": []
  }
 ],
 "metadata": {
  "kernelspec": {
   "display_name": "uncertify-env",
   "language": "python",
   "name": "uncertify-env"
  },
  "language_info": {
   "codemirror_mode": {
    "name": "ipython",
    "version": 3
   },
   "file_extension": ".py",
   "mimetype": "text/x-python",
   "name": "python",
   "nbconvert_exporter": "python",
   "pygments_lexer": "ipython3",
   "version": "3.8.6"
  }
 },
 "nbformat": 4,
 "nbformat_minor": 4
}
