{
 "cells": [
  {
   "cell_type": "code",
   "execution_count": null,
   "metadata": {},
   "outputs": [],
   "source": [
    "%load_ext autoreload\n",
    "%autoreload 2\n",
    "\n",
    "from context import uncertify"
   ]
  },
  {
   "cell_type": "code",
   "execution_count": null,
   "metadata": {},
   "outputs": [],
   "source": [
    "import logging\n",
    "from uncertify.log import setup_logging\n",
    "setup_logging()\n",
    "LOG = logging.getLogger(__name__)\n",
    "\n",
    "# Matplotlib DEBUG logging spits out a whole bunch of crap\n",
    "mpl_logger = logging.getLogger('matplotlib')\n",
    "mpl_logger.setLevel(logging.WARNING)"
   ]
  },
  {
   "cell_type": "code",
   "execution_count": null,
   "metadata": {
    "pycharm": {
     "name": "#%%\n"
    }
   },
   "outputs": [],
   "source": [
    "from pathlib import Path\n",
    "\n",
    "import torch\n",
    "\n",
    "from uncertify.data.artificial import BrainGaussBlobDataset\n",
    "from uncertify.data.datasets import Brats2017HDF5Dataset\n",
    "from uncertify.data.dataloaders import dataloader_factory, DatasetType\n",
    "from uncertify.visualization.datasets import plot_brats_batches, plot_camcan_batches\n",
    "from uncertify.data.utils import gaussian\n",
    "from uncertify.common import DATA_DIR_PATH"
   ]
  },
  {
   "cell_type": "code",
   "execution_count": null,
   "metadata": {},
   "outputs": [],
   "source": [
    "PROCESSED_DIR_PATH   = Path('/media/juniors/2TB_internal_HD/datasets/processed/')\n",
    "brats_t2_path        = PROCESSED_DIR_PATH / 'brats17_t2_bc_std_bv3.5.hdf5'\n",
    "camcan_t2_train_path = DATA_DIR_PATH  / 'processed/camcan_train_t2_hm_std_bv3.5_xe.hdf5'\n",
    "camcan_t2_val_path   = DATA_DIR_PATH  / 'processed/camcan_val_t2_hm_std_bv3.5_xe.hdf5'"
   ]
  },
  {
   "cell_type": "code",
   "execution_count": null,
   "metadata": {},
   "outputs": [],
   "source": [
    "batch_size = 8\n",
    "plot_n_batches = 1\n",
    "nrow=8\n",
    "\n",
    "HDD_PROCESSED_DIR_PATH = Path('/media/juniors/2TB_internal_HD/datasets/processed/')\n",
    "_, brats_val_dataloader = dataloader_factory(DatasetType.BRATS17, batch_size=batch_size, \n",
    "                                             val_set_path=brats_t2_path, shuffle_val=True, \n",
    "                                             add_gauss_blobs=True)\n",
    "camcan_train_dataloader, camcan_val_dataloader = dataloader_factory(DatasetType.CAMCAN, batch_size=batch_size, \n",
    "                                                                    val_set_path=camcan_t2_val_path, train_set_path=camcan_t2_train_path, \n",
    "                                                                    shuffle_val=True, shuffle_train=False, num_workers=0,\n",
    "                                                                    add_gauss_blobs=True)\n",
    "\n",
    "plot_camcan_batches(camcan_val_dataloader, plot_n_batches, cmap='hot', figsize=(18, 12), nrow=nrow, vmax=3.5)\n",
    "plot_brats_batches(camcan_val_dataloader, plot_n_batches, cmap='hot', figsize=(18, 12), nrow=nrow, vmax=3.5)"
   ]
  }
 ],
 "metadata": {
  "kernelspec": {
   "display_name": "uncertify-env",
   "language": "python",
   "name": "uncertify-env"
  },
  "language_info": {
   "codemirror_mode": {
    "name": "ipython",
    "version": 3
   },
   "file_extension": ".py",
   "mimetype": "text/x-python",
   "name": "python",
   "nbconvert_exporter": "python",
   "pygments_lexer": "ipython3",
   "version": "3.8.6"
  }
 },
 "nbformat": 4,
 "nbformat_minor": 4
}
