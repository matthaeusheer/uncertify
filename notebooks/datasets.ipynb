{
 "cells": [
  {
   "cell_type": "code",
   "execution_count": null,
   "metadata": {},
   "outputs": [],
   "source": [
    "%load_ext autoreload\n",
    "%autoreload 2\n",
    "    \n",
    "from context import uncertify"
   ]
  },
  {
   "cell_type": "code",
   "execution_count": null,
   "metadata": {},
   "outputs": [],
   "source": [
    "import logging\n",
    "from uncertify.log import setup_logging\n",
    "setup_logging()\n",
    "LOG = logging.getLogger(__name__)\n",
    "\n",
    "# Matplotlib DEBUG logging spits out a whole bunch of crap\n",
    "mpl_logger = logging.getLogger('matplotlib')\n",
    "mpl_logger.setLevel(logging.WARNING)"
   ]
  },
  {
   "cell_type": "code",
   "execution_count": null,
   "metadata": {
    "pycharm": {
     "name": "#%%\n"
    }
   },
   "outputs": [],
   "source": [
    "from itertools import islice\n",
    "\n",
    "import h5py\n",
    "import numpy as np\n",
    "from scipy import stats\n",
    "import matplotlib.pyplot as plt\n",
    "from torchvision.utils import make_grid\n",
    "\n",
    "from uncertify.common import DATA_DIR_PATH"
   ]
  },
  {
   "cell_type": "code",
   "execution_count": null,
   "metadata": {},
   "outputs": [],
   "source": [
    "BRATS_DATA_DIR = DATA_DIR_PATH / 'brats'\n",
    "CAMCAN_DATA_DIR = DATA_DIR_PATH / 'camcan'"
   ]
  },
  {
   "cell_type": "markdown",
   "metadata": {},
   "source": [
    "# Explore dataset\n",
    "Constist of two major types of objects: Datasets and Groups.\n",
    "\n",
    "Datasets: multidimensional arrays of homogeneous types.\n",
    "Groups: Hierarchical structures (file system-like)."
   ]
  },
  {
   "cell_type": "code",
   "execution_count": null,
   "metadata": {},
   "outputs": [],
   "source": [
    "brats_val_path = BRATS_DATA_DIR / 'brats_all_val.hdf5'\n",
    "camcan_val_path = CAMCAN_DATA_DIR / 'camcan_t2_val_set.hdf5'\n",
    "camcan_train_path = CAMCAN_DATA_DIR / 'camcan_t2_train_set.hdf5'\n",
    "\n",
    "for path in [brats_val_path, camcan_val_path, camcan_train_path]:\n",
    "    print(f'{path} does{\" not \" if not path.exists() else \" \"}exist!')"
   ]
  },
  {
   "cell_type": "code",
   "execution_count": null,
   "metadata": {},
   "outputs": [],
   "source": [
    "def print_datasets_info(h5py_file: h5py.File) -> None:\n",
    "    for dataset_name, dataset in h5py_file.items():\n",
    "        print(dataset)\n",
    "\n",
    "for path in [brats_val_path, camcan_val_path, camcan_train_path]:\n",
    "    name = path.name\n",
    "    h5py_file = h5py.File(path, 'r')\n",
    "    print(f'\\n --- {name} ---')\n",
    "    print_datasets_info(h5py_file)"
   ]
  },
  {
   "cell_type": "code",
   "execution_count": null,
   "metadata": {},
   "outputs": [],
   "source": [
    "from uncertify.visualization.datasets import plot_samples\n",
    "\n",
    "n_samples = 1\n",
    "plot_samples(h5py.File(brats_val_path, 'r'), n_samples=n_samples, cmap='hot')\n",
    "plot_samples(h5py.File(camcan_val_path, 'r'), n_samples=n_samples, cmap='hot')"
   ]
  },
  {
   "cell_type": "markdown",
   "metadata": {},
   "source": [
    "# Explore Dataset using Dataset and Dataloader in PyTorch"
   ]
  },
  {
   "cell_type": "code",
   "execution_count": null,
   "metadata": {},
   "outputs": [],
   "source": [
    "import torch\n",
    "from torch.utils.data import DataLoader\n",
    "import torchvision\n",
    "\n",
    "from uncertify.data.datasets import Brats2017HDF5Dataset, CamCanHDF5Dataset\n",
    "from uncertify.data.dataloaders import dataloader_factory, DatasetType\n",
    "from uncertify.visualization.datasets import plot_brats_batches, plot_camcan_batches\n",
    "from uncertify.visualization.datasets import plot_fraction_of_abnormal_pixels"
   ]
  },
  {
   "cell_type": "code",
   "execution_count": null,
   "metadata": {},
   "outputs": [],
   "source": [
    "batch_size = 4\n",
    "do_shuffle = True\n",
    "\n",
    "brats_val_dataset = Brats2017HDF5Dataset(hdf5_file_path=brats_val_path)\n",
    "brats_val_dataloader = DataLoader(brats_val_dataset, batch_size=batch_size, shuffle=do_shuffle)\n",
    "\n",
    "camcan_train_dataset = CamCanHDF5Dataset(hdf5_file_path=camcan_train_path)\n",
    "camcan_train_dataloader = DataLoader(camcan_train_dataset, batch_size=batch_size, shuffle=do_shuffle)"
   ]
  },
  {
   "cell_type": "markdown",
   "metadata": {},
   "source": [
    "## Using the dataset factory"
   ]
  },
  {
   "cell_type": "code",
   "execution_count": null,
   "metadata": {},
   "outputs": [],
   "source": [
    "_, brats_val_dataloader = dataloader_factory(DatasetType.BRATS17, batch_size=4, shuffle_val=True)\n",
    "camcan_train_dataloader, camcan_val_dataloader = dataloader_factory(DatasetType.CAMCAN, batch_size=4)\n",
    "plot_n_batches = 1\n",
    "plot_brats_batches(brats_val_dataloader, plot_n_batches, cmap='hot')\n",
    "plot_camcan_batches(camcan_train_dataloader, plot_n_batches)\n",
    "plot_camcan_batches(camcan_val_dataloader, plot_n_batches)"
   ]
  },
  {
   "cell_type": "markdown",
   "metadata": {},
   "source": [
    "# Analyze normal / abnormal pixel distribution"
   ]
  },
  {
   "cell_type": "code",
   "execution_count": null,
   "metadata": {},
   "outputs": [],
   "source": [
    "from uncertify.evaluation.datasets import get_samples_without_lesions\n",
    "from uncertify.visualization.datasets import plot_fraction_of_abnormal_pixels\n",
    "from uncertify.visualization.datasets import plot_abnormal_pixel_distribution\n",
    "from uncertify.visualization.datasets import boxplot_abnormal_pixel_fraction"
   ]
  },
  {
   "cell_type": "code",
   "execution_count": null,
   "metadata": {
    "collapsed": false,
    "jupyter": {
     "outputs_hidden": false
    },
    "pycharm": {
     "name": "#%%\n"
    }
   },
   "outputs": [],
   "source": [
    "fig, _ = plot_abnormal_pixel_distribution(brats_val_dataloader, figsize=(12, 5), \n",
    "                                          hist_kwargs=dict(bins=30, density=True))\n",
    "fig.savefig(DATA_DIR_PATH / 'plots' / 'normal_abnormal_n_pixel_distribution.png')"
   ]
  },
  {
   "cell_type": "code",
   "execution_count": null,
   "metadata": {},
   "outputs": [],
   "source": [
    "fig, _ = plot_fraction_of_abnormal_pixels(brats_val_dataloader, figsize=(12, 5), \n",
    "                                          hist_kwargs=dict(bins=30, density=True))\n",
    "fig.savefig(DATA_DIR_PATH / 'plots' / 'abnormal_pixel_fraction.png')"
   ]
  },
  {
   "cell_type": "code",
   "execution_count": null,
   "metadata": {},
   "outputs": [],
   "source": [
    "fig, ax = boxplot_abnormal_pixel_fraction(data_loader=brats_val_dataloader, figsize=(2.5, 5))\n",
    "fig.savefig(DATA_DIR_PATH / 'plots' / 'boxplot_abnormal_pixel_fraction.png')"
   ]
  },
  {
   "cell_type": "code",
   "execution_count": null,
   "metadata": {},
   "outputs": [],
   "source": [
    "n_samples_without_lesions, n_samples_total = get_samples_without_lesions(brats_val_dataloader)\n",
    "print(f'{n_samples_without_lesions} / {n_samples_total} samples have lesional pixels.')"
   ]
  }
 ],
 "metadata": {
  "kernelspec": {
   "display_name": "Python 3",
   "language": "python",
   "name": "python3"
  },
  "language_info": {
   "codemirror_mode": {
    "name": "ipython",
    "version": 3
   },
   "file_extension": ".py",
   "mimetype": "text/x-python",
   "name": "python",
   "nbconvert_exporter": "python",
   "pygments_lexer": "ipython3",
   "version": "3.8.2"
  }
 },
 "nbformat": 4,
 "nbformat_minor": 4
}
