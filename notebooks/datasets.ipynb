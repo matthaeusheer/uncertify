{
 "cells": [
  {
   "cell_type": "code",
   "execution_count": null,
   "metadata": {},
   "outputs": [],
   "source": [
    "%load_ext autoreload\n",
    "%autoreload 2\n",
    "\n",
    "from context import uncertify"
   ]
  },
  {
   "cell_type": "code",
   "execution_count": null,
   "metadata": {},
   "outputs": [],
   "source": [
    "import logging\n",
    "from uncertify.log import setup_logging\n",
    "setup_logging()\n",
    "LOG = logging.getLogger(__name__)\n",
    "\n",
    "# Matplotlib DEBUG logging spits out a whole bunch of crap\n",
    "mpl_logger = logging.getLogger('matplotlib')\n",
    "mpl_logger.setLevel(logging.WARNING)"
   ]
  },
  {
   "cell_type": "code",
   "execution_count": null,
   "metadata": {
    "pycharm": {
     "name": "#%%\n"
    }
   },
   "outputs": [],
   "source": [
    "from itertools import islice\n",
    "\n",
    "import h5py\n",
    "import numpy as np\n",
    "from scipy import stats\n",
    "import matplotlib.pyplot as plt\n",
    "from torchvision.utils import make_grid\n",
    "\n",
    "from uncertify.common import DATA_DIR_PATH"
   ]
  },
  {
   "cell_type": "code",
   "execution_count": null,
   "metadata": {},
   "outputs": [],
   "source": [
    "BRATS_DATA_DIR = DATA_DIR_PATH / 'brats'\n",
    "CAMCAN_DATA_DIR = DATA_DIR_PATH / 'camcan'"
   ]
  },
  {
   "cell_type": "markdown",
   "metadata": {},
   "source": [
    "# Explore dataset\n",
    "Constist of two major types of objects: Datasets and Groups.\n",
    "\n",
    "Datasets: multidimensional arrays of homogeneous types.\n",
    "Groups: Hierarchical structures (file system-like)."
   ]
  },
  {
   "cell_type": "code",
   "execution_count": null,
   "metadata": {},
   "outputs": [],
   "source": [
    "brats_val_path = BRATS_DATA_DIR / 'brats_all_val.hdf5'\n",
    "camcan_val_path = CAMCAN_DATA_DIR / 'camcan_t2_val_set.hdf5'\n",
    "camcan_train_path = CAMCAN_DATA_DIR / 'camcan_t2_train_set.hdf5'\n",
    "\n",
    "for path in [brats_val_path, camcan_val_path, camcan_train_path]:\n",
    "    print(f'{path} does{\" not \" if not path.exists() else \" \"}exist!')"
   ]
  },
  {
   "cell_type": "code",
   "execution_count": null,
   "metadata": {},
   "outputs": [],
   "source": [
    "def print_datasets_info(h5py_file: h5py.File) -> None:\n",
    "    for dataset_name, dataset in h5py_file.items():\n",
    "        print(dataset)\n",
    "\n",
    "for path in [brats_val_path, camcan_val_path, camcan_train_path]:\n",
    "    name = path.name\n",
    "    h5py_file = h5py.File(path, 'r')\n",
    "    print(f'\\n --- {name} ---')\n",
    "    print_datasets_info(h5py_file)"
   ]
  },
  {
   "cell_type": "code",
   "execution_count": null,
   "metadata": {},
   "outputs": [],
   "source": [
    "def plot_samples(h5py_file: h5py.File, n_samples: int = 3, dataset_length: int = 4000, cmap: str = 'Greys_r') -> None:\n",
    "    sample_indices = np.random.choice(dataset_length, n_samples)\n",
    "    keys = sorted(list(h5py_file.keys()))\n",
    "    print(f'Columns: {\"-\".join(keys)}')\n",
    "    for counter, idx in enumerate(sample_indices):\n",
    "        fig, axes = plt.subplots(ncols=len(keys), nrows=1, figsize=(10, 10))\n",
    "        for dataset_name, dataset, ax in zip(keys, [h5py_file[key] for key in keys], axes):\n",
    "            ax.imshow(np.reshape(dataset[idx], (200, 200)), cmap=cmap)\n",
    "            ax.axis('off')\n",
    "        plt.tight_layout()\n",
    "        print(stats.describe(dataset[idx]))\n",
    "        plt.show()\n",
    "\n",
    "n_samples = 3\n",
    "plot_samples(h5py.File(brats_val_path, 'r'), n_samples=n_samples, cmap='hot')\n",
    "plot_samples(h5py.File(camcan_val_path, 'r'), n_samples=n_samples, cmap='hot')"
   ]
  },
  {
   "cell_type": "markdown",
   "metadata": {},
   "source": [
    "# Explore Dataset using Dataset and Dataloader in PyTorch"
   ]
  },
  {
   "cell_type": "code",
   "execution_count": null,
   "metadata": {},
   "outputs": [],
   "source": [
    "import torch\n",
    "from torch.utils.data import DataLoader\n",
    "import torchvision\n",
    "\n",
    "from uncertify.data.transforms import Flat2ImgTransform\n",
    "from uncertify.data.datasets import Brats2017HDF5Dataset\n",
    "from uncertify.visualization.grid import imshow_grid"
   ]
  },
  {
   "cell_type": "code",
   "execution_count": null,
   "metadata": {},
   "outputs": [],
   "source": [
    "transform = torchvision.transforms.Compose([Flat2ImgTransform(new_shape=(200, 200)),\n",
    "                                            torchvision.transforms.ToTensor()])\n",
    "\n",
    "brats_val_dataset = Brats2017HDF5Dataset(hdf5_file_path=brats_val_path, transform=transform)\n",
    "brats_val_dataloader = DataLoader(brats_val_dataset, batch_size=4, shuffle=True)"
   ]
  },
  {
   "cell_type": "code",
   "execution_count": null,
   "metadata": {},
   "outputs": [],
   "source": [
    "for sample in islice(brats_val_dataloader, 3):\n",
    "    grid = make_grid(torch.cat((sample['scan'].type(torch.FloatTensor), sample['seg'].type(torch.FloatTensor)), dim=2))\n",
    "    imshow_grid(grid, one_channel=True, plt_show=True, cmap='hot', figsize=(9, 8), axis='off')"
   ]
  }
 ],
 "metadata": {
  "kernelspec": {
   "display_name": "Python 3",
   "language": "python",
   "name": "python3"
  },
  "language_info": {
   "codemirror_mode": {
    "name": "ipython",
    "version": 3
   },
   "file_extension": ".py",
   "mimetype": "text/x-python",
   "name": "python",
   "nbconvert_exporter": "python",
   "pygments_lexer": "ipython3",
   "version": "3.8.2"
  }
 },
 "nbformat": 4,
 "nbformat_minor": 4
}
