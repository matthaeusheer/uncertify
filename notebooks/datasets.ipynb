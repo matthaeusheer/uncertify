{
 "cells": [
  {
   "cell_type": "code",
   "execution_count": null,
   "metadata": {},
   "outputs": [],
   "source": [
    "%load_ext autoreload\n",
    "%autoreload 2\n",
    "\n",
    "from context import uncertify"
   ]
  },
  {
   "cell_type": "code",
   "execution_count": null,
   "metadata": {},
   "outputs": [],
   "source": [
    "import logging\n",
    "from uncertify.log import setup_logging\n",
    "setup_logging()\n",
    "LOG = logging.getLogger(__name__)\n",
    "\n",
    "# Matplotlib DEBUG logging spits out a whole bunch of crap\n",
    "mpl_logger = logging.getLogger('matplotlib')\n",
    "mpl_logger.setLevel(logging.WARNING)"
   ]
  },
  {
   "cell_type": "code",
   "execution_count": null,
   "metadata": {
    "pycharm": {
     "name": "#%%\n"
    }
   },
   "outputs": [],
   "source": [
    "import h5py\n",
    "\n",
    "from uncertify.data.hdf5 import print_dataset_information\n",
    "from uncertify.common import DATA_DIR_PATH"
   ]
  },
  {
   "cell_type": "markdown",
   "metadata": {},
   "source": [
    "# Explore HDF5 dataset\n",
    "**As created by scripts/preprocess_brats.py**  \n",
    "Constist of two major types of objects: Datasets and Groups.\n",
    "\n",
    "Datasets: multidimensional arrays of homogeneous types.\n",
    "Groups: Hierarchical structures (file system-like)."
   ]
  },
  {
   "cell_type": "code",
   "execution_count": null,
   "metadata": {},
   "outputs": [],
   "source": [
    "PROCESSED_DIR_PATH = DATA_DIR_PATH / 'processed'\n",
    "brats_test_path = PROCESSED_DIR_PATH / 'brats17_t1_hm_bc_scale_l3.hdf5'\n",
    "\n",
    "camcan_train_path =  PROCESSED_DIR_PATH / 'camcan_train_t2_hm_scale_l10_xe.hdf5'\n",
    "camcan_test_path =  PROCESSED_DIR_PATH / 'camcan_val_t2_hm_scale_l10_xe.hdf5'\n",
    "\n",
    "# Expand when needed\n",
    "dataset_paths = [\n",
    "    camcan_train_path,\n",
    "    camcan_test_path\n",
    "]\n",
    "\n",
    "print_dataset_information(dataset_paths=dataset_paths)"
   ]
  },
  {
   "cell_type": "code",
   "execution_count": null,
   "metadata": {},
   "outputs": [],
   "source": [
    "from uncertify.visualization.datasets import plot_samples\n",
    "\n",
    "n_samples = 5\n",
    "plot_samples(h5py.File(camcan_train_path, 'r'), n_samples=n_samples, cmap='viridis', dataset_length=187, vmin=0, vmax=1)\n",
    "#plot_samples(h5py.File(brats_t1_path, 'r'), n_samples=n_samples, dataset_length=310, cmap='Greys')\n",
    "#plot_samples(h5py.File(camcan_val_path, 'r'), n_samples=n_samples, cmap='Greys')"
   ]
  },
  {
   "cell_type": "markdown",
   "metadata": {},
   "source": [
    "# Explore Dataset using Dataset and Dataloader in PyTorch"
   ]
  },
  {
   "cell_type": "code",
   "execution_count": null,
   "metadata": {},
   "outputs": [],
   "source": [
    "from uncertify.data.dataloaders import dataloader_factory, DatasetType\n",
    "from uncertify.visualization.datasets import  plot_camcan_batches\n",
    "from uncertify.visualization.datasets import plot_patient_histograms"
   ]
  },
  {
   "cell_type": "markdown",
   "metadata": {},
   "source": [
    "## Using the dataset factory"
   ]
  },
  {
   "cell_type": "code",
   "execution_count": null,
   "metadata": {},
   "outputs": [],
   "source": [
    "batch_size = 32\n",
    "plot_n_batches = 5\n",
    "nrow=8\n",
    "\n",
    "camcan_train_dataloader, camcan_val_dataloader  = dataloader_factory(DatasetType.CAMCAN, batch_size=batch_size, \n",
    "                                                 train_set_path=camcan_train_path, val_set_path=camcan_test_path, shuffle_train=True)\n",
    "\n",
    "plot_camcan_batches(camcan_train_dataloader, plot_n_batches, cmap='viridis', figsize=(18, 12), nrow=nrow, vmin=0, vmax=1)\n",
    "plot_camcan_batches(camcan_val_dataloader, plot_n_batches, cmap='viridis', figsize=(18, 12), nrow=nrow, vmin=0, vmax=1)\n",
    "\n",
    "plot_patient_histograms(camcan_train_dataloader, n_batches=plot_n_batches, accumulate_batches=False, bins=30)\n",
    "plot_patient_histograms(camcan_train_dataloader, n_batches=20, accumulate_batches=True, bins=30)"
   ]
  },
  {
   "cell_type": "markdown",
   "metadata": {},
   "source": [
    "# Analyze normal / abnormal pixel distribution"
   ]
  },
  {
   "cell_type": "code",
   "execution_count": null,
   "metadata": {},
   "outputs": [],
   "source": [
    "from uncertify.evaluation.datasets import get_samples_without_lesions\n",
    "from uncertify.visualization.datasets import plot_fraction_of_abnormal_pixels\n",
    "from uncertify.visualization.datasets import plot_abnormal_pixel_distribution\n",
    "from uncertify.visualization.datasets import boxplot_abnormal_pixel_fraction"
   ]
  },
  {
   "cell_type": "code",
   "execution_count": null,
   "metadata": {
    "collapsed": false,
    "jupyter": {
     "outputs_hidden": false
    },
    "pycharm": {
     "name": "#%%\n"
    }
   },
   "outputs": [],
   "source": [
    "fig, _ = plot_abnormal_pixel_distribution(brats_val_dataloader, figsize=(12, 5), \n",
    "                                          hist_kwargs=dict(bins=30, density=True))\n",
    "fig.savefig(DATA_DIR_PATH / 'plots' / 'normal_abnormal_n_pixel_distribution.png')"
   ]
  },
  {
   "cell_type": "code",
   "execution_count": null,
   "metadata": {},
   "outputs": [],
   "source": [
    "fig, _ = plot_fraction_of_abnormal_pixels(brats_val_dataloader, figsize=(12, 5), \n",
    "                                          hist_kwargs=dict(bins=80, density=True))\n",
    "fig.savefig(DATA_DIR_PATH / 'plots' / 'abnormal_pixel_fraction.png')"
   ]
  },
  {
   "cell_type": "code",
   "execution_count": null,
   "metadata": {},
   "outputs": [],
   "source": [
    "fig, ax = boxplot_abnormal_pixel_fraction(data_loader=brats_val_dataloader, figsize=(2.5, 5))\n",
    "fig.savefig(DATA_DIR_PATH / 'plots' / 'boxplot_abnormal_pixel_fraction.png')"
   ]
  },
  {
   "cell_type": "code",
   "execution_count": null,
   "metadata": {},
   "outputs": [],
   "source": [
    "n_samples_without_lesions, n_higher_ratio_threshold, n_samples_total = get_samples_without_lesions(brats_val_dataloader, pixel_ratio_threshold=0.01)\n",
    "print(f'{n_samples_without_lesions} / {n_samples_total} samples have lesional pixels. {n_higher_ratio_threshold} / {n_samples_total} to have more than 0.01% of lesional pixels within the brain mask.')"
   ]
  },
  {
   "cell_type": "code",
   "execution_count": null,
   "metadata": {},
   "outputs": [],
   "source": []
  }
 ],
 "metadata": {
  "kernelspec": {
   "display_name": "Python 3",
   "language": "python",
   "name": "python3"
  },
  "language_info": {
   "codemirror_mode": {
    "name": "ipython",
    "version": 3
   },
   "file_extension": ".py",
   "mimetype": "text/x-python",
   "name": "python",
   "nbconvert_exporter": "python",
   "pygments_lexer": "ipython3",
   "version": "3.8.2"
  }
 },
 "nbformat": 4,
 "nbformat_minor": 4
}
