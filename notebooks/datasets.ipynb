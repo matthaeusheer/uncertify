{
 "cells": [
  {
   "cell_type": "code",
   "execution_count": null,
   "metadata": {},
   "outputs": [],
   "source": [
    "%load_ext autoreload\n",
    "%autoreload 2\n",
    "\n",
    "from context import uncertify"
   ]
  },
  {
   "cell_type": "code",
   "execution_count": null,
   "metadata": {},
   "outputs": [],
   "source": [
    "import logging\n",
    "from uncertify.log import setup_logging\n",
    "setup_logging()\n",
    "LOG = logging.getLogger(__name__)\n",
    "\n",
    "# Matplotlib DEBUG logging spits out a whole bunch of crap\n",
    "mpl_logger = logging.getLogger('matplotlib')\n",
    "mpl_logger.setLevel(logging.WARNING)"
   ]
  },
  {
   "cell_type": "code",
   "execution_count": null,
   "metadata": {
    "pycharm": {
     "name": "#%%\n"
    }
   },
   "outputs": [],
   "source": [
    "from pathlib import Path\n",
    "\n",
    "import h5py\n",
    "\n",
    "from uncertify.data.hdf5 import print_dataset_information\n",
    "from uncertify.visualization.datasets import plot_samples\n",
    "from uncertify.data.dataloaders import dataloader_factory, DatasetType\n",
    "from uncertify.visualization.datasets import  plot_camcan_batches, plot_brats_batches\n",
    "from uncertify.visualization.datasets import plot_patient_histograms\n",
    "from uncertify.common import DATA_DIR_PATH"
   ]
  },
  {
   "cell_type": "markdown",
   "metadata": {},
   "source": [
    "# Explore HDF5 dataset\n",
    "Ability to plot raw data directly out of HDF5 file."
   ]
  },
  {
   "cell_type": "code",
   "execution_count": null,
   "metadata": {},
   "outputs": [],
   "source": [
    "PROCESSED_DIR_PATH = DATA_DIR_PATH / 'processed'\n",
    "\n",
    "PROCESSED_DIR_PATH = Path('/media/juniors/2TB_internal_HD/datasets/processed/')\n",
    "# PROCESSED_DIR_PATH = DATA_DIR_PATH / 'processed'\n",
    "\n",
    "brats_t2_path = PROCESSED_DIR_PATH / 'brats17_t2_bc_std_bv3.5_l10.hdf5'\n",
    "brats_t2_hm_path = PROCESSED_DIR_PATH / 'brats17_t2_hm_bc_std_bv-3.5.hdf5'\n",
    "brats_t1_path = PROCESSED_DIR_PATH / 'brats17_t1_bc_std_bv3.5_l10.hdf5'\n",
    "brats_t1_hm_path = PROCESSED_DIR_PATH / 'brats17_t1_hm_bc_std_bv-3.5.hdf5'\n",
    "\n",
    "camcan_train_path =  PROCESSED_DIR_PATH / 'camcan_train_t2_hm_std_bv3.5_xe.hdf5'\n",
    "camcan_train_path = Path('/home/juniors/code/uncertify/data/processed/camcan_train_t2_hm_std_bv3.5_xe.hdf5')\n",
    "camcan_val_path =  PROCESSED_DIR_PATH / 'camcan_val_t2_hm_std_bv3.5_xe.hdf5'\n",
    "\n",
    "# Expand when needed\n",
    "dataset_paths = [\n",
    "    camcan_train_path,\n",
    "    #camcan_val_path,\n",
    "    brats_t2_path,\n",
    "    #brats_t2_hm_path,\n",
    "    #brats_t1_path,\n",
    "    #brats_t1_hm_path\n",
    "]\n",
    "\n",
    "print_dataset_information(dataset_paths=dataset_paths)\n",
    "for path in dataset_paths:\n",
    "    plot_n_slices = 1\n",
    "    print(f'DATSET: {path.name}')\n",
    "    plot_samples(h5py.File(path, 'r'), n_samples=plot_n_slices, cmap='hot', dataset_length=187, vmin=-3.5, vmax=4)"
   ]
  },
  {
   "cell_type": "markdown",
   "metadata": {},
   "source": [
    "# Explore Dataset using Dataset and Dataloader in PyTorch"
   ]
  },
  {
   "cell_type": "markdown",
   "metadata": {},
   "source": [
    "### Visualize CamCAN Training Data"
   ]
  },
  {
   "cell_type": "code",
   "execution_count": null,
   "metadata": {},
   "outputs": [],
   "source": [
    "batch_size = 32\n",
    "plot_n_batches = 5\n",
    "nrow=8\n",
    "\n",
    "camcan_train_dataloader, camcan_val_dataloader  = dataloader_factory(DatasetType.CAMCAN, batch_size=batch_size, \n",
    "                                                 train_set_path=camcan_train_path, val_set_path=camcan_val_path, shuffle_train=True)\n",
    "\n",
    "plot_camcan_batches(camcan_train_dataloader, plot_n_batches, cmap='hot', figsize=(18, 12), nrow=nrow, vmin=-3.5, vmax=4)\n",
    "plot_camcan_batches(camcan_val_dataloader, plot_n_batches, cmap='hot', figsize=(18, 12), nrow=nrow, vmin=-3.5, vmax=4)\n",
    "\n",
    "plot_patient_histograms(camcan_train_dataloader, n_batches=plot_n_batches, accumulate_batches=False, bins=30)\n",
    "plot_patient_histograms(camcan_train_dataloader, n_batches=20, accumulate_batches=True, bins=30)"
   ]
  },
  {
   "cell_type": "markdown",
   "metadata": {},
   "source": [
    "### Visualize BraTS Validation Data"
   ]
  },
  {
   "cell_type": "code",
   "execution_count": null,
   "metadata": {},
   "outputs": [],
   "source": [
    "batch_size = 155\n",
    "plot_n_batches = 2\n",
    "nrow=32\n",
    "\n",
    "HDD_PROCESSED_DIR_PATH = Path('/media/juniors/2TB_internal_HD/datasets/processed/')\n",
    "_, brats_val_dataloader = dataloader_factory(DatasetType.BRATS17, batch_size=batch_size, \n",
    "                                             val_set_path=brats_t2_path, shuffle_val=False)\n",
    "\n",
    "plot_brats_batches(brats_val_dataloader, plot_n_batches, cmap='hot', figsize=(18, 12), nrow=nrow, vmin=-3.5, vmax=4)\n",
    "\n",
    "plot_patient_histograms(brats_val_dataloader, n_batches=plot_n_batches, accumulate_batches=False, bins=30)\n",
    "plot_patient_histograms(brats_val_dataloader, n_batches=20, accumulate_batches=True, bins=30)"
   ]
  },
  {
   "cell_type": "markdown",
   "metadata": {},
   "source": [
    "# Analyze normal / abnormal pixel distribution"
   ]
  },
  {
   "cell_type": "code",
   "execution_count": null,
   "metadata": {},
   "outputs": [],
   "source": [
    "from uncertify.evaluation.datasets import get_samples_without_lesions\n",
    "from uncertify.visualization.datasets import plot_fraction_of_abnormal_pixels\n",
    "from uncertify.visualization.datasets import plot_abnormal_pixel_distribution\n",
    "from uncertify.visualization.datasets import boxplot_abnormal_pixel_fraction"
   ]
  },
  {
   "cell_type": "code",
   "execution_count": null,
   "metadata": {
    "collapsed": false,
    "jupyter": {
     "outputs_hidden": false
    },
    "pycharm": {
     "name": "#%%\n"
    }
   },
   "outputs": [],
   "source": [
    "fig, _ = plot_abnormal_pixel_distribution(brats_val_dataloader, figsize=(12, 5), \n",
    "                                          hist_kwargs=dict(bins=30, density=True))\n",
    "fig.savefig(DATA_DIR_PATH / 'plots' / 'normal_abnormal_n_pixel_distribution.png')"
   ]
  },
  {
   "cell_type": "code",
   "execution_count": null,
   "metadata": {},
   "outputs": [],
   "source": [
    "fig, _ = plot_fraction_of_abnormal_pixels(brats_val_dataloader, figsize=(12, 5), \n",
    "                                          hist_kwargs=dict(bins=80, density=True))\n",
    "fig.savefig(DATA_DIR_PATH / 'plots' / 'abnormal_pixel_fraction.png')"
   ]
  },
  {
   "cell_type": "code",
   "execution_count": null,
   "metadata": {},
   "outputs": [],
   "source": [
    "fig, ax = boxplot_abnormal_pixel_fraction(data_loader=brats_val_dataloader, figsize=(2.5, 5))\n",
    "fig.savefig(DATA_DIR_PATH / 'plots' / 'boxplot_abnormal_pixel_fraction.png')"
   ]
  },
  {
   "cell_type": "code",
   "execution_count": null,
   "metadata": {},
   "outputs": [],
   "source": [
    "n_samples_without_lesions, n_higher_ratio_threshold, n_samples_total = get_samples_without_lesions(brats_val_dataloader, pixel_ratio_threshold=0.01)\n",
    "print(f'{n_samples_without_lesions} / {n_samples_total} samples have lesional pixels. {n_higher_ratio_threshold} / {n_samples_total} to have more than 0.01% of lesional pixels within the brain mask.')"
   ]
  },
  {
   "cell_type": "code",
   "execution_count": null,
   "metadata": {},
   "outputs": [],
   "source": []
  }
 ],
 "metadata": {
  "kernelspec": {
   "display_name": "Python 3",
   "language": "python",
   "name": "python3"
  },
  "language_info": {
   "codemirror_mode": {
    "name": "ipython",
    "version": 3
   },
   "file_extension": ".py",
   "mimetype": "text/x-python",
   "name": "python",
   "nbconvert_exporter": "python",
   "pygments_lexer": "ipython3",
   "version": "3.8.2"
  }
 },
 "nbformat": 4,
 "nbformat_minor": 4
}
