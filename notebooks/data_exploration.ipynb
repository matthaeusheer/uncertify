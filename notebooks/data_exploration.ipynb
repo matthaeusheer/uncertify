{
 "cells": [
  {
   "cell_type": "markdown",
   "metadata": {},
   "source": [
    "# Magic commands and import section"
   ]
  },
  {
   "cell_type": "code",
   "execution_count": null,
   "metadata": {},
   "outputs": [],
   "source": [
    "try:  # for ipykernel\n",
    "    %matplotlib inline\n",
    "    %load_ext autoreload\n",
    "    %autoreload 2\n",
    "except Exception:  # magic commands don't work with xeus-python (which supports debugging)\n",
    "    pass"
   ]
  },
  {
   "cell_type": "code",
   "execution_count": null,
   "metadata": {},
   "outputs": [],
   "source": [
    "from context import uncertify\n",
    "\n",
    "import logging\n",
    "from uncertify.log import setup_logging\n",
    "setup_logging()\n",
    "LOG = logging.getLogger(__name__)\n",
    "\n",
    "# Matplotlib DEBUG logging spits out a whole bunch of crap\n",
    "mpl_logger = logging.getLogger('matplotlib')\n",
    "mpl_logger.setLevel(logging.WARNING)"
   ]
  },
  {
   "cell_type": "code",
   "execution_count": null,
   "metadata": {},
   "outputs": [],
   "source": [
    "from pathlib import Path\n",
    "\n",
    "import matplotlib.pyplot as plt\n",
    "import torch\n",
    "from torchvision.utils import make_grid\n",
    "import nibabel as nib\n",
    "import numpy as np\n",
    "import cv2\n",
    "\n",
    "from typing import List\n",
    "\n",
    "from uncertify.visualization.grid import imshow_grid\n",
    "from uncertify.visualization.plotting import imshow"
   ]
  },
  {
   "cell_type": "markdown",
   "metadata": {},
   "source": [
    "# ISBR v2.0"
   ]
  },
  {
   "cell_type": "code",
   "execution_count": null,
   "metadata": {},
   "outputs": [],
   "source": [
    "def show_center_views_nib_img(nib_img) -> None:\n",
    "    if len(nib_img.shape) == 4:\n",
    "        np_image = img.get_fdata()[:, :, :, 0]\n",
    "    else:\n",
    "        np_image = img.get_fdata()\n",
    "    print(f'Data shape: {np_image.shape}')\n",
    "    i, j, k = np.array(np_image.shape) // 2\n",
    "    fig, axes = plt.subplots(1, 3, figsize=(8, 4))\n",
    "    imshow(np.flipud(np_image[i, :, :]), ax=axes[0], add_colorbar=False, axis='on')\n",
    "    imshow(np.flipud(np_image[:, j, :].T), ax=axes[1], add_colorbar=False, axis='on')\n",
    "    axes[1].set_aspect(1.5)\n",
    "    imshow(np.flipud(np_image[:, :, k].T), ax=axes[2], add_colorbar=False, axis='on')\n",
    "    plt.tight_layout()\n",
    "    #plt.axis('off')\n",
    "    plt.show()\n",
    "\n",
    "img = nib.load('/mnt/2TB_internal_HD/datasets/raw/CANDI/SchizBull_2008_BPDwPsy_segimgreg_V1.2/SchizBull_2008/BPDwithPsy/BPDwPsy_074/BPDwPsy_074_procimg.nii.gz')\n",
    "show_center_views_nib_img(img)\n",
    "\n",
    "print(img)"
   ]
  },
  {
   "cell_type": "code",
   "execution_count": null,
   "metadata": {},
   "outputs": [],
   "source": [
    "def to_torch_tensor(nib_image, remove_last_dim: bool = False, permutation: tuple = None, scale: float = None, \n",
    "                    to_binary: bool = False, mask_img= None, rotate90_ax: tuple = None, rotate_k: int = 1) -> None:\n",
    "    \"\"\"Converts a nib scan to a pytorch tensor with the appropriate processing steps.\"\"\"\n",
    "    print(f'Original data shape {nib_image.shape}')\n",
    "    np_image = nib_image.get_fdata()\n",
    "    if remove_last_dim:\n",
    "        np_image = np_image[:, :, :, 0]\n",
    "    if permutation is not None:\n",
    "        np_image = np.transpose(np_image, permutation)\n",
    "    if to_binary:\n",
    "        np_image = np.array(np_image != 0, dtype=float)\n",
    "    if rotate90_ax:\n",
    "        np_image = np.rot90(np_image, k=rotate_k, axes=rotate90_ax)\n",
    "    n_axial_views, height, width = np_image.shape\n",
    "    print(f'{n_axial_views} axial views')\n",
    "    if scale is not None:\n",
    "        width = int(width / scale)\n",
    "    axial_views = np.empty((n_axial_views, 1, height, width))\n",
    "    for axial_idx in range(n_axial_views):\n",
    "        axial_views[axial_idx, 0, :, :] = cv2.resize(np_image[axial_idx], (width, height))\n",
    "    return torch.tensor(axial_views)\n",
    "    \n",
    "def visualize_tensor_as_grid(tensor: torch.Tensor, **kwargs) -> None:\n",
    "    grid = make_grid(tensor, nrow=16)\n",
    "    imshow_grid(grid, one_channel=True, figsize=(15, 15), axis='off', **kwargs)\n",
    "    plt.show()\n",
    "\n",
    "\n",
    "def visualize_scan_mask_grid(scan_tensor: torch.tensor, mask_tensor: torch.tensor, show_orig_and_mask: bool = False, cmap: str = None) -> None:\n",
    "    if show_orig_and_mask:\n",
    "        visualize_tensor_as_grid(scan_tensor, cmap=cmap, add_colorbar=False)\n",
    "        visualize_tensor_as_grid(mask_tensor.type(torch.FloatTensor), cmap=cmap, add_colorbar=False)\n",
    "    visualize_tensor_as_grid(scan_tensor * mask_tensor, cmap=cmap, add_colorbar=False)\n",
    "\n",
    "    \n",
    "def visualize_isbr_scan_mask_grid(dir_path: Path, sample_nr: str, cmap: str = 'hot') -> None:\n",
    "    data_dir_path = dir_path / f'IBSR_{sample_nr}'\n",
    "    scan_file_path = data_dir_path / f'IBSR_{sample_nr}_ana.nii.gz'\n",
    "    mask_file_path = data_dir_path / f'IBSR_{sample_nr}_ana_brainmask.nii.gz'\n",
    "    scan_img = nib.load(scan_file_path)\n",
    "    mask_img = nib.load(mask_file_path)\n",
    "    scan_tensor = to_torch_tensor(scan_img, remove_last_dim=True, permutation=(1, 0, 2), scale=1.5, rotate90_ax=(1, 2))\n",
    "    mask_tensor = to_torch_tensor(mask_img, remove_last_dim=True, permutation=(2, 0, 1), scale=1.5, rotate90_ax=(1, 2)).type(torch.BoolTensor)\n",
    "    visualize_scan_mask_grid(scan_tensor, mask_tensor)\n",
    "\n",
    "def visualize_candi_scan_mask_grid(dir_path: Path, series: str, sample_nr: str, cmap: str = 'gray') -> None:\n",
    "    data_dir_path = dir_path / f'SS_{sample_nr}'\n",
    "    scan_file_path = data_dir_path / f'{series}_{sample_nr}_procimg.nii.gz'\n",
    "    mask_file_path = data_dir_path / f'{series}_{sample_nr}.seg.nii.gz'\n",
    "    scan_img = nib.load(scan_file_path)\n",
    "    mask_img = nib.load(mask_file_path)\n",
    "    scan_tensor = to_torch_tensor(scan_img, remove_last_dim=False, permutation=(1, 0, 2), scale=1.5, rotate90_ax=(1, 2))\n",
    "    mask_tensor = to_torch_tensor(mask_img, remove_last_dim=False, permutation=(1, 0, 2), scale=1.5, rotate90_ax=(1, 2)).type(torch.BoolTensor)\n",
    "    visualize_scan_mask_grid(scan_tensor, mask_tensor, show_orig_and_mask=True, cmap=cmap)\n",
    "\n",
    "# IBSR\n",
    "#visualize_isbr_scan_mask_grid(Path('/mnt/2TB_internal_HD/datasets/raw/IBSR/IBSR_V2.0_nifti_stripped/IBSR_nifti_stripped'), sample_nr='02')\n",
    "\n",
    "# CANDI\n",
    "visualize_candi_scan_mask_grid(Path('/mnt/2TB_internal_HD/datasets/raw/CANDI/SchizBull_2008_SS_segimgreg_V1.2/SchizBull_2008/SS'), series='SS', sample_nr='084')\n",
    "\n",
    "# IXI\n",
    "#img = nib.load('/mnt/2TB_internal_HD/datasets/raw/IXI/T1w/IXI026-Guys-0696-T1.nii.gz')\n",
    "#ixi_tensor = to_torch_tensor(img, remove_last_dim=False, permutation=(1, 0, 2), rotate90_ax=(2, 1), rotate_k=0)\n",
    "#visualize_tensor_as_grid(ixi_tensor, cmap='hot', add_colorbar=False, vmin=0, vmax=2000)\n",
    "\n",
    "\"\"\"\n",
    "# BraTS\n",
    "img = nib.load('/mnt/2TB_internal_HD/datasets/raw/BraTS17/training/HGG/Brats17_CBICA_ABN_1/Brats17_CBICA_ABN_1_t1.nii.gz')\n",
    "brats_tensor = to_torch_tensor(img, remove_last_dim=False, permutation=(2, 0, 1), rotate90_ax=(2, 1))\n",
    "visualize_tensor_as_grid(brats_tensor, cmap='hot', add_colorbar=False, vmin=0)\n",
    "\n",
    "# CamCAN\n",
    "img = nib.load('/mnt/2TB_internal_HD/datasets/raw/CamCAN/T1w/sub-CC110037_T1w_unbiased.nii.gz')\n",
    "camcan_tensor = to_torch_tensor(img, remove_last_dim=False, permutation=(2, 0, 1), rotate90_ax=(2, 1))\n",
    "visualize_tensor_as_grid(camcan_tensor, cmap='hot', add_colorbar=False, vmin=0)\n",
    "\"\"\"\n"
   ]
  },
  {
   "cell_type": "markdown",
   "metadata": {},
   "source": [
    "# Using the mrivis package"
   ]
  },
  {
   "cell_type": "code",
   "execution_count": null,
   "metadata": {},
   "outputs": [],
   "source": [
    "from mrivis import SlicePicker\n",
    "from mrivis import Collage\n",
    "from mrivis.utils import scale_0to1\n",
    "\n",
    "#img = nib.load('/mnt/2TB_internal_HD/datasets/raw/IBSR/IBSR_V2.0_nifti_stripped/IBSR_nifti_stripped/IBSR_03/IBSR_03_ana.nii.gz')\n",
    "#img = nib.load('/mnt/2TB_internal_HD/datasets/raw/BraTS17/training/HGG/Brats17_CBICA_ABN_1/Brats17_CBICA_ABN_1_t1.nii.gz')\n",
    "#np_img = img.get_fdata()[:, :, :, 0]  # last dimension (probably time) can be discarded\n",
    "np_img = img.get_fdata()\n",
    "sp = SlicePicker(np_img, view_set=(1, ), num_slices=20)\n",
    "\n",
    "# Plotting individual slices\n",
    "for sl_data in sp.get_slices():\n",
    "    np_img = np.flipud(sl_data)\n",
    "    height, width = np_img.shape\n",
    "    np_img = cv2.resize(np_img, (int(width / 1.5), height))\n",
    "    imshow(np_img, add_colorbar=False, figsize=(4, 4))\n",
    "    plt.show()"
   ]
  },
  {
   "cell_type": "code",
   "execution_count": null,
   "metadata": {},
   "outputs": [],
   "source": [
    "# Plotting a collage\n",
    "collage = Collage()\n",
    "collage.attach(scale_0to1(np_img))\n",
    "plt.show(collage.fig) "
   ]
  },
  {
   "cell_type": "code",
   "execution_count": null,
   "metadata": {
    "collapsed": false,
    "jupyter": {
     "outputs_hidden": false
    },
    "pycharm": {
     "name": "#%%\n"
    }
   },
   "outputs": [],
   "source": []
  }
 ],
 "metadata": {
  "kernelspec": {
   "display_name": "uncertify-env",
   "language": "python",
   "name": "uncertify-env"
  },
  "language_info": {
   "codemirror_mode": {
    "name": "ipython",
    "version": 3
   },
   "file_extension": ".py",
   "mimetype": "text/x-python",
   "name": "python",
   "nbconvert_exporter": "python",
   "pygments_lexer": "ipython3",
   "version": "3.8.6"
  }
 },
 "nbformat": 4,
 "nbformat_minor": 4
}
