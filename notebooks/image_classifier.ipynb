{
 "cells": [
  {
   "cell_type": "markdown",
   "metadata": {
    "pycharm": {
     "name": "#%% md\n"
    }
   },
   "source": [
    "# Example of an Image Classifier in PyTorch"
   ]
  },
  {
   "cell_type": "code",
   "execution_count": null,
   "metadata": {
    "collapsed": false,
    "jupyter": {
     "outputs_hidden": false
    },
    "pycharm": {
     "name": "#%%\n"
    }
   },
   "outputs": [],
   "source": [
    "from time import time\n",
    "from pathlib import Path\n",
    "import itertools\n",
    "\n",
    "from context import uncertify\n",
    "from uncertify.common import DATA_DIR_PATH\n",
    "from uncertify.utils.date_utils import get_date_time_tag\n",
    "\n",
    "import matplotlib.pyplot as plt\n",
    "from torch.utils.data import DataLoader\n",
    "import numpy as np\n",
    "import torchvision\n",
    "import torchvision.transforms as transforms\n",
    "import torch.nn as nn\n",
    "import torch.nn.functional as F\n",
    "import torch.optim\n",
    "from torch.utils.tensorboard import SummaryWriter\n",
    "\n",
    "from typing import Tuple"
   ]
  },
  {
   "cell_type": "code",
   "execution_count": null,
   "metadata": {
    "collapsed": false,
    "jupyter": {
     "outputs_hidden": false
    },
    "pycharm": {
     "name": "#%%\n"
    }
   },
   "outputs": [],
   "source": [
    "BATCH_SIZE = 64\n",
    "NUM_WORKERS = 4\n",
    "DEVICE_MAP = {'gpu': torch.device('cuda:0'), 'cpu': torch.device('cpu')}\n",
    "CIFAR10_CLASSES = ('plane', 'car', 'bird', 'cat', 'deer', 'dog', 'frog', 'horse', 'ship', 'truck')\n",
    "CIFAR_TRANSFORM = transforms.Compose([transforms.ToTensor(),\n",
    "                                 transforms.Normalize(mean=(0, 0, 0),\n",
    "                                                      std=(1.0, 1.0, 1.0))])\n",
    "MNIST_TRANSFORM = transforms.Compose([transforms.ToTensor()])"
   ]
  },
  {
   "cell_type": "code",
   "execution_count": null,
   "metadata": {
    "collapsed": false,
    "jupyter": {
     "outputs_hidden": false
    },
    "pycharm": {
     "name": "#%%\n"
    }
   },
   "outputs": [],
   "source": [
    "def get_cifar10_data_loaders(transform: transforms.Compose,\n",
    "                             data_path: Path,\n",
    "                             batch_size: int,\n",
    "                             num_workers: int) -> Tuple[DataLoader, DataLoader]:\n",
    "    train_set = torchvision.datasets.CIFAR10(root=data_path,\n",
    "                                             train=True,\n",
    "                                             download=True,\n",
    "                                             transform=transform)\n",
    "    train_loader = DataLoader(train_set,\n",
    "                              batch_size=BATCH_SIZE,\n",
    "                              shuffle=True,\n",
    "                              num_workers=NUM_WORKERS)\n",
    "\n",
    "    test_set = torchvision.datasets.CIFAR10(root=data_path,\n",
    "                                            train=False,\n",
    "                                            download=True,\n",
    "                                            transform=transform)\n",
    "    test_loader = DataLoader(test_set,\n",
    "                             batch_size=batch_size,\n",
    "                             shuffle=False,\n",
    "                             num_workers=num_workers)\n",
    "    return train_loader, test_loader\n",
    "\n",
    "def get_mnist_data_loaders(transform: transforms.Compose,\n",
    "                             data_path: Path,\n",
    "                             batch_size: int,\n",
    "                             num_workers: int) -> Tuple[DataLoader, DataLoader]:\n",
    "    train_set = torchvision.datasets.MNIST(root=data_path,\n",
    "                                             train=True,\n",
    "                                             download=True,\n",
    "                                             transform=transform)\n",
    "    train_loader = DataLoader(train_set,\n",
    "                              batch_size=BATCH_SIZE,\n",
    "                              shuffle=True,\n",
    "                              num_workers=NUM_WORKERS)\n",
    "\n",
    "    test_set = torchvision.datasets.MNIST(root=data_path,\n",
    "                                            train=False,\n",
    "                                            download=True,\n",
    "                                            transform=transform)\n",
    "    test_loader = DataLoader(test_set,\n",
    "                             batch_size=batch_size,\n",
    "                             shuffle=False,\n",
    "                             num_workers=num_workers)\n",
    "    return train_loader, test_loader\n",
    "\n",
    "\n",
    "train_loader, test_loader = get_cifar10_data_loaders(transform=CIFAR_TRANSFORM, data_path=DATA_DIR_PATH / 'cifar10_data',\n",
    "                                                     batch_size=BATCH_SIZE, num_workers=NUM_WORKERS)\n",
    "train_loader, test_loader = get_mnist_data_loaders(transform=MNIST_TRANSFORM, data_path=DATA_DIR_PATH / 'mnist_data',\n",
    "                                                     batch_size=BATCH_SIZE, num_workers=NUM_WORKERS)"
   ]
  },
  {
   "cell_type": "code",
   "execution_count": null,
   "metadata": {
    "collapsed": false,
    "jupyter": {
     "outputs_hidden": false
    },
    "pycharm": {
     "name": "#%%\n"
    }
   },
   "outputs": [],
   "source": [
    "def matplotlib_imshow(img, one_channel=False, plt_show=False):\n",
    "    if one_channel:\n",
    "        img = img.mean(dim=0)\n",
    "    npimg = img.numpy()\n",
    "    if one_channel:\n",
    "        plt.imshow(npimg, cmap=\"Greys\")\n",
    "    else:\n",
    "        plt.imshow(np.transpose(npimg, (1, 2, 0)))\n",
    "    if plt_show:\n",
    "        plt.show()\n",
    "\n",
    "def plot_n_batches(data_loader: DataLoader, n_first_batches: int, classes: Tuple[str]) -> None:\n",
    "    # get some random training images\n",
    "    for images, labels in itertools.islice(data_loader, n_first_batches):\n",
    "        print(images.shape)\n",
    "        grid = torchvision.utils.make_grid(images)\n",
    "        matplotlib_imshow(grid, plt_show=True)\n",
    "        print(' - '.join([classes[idx] for idx in labels]))\n",
    "\n",
    "plot_n_batches(train_loader, n_first_batches=1, classes=CIFAR10_CLASSES)"
   ]
  },
  {
   "cell_type": "code",
   "execution_count": null,
   "metadata": {},
   "outputs": [],
   "source": [
    "from uncertify.models.gradient import GradientNet\n",
    "\n",
    "for batch, _ in itertools.islice(train_loader, 1):\n",
    "    grad = GradientNet()(batch)  # onyl works with 1-channel (greyscale image)\n",
    "    grid = torchvision.utils.make_grid(grad, normalize=True)\n",
    "    matplotlib_imshow(grid)"
   ]
  },
  {
   "cell_type": "code",
   "execution_count": null,
   "metadata": {
    "collapsed": false,
    "jupyter": {
     "outputs_hidden": false
    },
    "pycharm": {
     "name": "#%%\n"
    }
   },
   "outputs": [],
   "source": [
    "class Net(nn.Module):\n",
    "    def __init__(self) -> None:\n",
    "        super().__init__()\n",
    "        self.conv_1 = nn.Conv2d(in_channels=3, out_channels=6, kernel_size=5)\n",
    "        self.pool = nn.AvgPool2d(kernel_size=2, stride=2)\n",
    "        self.conv_2 = nn.Conv2d(in_channels=6, out_channels=16, kernel_size=5)\n",
    "        self.fc_1 = nn.Linear(in_features=16 * 5 * 5, out_features=120)\n",
    "        self.fc_2 = nn.Linear(in_features=120, out_features=84)\n",
    "        self.fc_3 = nn.Linear(in_features=84, out_features=10)\n",
    "\n",
    "    def forward(self, x):\n",
    "        x = self.pool(F.relu(self.conv_1(x)))  # passing input through convolutional layer, then relu then pooling\n",
    "        x = self.pool(F.relu(self.conv_2(x)))\n",
    "        x = x.view(-1, 16 * 5 * 5)\n",
    "        x = F.relu(self.fc_1(x))\n",
    "        x = F.relu(self.fc_2(x))\n",
    "        x = self.fc_3(x)\n",
    "        return x"
   ]
  },
  {
   "cell_type": "code",
   "execution_count": null,
   "metadata": {
    "collapsed": false,
    "jupyter": {
     "outputs_hidden": false
    },
    "pycharm": {
     "name": "#%%\n"
    }
   },
   "outputs": [],
   "source": [
    "LEARNING_RATE = 0.001\n",
    "\n",
    "net = Net()\n",
    "loss_func = nn.CrossEntropyLoss()\n",
    "optimizer = torch.optim.SGD(net.parameters(), lr=LEARNING_RATE, momentum=0.9)"
   ]
  },
  {
   "cell_type": "code",
   "execution_count": null,
   "metadata": {
    "collapsed": false,
    "jupyter": {
     "outputs_hidden": false
    },
    "pycharm": {
     "name": "#%%\n"
    }
   },
   "outputs": [],
   "source": [
    "def images_to_probs(network, images):\n",
    "    \"\"\"Generates predictions and corresponding probabilities from a trained network and a list of images.\"\"\"\n",
    "    output = network(images)\n",
    "    # convert output probabilities to predicted class\n",
    "    _, preds_tensor = torch.max(output, 1)\n",
    "    preds = np.squeeze(preds_tensor.cpu().numpy())\n",
    "    return preds, [F.softmax(el, dim=0)[i].item() for i, el in zip(preds, output)]\n",
    "\n",
    "\n",
    "def plot_classes_preds(net, images, labels, classes):\n",
    "    \"\"\"Generates matplotlib Figure using a trained network, along with images and labels from a batch,\n",
    "    that shows the network's top prediction along\n",
    "    with its probability, alongside the actual label, coloring this\n",
    "    information based on whether the prediction was correct or not.\n",
    "    Uses the \"images_to_probs\" function.\n",
    "    \"\"\"\n",
    "    preds, probs = images_to_probs(net, images)\n",
    "    # plot the images in the batch, along with predicted and true labels\n",
    "    fig = plt.figure(figsize=(12, 48))\n",
    "    for idx in np.arange(4):\n",
    "        ax = fig.add_subplot(1, 4, idx+1, xticks=[], yticks=[])\n",
    "        matplotlib_imshow(images[idx].cpu(), one_channel=True)\n",
    "        ax.set_title(\"{0}, {1:.1f}%\\n(label: {2})\".format(\n",
    "            classes[preds[idx]],\n",
    "            probs[idx] * 100.0,\n",
    "            classes[labels[idx]]),\n",
    "                    color=(\"green\" if preds[idx]==labels[idx].item() else \"red\"))\n",
    "    return fig"
   ]
  },
  {
   "cell_type": "code",
   "execution_count": null,
   "metadata": {
    "collapsed": false,
    "jupyter": {
     "outputs_hidden": false
    },
    "pycharm": {
     "name": "#%%\n"
    }
   },
   "outputs": [],
   "source": [
    "N_EPOCHS = 2\n",
    "PRINT_STEPS = 1000\n",
    "GPU_ON = True\n",
    "\n",
    "writer = SummaryWriter(DATA_DIR_PATH / \"cifar10_runs\" / get_date_time_tag())\n",
    "device = DEVICE_MAP['gpu' if GPU_ON else 'cpu']\n",
    "net = Net()\n",
    "loss_func = nn.CrossEntropyLoss()\n",
    "optimizer = torch.optim.SGD(net.parameters(), lr=LEARNING_RATE, momentum=0.9)\n",
    "net = net.to(device)\n",
    "start_time = time()\n",
    "for epoch_idx in range(N_EPOCHS):\n",
    "    running_loss = 0.0\n",
    "    for batch_idx, (inputs, labels) in enumerate(train_loader):\n",
    "        if GPU_ON:\n",
    "            inputs, labels = inputs.to(device), labels.to(device)\n",
    "        optimizer.zero_grad()  # zero all parameter gradients\n",
    "        outputs = net.forward(inputs)  # feed data through network\n",
    "        loss = loss_func(outputs, labels)  # compute loss\n",
    "        loss.backward()  # perform back propagation\n",
    "        optimizer.step()  # perform an update step on the parameters\n",
    "        running_loss += loss.item()\n",
    "        if (batch_idx + 1) % PRINT_STEPS == 0:\n",
    "            print(f'epoch {epoch_idx + 1:<2} | batch {batch_idx + 1:5}  >>>  loss: {running_loss / PRINT_STEPS:.3f}')\n",
    "            writer.add_scalar('training loss',\n",
    "                running_loss / 1000,\n",
    "                epoch_idx * len(train_loader) + batch_idx)\n",
    "            writer.add_figure('predictions vs. actuals',\n",
    "                            plot_classes_preds(net, inputs, labels, CIFAR10_CLASSES),\n",
    "                            global_step=epoch_idx * len(train_loader) + batch_idx)\n",
    "            running_loss = 0.0\n",
    "print(f'Training on {\"gpu\" if GPU_ON else \"cpu\"} took {time()-start_time:.2f} seconds.')"
   ]
  },
  {
   "cell_type": "code",
   "execution_count": null,
   "metadata": {
    "collapsed": false,
    "jupyter": {
     "outputs_hidden": false
    },
    "pycharm": {
     "name": "#%%\n"
    }
   },
   "outputs": [],
   "source": [
    "MODEL_PATH = DATA_DIR_PATH / 'cifar10_data' / 'cifar_net.pth'\n",
    "torch.save(net.state_dict(), MODEL_PATH)"
   ]
  },
  {
   "cell_type": "code",
   "execution_count": null,
   "metadata": {
    "collapsed": false,
    "jupyter": {
     "outputs_hidden": false
    },
    "pycharm": {
     "name": "#%%\n"
    }
   },
   "outputs": [],
   "source": [
    "import itertools\n",
    "\n",
    "net = Net()\n",
    "net.load_state_dict(torch.load(MODEL_PATH))\n",
    "\n",
    "for images, labels in itertools.islice(test_loader, 1):\n",
    "    matplotlib_imshow(torchvision.utils.make_grid(images))\n",
    "    print('GroundTruth: ', ' '.join('%5s' % CIFAR10_CLASSES[labels[j]] for j in range(4)))\n",
    "    outputs = net(images)\n",
    "    _, predicted = torch.max(outputs, 1)\n",
    "    print('Predicted: ', ' '.join('%5s' % CIFAR10_CLASSES[predicted[j]]\n",
    "                                  for j in range(4)))\n"
   ]
  },
  {
   "cell_type": "code",
   "execution_count": null,
   "metadata": {
    "collapsed": false,
    "jupyter": {
     "outputs_hidden": false
    },
    "pycharm": {
     "name": "#%%\n"
    }
   },
   "outputs": [],
   "source": [
    "correct = 0\n",
    "total = 0\n",
    "with torch.no_grad():\n",
    "    for data in test_loader:\n",
    "        images, labels = data\n",
    "        outputs = net(images)\n",
    "        _, predicted = torch.max(outputs.data, 1)\n",
    "        total += labels.size(0)\n",
    "        correct += (predicted == labels).sum().item()\n",
    "\n",
    "print('Accuracy of the network on the 10000 test images: %d %%' % (\n",
    "    100 * correct / total))"
   ]
  },
  {
   "cell_type": "code",
   "execution_count": null,
   "metadata": {
    "collapsed": false,
    "jupyter": {
     "outputs_hidden": false
    },
    "pycharm": {
     "name": "#%%\n"
    }
   },
   "outputs": [],
   "source": [
    "class_correct = list(0. for i in range(10))\n",
    "class_total = list(0. for i in range(10))\n",
    "with torch.no_grad():\n",
    "    for data in test_loader:\n",
    "        images, labels = data\n",
    "        outputs = net(images)\n",
    "        _, predicted = torch.max(outputs, 1)\n",
    "        c = (predicted == labels).squeeze()\n",
    "        for i in range(4):\n",
    "            label = labels[i]\n",
    "            class_correct[label] += c[i].item()\n",
    "            class_total[label] += 1\n",
    "\n",
    "\n",
    "for i in range(10):\n",
    "    print('Accuracy of %5s : %2d %%' % (\n",
    "        CIFAR10_CLASSES[i], 100 * class_correct[i] / class_total[i]))"
   ]
  },
  {
   "cell_type": "code",
   "execution_count": null,
   "metadata": {},
   "outputs": [],
   "source": []
  }
 ],
 "metadata": {
  "kernelspec": {
   "display_name": "Python 3",
   "language": "python",
   "name": "python3"
  },
  "language_info": {
   "codemirror_mode": {
    "name": "ipython",
    "version": 3
   },
   "file_extension": ".py",
   "mimetype": "text/x-python",
   "name": "python",
   "nbconvert_exporter": "python",
   "pygments_lexer": "ipython3",
   "version": "3.8.2"
  }
 },
 "nbformat": 4,
 "nbformat_minor": 4
}
