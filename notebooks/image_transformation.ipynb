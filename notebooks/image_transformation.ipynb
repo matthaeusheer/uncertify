{
 "cells": [
  {
   "cell_type": "code",
   "execution_count": null,
   "metadata": {},
   "outputs": [],
   "source": [
    "%load_ext autoreload\n",
    "%autoreload 2\n",
    "\n",
    "from context import uncertify"
   ]
  },
  {
   "cell_type": "code",
   "execution_count": null,
   "metadata": {},
   "outputs": [],
   "source": [
    "import logging\n",
    "from uncertify.log import setup_logging\n",
    "setup_logging()\n",
    "LOG = logging.getLogger(__name__)\n",
    "\n",
    "# Matplotlib DEBUG logging spits out a whole bunch of crap\n",
    "mpl_logger = logging.getLogger('matplotlib')\n",
    "mpl_logger.setLevel(logging.WARNING)"
   ]
  },
  {
   "cell_type": "code",
   "execution_count": null,
   "metadata": {},
   "outputs": [],
   "source": [
    "from pathlib import Path\n",
    "\n",
    "import matplotlib.pyplot as plt\n",
    "import numpy as np\n",
    "import nibabel as nib\n",
    "\n",
    "from uncertify.data.preprocessing.processing_funcs import transform_images_camcan, transform_images_brats\n",
    "from mpl_toolkits.axes_grid1 import make_axes_locatable"
   ]
  },
  {
   "cell_type": "code",
   "execution_count": null,
   "metadata": {
    "pycharm": {
     "name": "#%%\n"
    }
   },
   "outputs": [],
   "source": [
    "NII_FILE_PATH = f'/scratch_net/samuylov/maheer/datasets/raw/CamCAN/T1w/sub-CC520197_T1w_unbiased.nii.gz'\n",
    "NII_FILE_PATH_BRATS = f'/scratch_net/samuylov/maheer/datasets/reference/Brats17_TCIA_607_1_t1_unbiased.nii.gz'"
   ]
  },
  {
   "cell_type": "code",
   "execution_count": null,
   "metadata": {},
   "outputs": [],
   "source": [
    "def plot_nii_samples(slices_list, start, step, titles):\n",
    "    assert len(slices_list) == len(titles)\n",
    "    for slice_idx in range(20, min(len(l) for l in slices_list)-1, step):\n",
    "        fig, axes = plt.subplots(ncols=len(slices_list), figsize=(18, 6))\n",
    "        print(f'slice: {slice_idx}')\n",
    "        for idx, (sample, title) in enumerate(zip(slices_list, titles)):\n",
    "            ax = axes[idx]\n",
    "            im = ax.imshow(sample[slice_idx], cmap='Greys_r')#, vmax=300)\n",
    "            ax.set_title(title)\n",
    "            divider = make_axes_locatable(ax)\n",
    "            cax = divider.append_axes(\"right\", size=\"5%\", pad=0.05)\n",
    "\n",
    "            plt.colorbar(im, cax=cax)\n",
    "        fig.tight_layout()\n",
    "        plt.show()\n",
    "\n",
    "\n",
    "def plot_slices(slices, n_slices):\n",
    "    indices = [int(idx) for idx in np.linspace(0, len(slices)-1, n_slices)]\n",
    "    for img in slices[indices]:\n",
    "        plt.imshow(img, vmax=500, cmap='Grey_r')\n",
    "        plt.show()\n",
    "\n",
    "data = nib.load(NII_FILE_PATH).get_fdata()\n",
    "data_brats = nib.load(NII_FILE_PATH_BRATS).get_fdata()\n",
    "\n",
    "plot_nii_samples([transform_images_camcan(data), transform_images_brats(data_brats)], 30, 5, ['camcan', 'brats'])\n",
    "\n",
    "# plot_slices(transform_images_camcan(data), n_slices=10)"
   ]
  },
  {
   "cell_type": "code",
   "execution_count": null,
   "metadata": {},
   "outputs": [],
   "source": []
  }
 ],
 "metadata": {
  "kernelspec": {
   "display_name": "Python 3",
   "language": "python",
   "name": "python3"
  },
  "language_info": {
   "codemirror_mode": {
    "name": "ipython",
    "version": 3
   },
   "file_extension": ".py",
   "mimetype": "text/x-python",
   "name": "python",
   "nbconvert_exporter": "python",
   "pygments_lexer": "ipython3",
   "version": "3.8.1"
  }
 },
 "nbformat": 4,
 "nbformat_minor": 4
}
