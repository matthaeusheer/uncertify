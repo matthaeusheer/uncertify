{
 "cells": [
  {
   "cell_type": "code",
   "execution_count": null,
   "metadata": {},
   "outputs": [],
   "source": [
    "%load_ext autoreload\n",
    "%autoreload 2\n",
    "\n",
    "from context import uncertify"
   ]
  },
  {
   "cell_type": "code",
   "execution_count": null,
   "metadata": {},
   "outputs": [],
   "source": [
    "import logging\n",
    "from uncertify.log import setup_logging\n",
    "setup_logging()\n",
    "LOG = logging.getLogger(__name__)\n",
    "\n",
    "# Matplotlib DEBUG logging spits out a whole bunch of crap\n",
    "mpl_logger = logging.getLogger('matplotlib')\n",
    "mpl_logger.setLevel(logging.WARNING)"
   ]
  },
  {
   "cell_type": "code",
   "execution_count": null,
   "metadata": {
    "pycharm": {
     "name": "#%%\n"
    }
   },
   "outputs": [],
   "source": [
    "from pathlib import Path\n",
    "\n",
    "import torch\n",
    "from torchvision.utils import make_grid\n",
    "import nibabel as nib\n",
    "import numpy as np\n",
    "import matplotlib.pyplot as plt\n",
    "from mpl_toolkits.axes_grid1 import make_axes_locatable"
   ]
  },
  {
   "cell_type": "code",
   "execution_count": null,
   "metadata": {},
   "outputs": [],
   "source": [
    "WORK_DIR = Path('/scratch_net/samuylov/maheer/datasets/hist_matching')"
   ]
  },
  {
   "cell_type": "code",
   "execution_count": null,
   "metadata": {},
   "outputs": [],
   "source": [
    "def get_name(modality: str, is_ref: bool, is_unbiased: bool, idx: int = None) -> str:\n",
    "    return f'{modality}{\"_ref\" if is_ref else \"\"}{\"_unbiased\" if is_ref else \"\"}{f\"_{idx}\" if idx is not None else \"\"}.nii.gz'\n",
    "\n",
    "def transform_image(slices: np.ndarray) -> np.ndarray:\n",
    "    \"\"\"Do all manipulations to the raw numpy array like transposing, rotation etc.\"\"\"\n",
    "    slices = np.transpose(slices, axes=[2, 0, 1])  # makes dimensions to be [slice, width, height]?\n",
    "    slices = np.rot90(slices, k=1, axes=(2, 1))  # rotates once in the (2, 1) plane, i.e. width-height-plane\n",
    "    slices = slices[:, 27:227, 20:220]  # arbitrary numbers crop\n",
    "    return slices\n",
    "\n",
    "def create_masks(slices: np.ndarray) -> np.ndarray:\n",
    "    \"\"\"Get the masks for (already manipulated) sample slices.\"\"\"\n",
    "    mask = (slices != 0).astype('int')\n",
    "    return mask"
   ]
  },
  {
   "cell_type": "code",
   "execution_count": null,
   "metadata": {},
   "outputs": [],
   "source": [
    "t1_img = nib.load(WORK_DIR / get_name('t1', is_ref=False, is_unbiased=False)).get_fdata()\n",
    "t1_img_2 = nib.load(WORK_DIR / get_name('t1', is_ref=False, is_unbiased=False, idx=2)).get_fdata()\n",
    "t1_ref = nib.load(WORK_DIR / get_name('t1', is_ref=True, is_unbiased=False)).get_fdata()\n",
    "\n",
    "t1_mask = create_masks(t1_img)\n",
    "t1_mask_2 = create_masks(t1_img_2)\n",
    "t1_ref_mask = create_masks(t1_ref)\n",
    "\n",
    "t1_img_unbiased = nib.load(WORK_DIR / get_name('t1', is_ref=False, is_unbiased=True)).get_fdata()\n",
    "t1_img_unbiased_2 = nib.load(WORK_DIR / get_name('t1', is_ref=False, is_unbiased=True, idx=2)).get_fdata()\n",
    "t1_ref_unbiased = nib.load(WORK_DIR / get_name('t1', is_ref=True, is_unbiased=True)).get_fdata()"
   ]
  },
  {
   "cell_type": "code",
   "execution_count": null,
   "metadata": {},
   "outputs": [],
   "source": [
    "plt.imshow(transform_image(t1_img_unbiased)[50], vmax=500)\n",
    "plt.colorbar()\n",
    "plt.title('T1 reference unbiased')\n",
    "plt.show()\n",
    "\n",
    "plt.imshow(transform_image(t1_mask)[50])\n",
    "plt.show()\n",
    "\n",
    "plt.imshow(transform_image(t1_ref_unbiased)[60], vmax=500)\n",
    "plt.colorbar()\n",
    "plt.title('T1 unbiased')\n",
    "plt.show()\n",
    "\n",
    "plt.imshow(transform_image(t1_ref_mask)[60])\n",
    "plt.show()"
   ]
  },
  {
   "cell_type": "code",
   "execution_count": null,
   "metadata": {},
   "outputs": [],
   "source": [
    "from uncertify.data.preprocessing.histogram_matching.histogram_matching import MatchHistogramsTwoImages\n",
    "\n",
    "def plot_nii_samples(slices_list, step, titles):\n",
    "    assert len(slices_list) == len(titles)\n",
    "    for slice_idx in range(20, len(slices_list[0]), 20):\n",
    "        fig, axes = plt.subplots(ncols=len(slices_list), figsize=(18, 6))\n",
    "        print(f'slice: {slice_idx}')\n",
    "        for idx, (sample, title) in enumerate(zip(slices_list, titles)):\n",
    "            ax = axes[idx]\n",
    "            im = ax.imshow(sample[slice_idx], cmap='hot', vmax=500)\n",
    "            ax.set_title(title)\n",
    "            divider = make_axes_locatable(ax)\n",
    "            cax = divider.append_axes(\"right\", size=\"5%\", pad=0.05)\n",
    "\n",
    "            plt.colorbar(im, cax=cax)\n",
    "        fig.tight_layout()\n",
    "        plt.show()\n",
    "\n",
    "\n",
    "def run_histogram_matching(orig_img: np.ndarray, ref_img: np.ndarray, ref_mask: np.ndarray, orig_mask: np.ndarray) -> np.ndarray:\n",
    "    matched_img = MatchHistogramsTwoImages(ref_img, orig_img, L=200, nbins=246, begval=0.05, finval=0.98,\n",
    "                                           train_mask=ref_mask,\n",
    "                                           test_mask=orig_mask)\n",
    "    return matched_img"
   ]
  },
  {
   "cell_type": "code",
   "execution_count": null,
   "metadata": {},
   "outputs": [],
   "source": [
    "matched = run_histogram_matching(t1_img_unbiased, t1_ref_unbiased, t1_ref_mask, t1_mask)"
   ]
  },
  {
   "cell_type": "code",
   "execution_count": null,
   "metadata": {},
   "outputs": [],
   "source": [
    "matched2 = run_histogram_matching(t1_img_unbiased_2, t1_ref_unbiased, t1_ref_mask, t1_mask_2)"
   ]
  },
  {
   "cell_type": "code",
   "execution_count": null,
   "metadata": {},
   "outputs": [],
   "source": [
    "plot_nii_samples([transform_image(t1_ref), transform_image(t1_img), transform_image(matched), transform_image(t1_img_2), transform_image(matched2)], step=20, \n",
    "                 titles=['reference T1', 'original T1 1', 'matched T1 1',  'original T1 2', 'matched T1 2', ])\n",
    "\n"
   ]
  }
 ],
 "metadata": {
  "kernelspec": {
   "display_name": "Python 3",
   "language": "python",
   "name": "python3"
  },
  "language_info": {
   "codemirror_mode": {
    "name": "ipython",
    "version": 3
   },
   "file_extension": ".py",
   "mimetype": "text/x-python",
   "name": "python",
   "nbconvert_exporter": "python",
   "pygments_lexer": "ipython3",
   "version": "3.8.1"
  }
 },
 "nbformat": 4,
 "nbformat_minor": 4
}
