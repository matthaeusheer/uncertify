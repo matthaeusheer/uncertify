{
 "cells": [
  {
   "cell_type": "code",
   "execution_count": null,
   "metadata": {},
   "outputs": [],
   "source": [
    "%load_ext autoreload\n",
    "%autoreload 2\n",
    "\n",
    "from context import uncertify"
   ]
  },
  {
   "cell_type": "code",
   "execution_count": null,
   "metadata": {},
   "outputs": [],
   "source": [
    "import logging\n",
    "from uncertify.log import setup_logging\n",
    "setup_logging()\n",
    "LOG = logging.getLogger(__name__)\n",
    "\n",
    "# Matplotlib DEBUG logging spits out a whole bunch of crap\n",
    "mpl_logger = logging.getLogger('matplotlib')\n",
    "mpl_logger.setLevel(logging.WARNING)"
   ]
  },
  {
   "cell_type": "code",
   "execution_count": null,
   "metadata": {},
   "outputs": [],
   "source": [
    "from functools import partial\n",
    "from pathlib import Path\n",
    "\n",
    "import torch\n",
    "import torchvision\n",
    "from tqdm import tqdm\n",
    "try:\n",
    "    tqdm._instances.clear()\n",
    "except:\n",
    "    pass\n",
    "import seaborn as sns\n",
    "sns.set_context(\"poster\")\n",
    "import numpy as np\n",
    "import matplotlib\n",
    "import matplotlib as mpl\n",
    "import matplotlib.pyplot as plt\n",
    "plt.style.use({'figure.facecolor':'white'})\n",
    "from torch.utils.data import DataLoader\n",
    "\n",
    "from uncertify.data.transforms import H_FLIP_TRANSFORM, V_FLIP_TRANSFORM\n",
    "from uncertify.data.datasets import GaussianNoiseDataset\n",
    "from uncertify.data.dataloaders import dataloader_factory, DatasetType\n",
    "\n",
    "from uncertify.io.models import load_ensemble_models\n",
    "from uncertify.utils.python_helpers import print_dict_tree, get_idx_of_closest_value\n",
    "\n",
    "from uncertify.evaluation.ood_experiments import run_ood_evaluations, run_ood_to_ood_dict\n",
    "from uncertify.evaluation.model_performance import calculate_roc, calculate_prc\n",
    "\n",
    "from uncertify.visualization.ood_scores import plot_ood_scores, plot_most_least_ood, plot_samples_close_to_score\n",
    "from uncertify.visualization.histograms import plot_multi_histogram\n",
    "from uncertify.visualization.model_performance import setup_roc_prc_fig, plot_roc_curve, plot_precision_recall_curve, plot_confusion_matrix\n",
    "from uncertify.visualization.ood_scores import plot_ood_scores\n",
    "from uncertify.visualization.entropy import plot_entropy_samples_over_range\n",
    "from uncertify.models.vae import load_vae_baur_model\n",
    "\n",
    "from uncertify.common import DATA_DIR_PATH, HD_DATA_PATH"
   ]
  },
  {
   "cell_type": "code",
   "execution_count": null,
   "metadata": {},
   "outputs": [],
   "source": [
    "# Load models\n",
    "RUN_VERSIONS = [1, 2, 3, 4, 5]\n",
    "ensemble_models = load_ensemble_models(DATA_DIR_PATH / 'masked_ensemble_models', [f'model{idx}.ckpt' for idx in RUN_VERSIONS])\n",
    "# model = ensemble_models[0]\n",
    "model = load_vae_baur_model(HD_DATA_PATH.parent / 'lightning_logs/schedule_test/version_4/checkpoints/last.ckpt')\n"
   ]
  },
  {
   "cell_type": "code",
   "execution_count": null,
   "metadata": {
    "pycharm": {
     "name": "#%%\n"
    }
   },
   "outputs": [],
   "source": [
    "batch_size    = 155\n",
    "USE_N_BATCHES = 10\n",
    "NUM_WORKERS   = 0\n",
    "SHUFFLE_VAL   = False\n",
    "\n",
    "brats_t2_path    = HD_DATA_PATH / 'processed/brats17_t2_bc_std_bv3.5.hdf5'\n",
    "brats_t2_hm_path = HD_DATA_PATH / 'processed/brats17_t2_hm_bc_std_bv3.5.hdf5'\n",
    "brats_t1_path    = HD_DATA_PATH / 'processed/brats17_t1_bc_std_bv3.5.hdf5'\n",
    "brats_t1_hm_path = HD_DATA_PATH / 'processed/brats17_t1_hm_bc_std_bv-3.5.hdf5'\n",
    "camcan_t2_val_path   = DATA_DIR_PATH  / 'processed/camcan_val_t2_hm_std_bv3.5_xe.hdf5'\n",
    "camcan_t2_train_path = DATA_DIR_PATH  / 'processed/camcan_train_t2_hm_std_bv3.5_xe.hdf5'\n",
    "ibsr_t1_train_path = HD_DATA_PATH / 'processed/ibsr_train_t1_std_bv3.5_l10_xe.hdf5'\n",
    "ibsr_t1_val_path = HD_DATA_PATH / 'processed/ibsr_val_t1_std_bv3.5_l10_xe.hdf5'\n",
    "candi_t1_train_path = HD_DATA_PATH / 'processed/candi_train_t1_std_bv3.5_l10_xe.hdf5'\n",
    "candi_t1_val_path = HD_DATA_PATH / 'processed/candi_val_t1_std_bv3.5_l10_xe.hdf5'\n",
    "\n",
    "_, brats_val_t2_dataloader    = dataloader_factory(DatasetType.BRATS17, batch_size=batch_size, val_set_path=brats_t2_path, shuffle_val=SHUFFLE_VAL, num_workers=NUM_WORKERS)\n",
    "_, brats_val_t1_dataloader    = dataloader_factory(DatasetType.BRATS17, batch_size=batch_size, val_set_path=brats_t1_path, shuffle_val=SHUFFLE_VAL, num_workers=NUM_WORKERS)\n",
    "_, brats_val_t2_hm_dataloader = dataloader_factory(DatasetType.BRATS17, batch_size=batch_size, val_set_path=brats_t2_hm_path, shuffle_val=SHUFFLE_VAL, num_workers=NUM_WORKERS)\n",
    "_, brats_val_t1_hm_dataloader = dataloader_factory(DatasetType.BRATS17, batch_size=batch_size, val_set_path=brats_t1_hm_path, shuffle_val=SHUFFLE_VAL, num_workers=NUM_WORKERS)\n",
    "\n",
    "\n",
    "_, brats_val_t2_hflip_dataloader = dataloader_factory(DatasetType.BRATS17, batch_size=batch_size, val_set_path=brats_t2_path, shuffle_val=SHUFFLE_VAL, num_workers=NUM_WORKERS, transform=H_FLIP_TRANSFORM)\n",
    "_, brats_val_t2_vflip_dataloader = dataloader_factory(DatasetType.BRATS17, batch_size=batch_size, val_set_path=brats_t2_path, shuffle_val=SHUFFLE_VAL, num_workers=NUM_WORKERS, transform=V_FLIP_TRANSFORM)\n",
    "\n",
    "camcan_train_dataloader, camcan_val_dataloader = dataloader_factory(DatasetType.CAMCAN, batch_size=batch_size, val_set_path=camcan_t2_val_path, train_set_path=camcan_t2_train_path, shuffle_val=SHUFFLE_VAL, shuffle_train=True, num_workers=NUM_WORKERS)\n",
    "camcan_lesional_train_dataloader, camcan_lesional_val_dataloader = dataloader_factory(DatasetType.CAMCAN, batch_size=batch_size, val_set_path=camcan_t2_val_path, train_set_path=camcan_t2_train_path, shuffle_val=False, shuffle_train=True, num_workers=NUM_WORKERS, add_gauss_blobs=True)\n",
    "\n",
    "ibsr_train_dataloader, ibsr_val_dataloader = dataloader_factory(DatasetType.IBSR, batch_size=batch_size, val_set_path=ibsr_t1_val_path, train_set_path=ibsr_t1_train_path, shuffle_val=SHUFFLE_VAL, shuffle_train=True, num_workers=NUM_WORKERS)\n",
    "candi_train_dataloader, candi_val_dataloader = dataloader_factory(DatasetType.CANDI, batch_size=batch_size, val_set_path=candi_t1_val_path, train_set_path=candi_t1_train_path, shuffle_val=SHUFFLE_VAL, shuffle_train=True, num_workers=NUM_WORKERS)\n",
    "\n",
    "noise_set = GaussianNoiseDataset(shape=(1, 128, 128))\n",
    "noise_loader = DataLoader(noise_set, batch_size=batch_size)\n",
    "\n",
    "_, mnist_val_dataloader = dataloader_factory(DatasetType.MNIST, batch_size=batch_size, transform=torchvision.transforms.Compose([\n",
    "                                                                        torchvision.transforms.Resize((128, 128)),\n",
    "                                                                        torchvision.transforms.ToTensor()\n",
    "                                                                    ])\n",
    "                         )\n",
    "\n",
    "dataloader_dict = {'BraTS T2 val': brats_val_t2_dataloader, \n",
    "                   #'BraTS T1 val': brats_val_t1_dataloader, \n",
    "                   #'CamCAN lesion train': camcan_lesional_val_dataloader,\n",
    "                   #'CamCAN lesion val': camcan_lesional_val_dataloader,\n",
    "                   #'BraTS T2 HM val': brats_val_t2_hm_dataloader, \n",
    "                   #'BraTS T1 HM val': brats_val_t1_hm_dataloader,\n",
    "                   #'CamCAN train': camcan_train_dataloader,\n",
    "                   #'CamCAN val': camcan_val_dataloader,\n",
    "                   #'Gaussian noise': noise_loader,\n",
    "                   #'MNIST': mnist_val_dataloader,\n",
    "                   #'BraTS T2 HFlip': brats_val_t2_hflip_dataloader,\n",
    "                   #'BraTS T2 VFlip': brats_val_t2_vflip_dataloader,\n",
    "                    'IBSR T1 train': ibsr_train_dataloader,\n",
    "                    'CANDI T1 train': candi_train_dataloader,\n",
    "}\n",
    "brats_dataloader_dict = {key: val for key, val in dataloader_dict.items() if 'BraTS' in key}\n",
    "\n",
    "for name, dataloader in dataloader_dict.items(): \n",
    "    print(f'{name:15} dataloader: {len(dataloader)} batches (batch_size: {dataloader.batch_size}) -> {len(dataloader) * dataloader.batch_size} samples.')"
   ]
  },
  {
   "cell_type": "markdown",
   "metadata": {},
   "source": [
    "# OOD Detection Evaluation for different OOD datasets"
   ]
  },
  {
   "cell_type": "code",
   "execution_count": null,
   "metadata": {},
   "outputs": [],
   "source": [
    "# Runs full OOD evaluation (stores ourput) all datasets and metrics in evaluation config\n",
    "run_ood_evaluations(camcan_train_dataloader,\n",
    "                    dataloader_dict,\n",
    "                    ensemble_models,\n",
    "                    residual_threshold=0.65,\n",
    "                    max_n_batches=5)"
   ]
  },
  {
   "cell_type": "markdown",
   "metadata": {},
   "source": [
    "# OOD Score"
   ]
  },
  {
   "cell_type": "code",
   "execution_count": null,
   "metadata": {},
   "outputs": [],
   "source": [
    "NUM_BACTHES = 10\n",
    "OOD_METRICS = ('dose', )  # 'waic', \n",
    "DOSE_STATISTICS = ('entropy',)# 'elbo', 'kl_div', 'rec_err')  # 'elbo', 'kl_div', 'rec_err',\n",
    "\n",
    "dataloader_dict = {'BraTS T2': brats_val_t2_dataloader, \n",
    "                   #'BraTS T1': brats_val_t1_dataloader, \n",
    "                   #'BraTS T2 HM': brats_val_t2_hm_dataloader,\n",
    "                   #'BraTS T1 HM': brats_val_t1_hm_dataloader,\n",
    "                   'CamCAN train': camcan_train_dataloader,\n",
    "                   #'Gaussian noise': noise_loader,\n",
    "                   #'MNIST': mnist_val_dataloader,\n",
    "                    'IBSR T1 train': ibsr_train_dataloader,\n",
    "                    'CANDI T1 train': candi_train_dataloader,\n",
    "}\n",
    "\n",
    "metrics_ood_dict = run_ood_to_ood_dict(dataloader_dict, ensemble_models, camcan_train_dataloader,\n",
    "                                       num_batches=NUM_BACTHES, ood_metrics=OOD_METRICS,\n",
    "                                       dose_statistics=DOSE_STATISTICS)\n",
    "print_dict_tree(metrics_ood_dict)"
   ]
  },
  {
   "cell_type": "code",
   "execution_count": null,
   "metadata": {},
   "outputs": [],
   "source": [
    "max(metrics_ood_dict['dose']['BraTS T2']['lesional'])\n",
    "min(metrics_ood_dict['dose']['BraTS T2']['lesional'])"
   ]
  },
  {
   "cell_type": "code",
   "execution_count": null,
   "metadata": {},
   "outputs": [],
   "source": [
    "plot_entropy_samples_over_range(metrics_ood_dict, 'BraTS T2', 5, 6, 64,\n",
    "                                axis='off', add_colorbar=False, figsize=(12, 12), cmap='gray')"
   ]
  },
  {
   "cell_type": "code",
   "execution_count": null,
   "metadata": {
    "collapsed": false,
    "jupyter": {
     "outputs_hidden": false
    },
    "pycharm": {
     "name": "#%%\n"
    }
   },
   "outputs": [],
   "source": [
    "# Check for different DoSE KDE stats whether they can distinguish between healthy and unhealthy\n",
    "\n",
    "\n",
    "dataloader_dict = {'BraTS T2': brats_val_t2_dataloader, \n",
    "                   #'BraTS T1': brats_val_t1_dataloader, \n",
    "                   #'BraTS T2 HM': brats_val_t2_hm_dataloader,\n",
    "                   #'BraTS T1 HM': brats_val_t1_hm_dataloader,\n",
    "}\n",
    "\n",
    "for dataloader_name in dataloader_dict.keys():\n",
    "    if 'can' in dataloader_name.lower():\n",
    "        continue\n",
    "    print()\n",
    "    print(f' --- {dataloader_name} --- ')\n",
    "    for post_kde_stat in list(DOSE_STATISTICS) + ['_'.join(list(DOSE_STATISTICS))]:\n",
    "        print(f'{post_kde_stat}')\n",
    "        if post_kde_stat == '_'.join(DOSE_STATISTICS):\n",
    "            healthy_post_kde = metrics_ood_dict['dose'][dataloader_name]['healthy']\n",
    "            lesional_post_kde = metrics_ood_dict['dose'][dataloader_name]['lesional']\n",
    "        else:\n",
    "            healthy_post_kde = metrics_ood_dict['dose'][dataloader_name]['dose_kde_healthy'][post_kde_stat]\n",
    "            lesional_post_kde = metrics_ood_dict['dose'][dataloader_name]['dose_kde_lesional'][post_kde_stat]\n",
    "        #print(f'{len(healthy_post_kde)} healthy / {len(lesional_post_kde)} lesional samples')\n",
    "        \n",
    "        y_true = len(healthy_post_kde) * [0.0] + len(lesional_post_kde) * [1.0]\n",
    "        y_pred_proba = healthy_post_kde + lesional_post_kde\n",
    "\n",
    "        fpr, tpr, _, au_roc = calculate_roc(y_true, -np.array(y_pred_proba))\n",
    "        precision, recall, _, au_prc = calculate_prc(y_true, -np.array(y_pred_proba))\n",
    "\n",
    "        plot_roc_curve(fpr, tpr, au_roc)\n",
    "        plot_precision_recall_curve(recall, precision, au_prc)\n",
    "\n",
    "        plot_multi_histogram([-np.array(healthy_post_kde), -np.array(lesional_post_kde)],\n",
    "                             ['healthy', 'lesional'],\n",
    "                             plot_density=False,\n",
    "                             show_data_ticks=False,\n",
    "                             legend_title='$DoSE_{KDE}$' + f'({post_kde_stat})',\n",
    "                             legend_pos='upper left')\n",
    "        \n",
    "        print(f'\\tAUROC: {au_roc:.2f}')\n",
    "        print(f'\\tAUPRC: {au_prc:.2f}')"
   ]
  },
  {
   "cell_type": "code",
   "execution_count": null,
   "metadata": {},
   "outputs": [],
   "source": [
    "for metric in OOD_METRICS:\n",
    "    n = 8\n",
    "    ood_dict = metrics_ood_dict[metric]\n",
    "    plot_ood_scores(ood_dict, score_label=metric, dataset_name_filters=[], modes_to_include=['healthy', 'lesional'])\n",
    "\n",
    "    #plot_most_least_ood(ood_dict, 'BraTS T2', n_most=n)\n",
    "    #plot_most_least_ood(ood_dict, 'CamCAN train', do_lesional=False, n_most=n)\n",
    "\n",
    "    #plot_samples_close_to_score(ood_dict, 'BraTS T2', min_score=0, max_score=25, n=n, show_ground_truth=False, print_score=True)\n",
    "    #plot_samples_close_to_score(ood_dict, 'CamCAN train', do_lesional=False, show_ground_truth=False, min_score=0, max_score=25, n=n, print_score=True)\n"
   ]
  },
  {
   "cell_type": "markdown",
   "metadata": {},
   "source": [
    "# Slice-Wise Statistics"
   ]
  },
  {
   "cell_type": "code",
   "execution_count": null,
   "metadata": {},
   "outputs": [],
   "source": [
    "import pandas as pd\n",
    "import seaborn as sns\n",
    "\n",
    "from uncertify.evaluation.dose import full_pipeline_slice_wise_dose_scores\n",
    "from uncertify.evaluation.statistics import fit_statistics, aggregate_slice_wise_statistics\n",
    "from uncertify.visualization.dose import do_pair_plot_statistics"
   ]
  },
  {
   "cell_type": "code",
   "execution_count": null,
   "metadata": {},
   "outputs": [],
   "source": [
    "# Plot the fitted training statistics as a lower triangular pair-plot\n",
    "DOSE_STATISTICS = ['elbo', 'rec_err', 'kl_div', 'entropy']\n",
    "MAX_N_BATCHES = 10\n",
    "\n",
    "\n",
    "stat_dataloader_dict = {'BraTS T2': brats_val_t2_dataloader,\n",
    "                   #'BraTS T1': brats_val_t1_dataloader,\n",
    "                   #'BraTS T2 HM': brats_val_t2_hm_dataloader,\n",
    "                   #'BraTS T1 HM': brats_val_t1_hm_dataloader,\n",
    "                   'CamCAN train': camcan_train_dataloader,\n",
    "                   #'Gaussian noise': noise_loader,\n",
    "                   #'MNIST': mnist_val_dataloader\n",
    "}\n",
    "\n",
    "stat_frames = {}\n",
    "\n",
    "for name, dataloader in stat_dataloader_dict.items():\n",
    "    hue = 'is_lesional' if dataloader is not camcan_train_dataloader else None\n",
    "    statistics_dict = aggregate_slice_wise_statistics(model, dataloader,\n",
    "                                                      DOSE_STATISTICS, max_n_batches=MAX_N_BATCHES)\n",
    "    stat_df = pd.DataFrame(statistics_dict)\n",
    "    do_pair_plot_statistics(statistics_dict, DOSE_STATISTICS, dataloader.dataset.name, hue=hue)\n",
    "    stat_frames[name] = stat_df\n",
    "\n",
    "    plt.figure()\n",
    "    sns.histplot(stat_df, x='entropy', hue=hue, kde=True)\n",
    "    ax = plt.gca()\n",
    "    ax.set_xlim([0, 0.16])"
   ]
  },
  {
   "cell_type": "code",
   "execution_count": null,
   "metadata": {},
   "outputs": [],
   "source": [
    "for name, stat_df in stat_frames.items():\n",
    "    plt.figure()\n",
    "    sns.histplot(stat_df, x='entropy', hue='is_lesional' if 'Cam' not in name else None, kde=True)\n",
    "    ax = plt.gca()\n",
    "    ax.set_xlim([0, 0.26])"
   ]
  },
  {
   "cell_type": "code",
   "execution_count": null,
   "metadata": {},
   "outputs": [],
   "source": [
    "from uncertify.utils.python_helpers import get_idx_of_closest_value\n",
    "\n",
    "# Plot lesional and healthy samples which are close to some score (entropy)\n",
    "\n",
    "ref_values = np.linspace(0.05, 0.25, 40)\n",
    "\n",
    "brats_stats = stat_frames['BraTS T2']\n",
    "is_lesional = brats_stats['is_lesional']\n",
    "lesional_scans = list(brats_stats['scans'][is_lesional])\n",
    "healthy_scans = list(brats_stats['scans'][np.invert(is_lesional)])\n",
    "lesional_entropy = list(brats_stats['entropy'][is_lesional])\n",
    "healthy_entropy = list(brats_stats['entropy'][np.invert(is_lesional)])\n",
    "\n",
    "\n",
    "for ref_val in ref_values:\n",
    "    healthy_ids = get_idx_of_closest_value(healthy_entropy, ref_val)\n",
    "    lesional_ids = get_idx_of_closest_value(lesional_entropy, ref_val)\n",
    "    \n",
    "    plt.subplots(figsize=(2, 2))\n",
    "    plt.imshow(lesional_scans[lesional_ids][0].numpy())\n",
    "    plt.title(f'[lesional]\\n entropy={lesional_entropy[lesional_ids]:.3f}')\n",
    "    plt.axis('off')\n",
    "    plt.show()\n",
    "    \n",
    "    plt.subplots(figsize=(2, 2))\n",
    "    plt.imshow(healthy_scans[healthy_ids][0].numpy())\n",
    "    plt.title(f'[healthy]\\n entropy={healthy_entropy[healthy_ids]:.3f}')\n",
    "    plt.axis('off')\n",
    "    plt.show()"
   ]
  },
  {
   "cell_type": "code",
   "execution_count": null,
   "metadata": {},
   "outputs": [],
   "source": [
    "for stat_df, hue in zip(stat_frames.values(), ['is_lesional', None]):\n",
    "    plt.figure()\n",
    "    sns.histplot(stat_df, x='entropy', hue=hue, kde=True)\n",
    "    ax = plt.gca()\n",
    "    ax.set_xlim([0, 0.26])"
   ]
  },
  {
   "cell_type": "code",
   "execution_count": null,
   "metadata": {},
   "outputs": [],
   "source": [
    "# Plot the DoSE KDE scores on a fitted training distribution\n",
    "MAX_N_BATCHES = 5\n",
    "test_dataloaders = [camcan_train_dataloader, brats_val_t2_dataloader] #[brats_val_t2_dataloader, brats_val_t1_dataloader, camcan_train_dataloader]\n",
    "has_lesional_data = [False, True] # [True, True, False]\n",
    "\n",
    "kde_func_dict = fit_statistics(statistics_dict)\n",
    "for dataloader, has_lesions in zip(test_dataloaders, has_lesional_data):\n",
    "    dose_scores, dose_kde_dict = full_pipeline_slice_wise_dose_scores(camcan_train_dataloader, dataloader, model,\n",
    "                                                                      DOSE_STATISTICS, MAX_N_BATCHES, kde_func_dict)\n",
    "    do_pair_plot_statistics(dose_kde_dict, DOSE_STATISTICS, dataloader.dataset.name, 'is_lesional' if has_lesions else None)"
   ]
  },
  {
   "cell_type": "markdown",
   "metadata": {},
   "source": [
    "# Plotting Final Dose Statistics"
   ]
  },
  {
   "cell_type": "code",
   "execution_count": null,
   "metadata": {
    "pycharm": {
     "name": "#%%\n"
    }
   },
   "outputs": [],
   "source": [
    "# Fitting statistics on training data\n",
    "statistics_dict = aggregate_slice_wise_statistics(model, camcan_train_dataloader, DOSE_STATISTICS, max_n_batches=50)\n",
    "kde_func_dict = fit_statistics(statistics_dict)\n",
    "\n",
    "# Computing dose scores on OOD dataset\n",
    "dose_scores, dose_kde_dict = full_pipeline_slice_wise_dose_scores(camcan_train_dataloader, brats_val_t2_dataloader, model, \n",
    "                                                                    DOSE_STATISTICS, MAX_N_BATCHES, kde_func_dict)\n",
    "final_dose_df = pd.DataFrame({'DoSE': dose_scores, 'is_lesional': dose_kde_dict['is_lesional']})\n",
    "sns.kdeplot(final_dose_df.DoSE, hue=final_dose_df.is_lesional)\n",
    "\n",
    "# Computing dose scores on ID dataset\n",
    "dose_scores, dose_kde_dict = full_pipeline_slice_wise_dose_scores(camcan_train_dataloader, camcan_train_dataloader, model, \n",
    "                                                                    DOSE_STATISTICS, 3, kde_func_dict)\n",
    "final_dose_df = pd.DataFrame({'DoSE': dose_scores, 'is_lesional': dose_kde_dict['is_lesional']})\n",
    "sns.kdeplot(final_dose_df.DoSE, hue=final_dose_df.is_lesional)"
   ]
  },
  {
   "cell_type": "code",
   "execution_count": null,
   "metadata": {
    "collapsed": false,
    "jupyter": {
     "outputs_hidden": false
    },
    "pycharm": {
     "name": "#%%\n"
    }
   },
   "outputs": [],
   "source": []
  }
 ],
 "metadata": {
  "kernelspec": {
   "display_name": "Python 3",
   "language": "python",
   "name": "python3"
  },
  "language_info": {
   "codemirror_mode": {
    "name": "ipython",
    "version": 3
   },
   "file_extension": ".py",
   "mimetype": "text/x-python",
   "name": "python",
   "nbconvert_exporter": "python",
   "pygments_lexer": "ipython3",
   "version": "3.8.6"
  }
 },
 "nbformat": 4,
 "nbformat_minor": 4
}
