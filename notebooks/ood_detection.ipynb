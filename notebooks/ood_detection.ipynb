{
 "cells": [
  {
   "cell_type": "code",
   "execution_count": null,
   "metadata": {},
   "outputs": [],
   "source": [
    "%load_ext autoreload\n",
    "%autoreload 2\n",
    "\n",
    "from context import uncertify"
   ]
  },
  {
   "cell_type": "code",
   "execution_count": null,
   "metadata": {},
   "outputs": [],
   "source": [
    "import logging\n",
    "from uncertify.log import setup_logging\n",
    "setup_logging()\n",
    "LOG = logging.getLogger(__name__)\n",
    "\n",
    "# Matplotlib DEBUG logging spits out a whole bunch of crap\n",
    "mpl_logger = logging.getLogger('matplotlib')\n",
    "mpl_logger.setLevel(logging.WARNING)"
   ]
  },
  {
   "cell_type": "code",
   "execution_count": null,
   "metadata": {},
   "outputs": [],
   "source": [
    "from tqdm import tqdm\n",
    "try:\n",
    "    tqdm._instances.clear()\n",
    "except:\n",
    "    pass\n",
    "import seaborn as sns\n",
    "# sns.set_context(\"poster\")\n",
    "import numpy as np\n",
    "import matplotlib.pyplot as plt\n",
    "plt.style.use({'figure.facecolor':'white'})\n",
    "\n",
    "from uncertify.utils.python_helpers import print_dict_tree, get_idx_of_closest_value\n",
    "\n",
    "from uncertify.evaluation.ood_experiments import run_ood_evaluations, run_ood_to_ood_dict\n",
    "from uncertify.evaluation.anomaly_detection import slice_wise_lesion_detection_dose_kde\n",
    "from uncertify.evaluation.model_performance import calculate_roc, calculate_prc\n",
    "\n",
    "from uncertify.visualization.ood_scores import plot_ood_scores, plot_most_least_ood, plot_samples_close_to_score\n",
    "\n",
    "\n",
    "from uncertify.visualization.ood_scores import plot_ood_scores\n",
    "from uncertify.visualization.entropy import plot_entropy_samples_over_range\n",
    "from uncertify.data.default_dataloaders import default_dataloader_dict_factory, filter_dataloader_dict, print_dataloader_dict\n",
    "from uncertify.io.models import load_ensemble_models, load_vae_baur_model\n",
    "from uncertify.data.dataloaders import print_dataloader_info\n",
    "\n",
    "from uncertify.common import DATA_DIR_PATH, HD_DATA_PATH"
   ]
  },
  {
   "cell_type": "code",
   "execution_count": null,
   "metadata": {},
   "outputs": [],
   "source": [
    "# Load (ensemble) models\n",
    "RUN_VERSIONS = [1, 2, 3, 4, 5]\n",
    "ensemble_models = load_ensemble_models(DATA_DIR_PATH / 'masked_ensemble_models', [f'model{idx}.ckpt' for idx in RUN_VERSIONS])\n",
    "\n",
    "# Load stand-alone model\n",
    "model = load_vae_baur_model(HD_DATA_PATH.parent / 'lightning_logs/schedule_mask/version_0/checkpoints/last.ckpt')"
   ]
  },
  {
   "cell_type": "code",
   "execution_count": null,
   "metadata": {
    "pycharm": {
     "name": "#%%\n"
    }
   },
   "outputs": [],
   "source": [
    "dataloader_dict = default_dataloader_dict_factory()\n",
    "print_dataloader_dict(dataloader_dict)\n",
    "train_loader_dict = filter_dataloader_dict(dataloader_dict, contains=['CamCAN', 'train'], exclude=['art'])\n",
    "print_dataloader_dict(train_loader_dict)\n",
    "brats_t2_dict = filter_dataloader_dict(dataloader_dict, contains=['BraTS', 'T2'], exclude=['Flip'])\n",
    "print_dataloader_dict(brats_t2_dict)"
   ]
  },
  {
   "cell_type": "markdown",
   "metadata": {},
   "source": [
    "# OOD Detection Evaluation for different OOD datasets"
   ]
  },
  {
   "cell_type": "code",
   "execution_count": null,
   "metadata": {},
   "outputs": [],
   "source": [
    "# Runs full OOD evaluation (stores output) all datasets and metrics in evaluation config\n",
    "\n",
    "run_ood_evaluations(dataloader_dict['CamCAN train'],\n",
    "                    brats_t2_dict,\n",
    "                    [model],\n",
    "                    residual_threshold=0.65,\n",
    "                    max_n_batches=2)"
   ]
  },
  {
   "cell_type": "markdown",
   "metadata": {},
   "source": [
    "# OOD Score"
   ]
  },
  {
   "cell_type": "code",
   "execution_count": null,
   "metadata": {
    "collapsed": false,
    "jupyter": {
     "outputs_hidden": false
    },
    "pycharm": {
     "name": "#%%\n"
    }
   },
   "outputs": [],
   "source": [
    "NUM_BACTHES = 15\n",
    "OOD_METRICS = ('dose', )  # 'waic', \n",
    "DOSE_STATISTICS = ('entropy', 'elbo', 'kl_div', 'rec_err') # can use ('entropy', 'elbo', 'kl_div', 'rec_err')\n",
    "\n",
    "metrics_ood_dict = run_ood_to_ood_dict(test_dataloader_dict=brats_t2_dict,\n",
    "                                       ensemble_models=[model],\n",
    "                                       train_dataloader=train_loader_dict['CamCAN train'],\n",
    "                                       num_batches=NUM_BACTHES,\n",
    "                                       ood_metrics=OOD_METRICS,\n",
    "                                       dose_statistics=DOSE_STATISTICS)\n",
    "print_dict_tree(metrics_ood_dict)"
   ]
  },
  {
   "cell_type": "code",
   "execution_count": null,
   "metadata": {},
   "outputs": [],
   "source": [
    "print(max(metrics_ood_dict['dose']['BraTS T2 val']['lesional']))\n",
    "print(min(metrics_ood_dict['dose']['BraTS T2 val']['lesional']))\n",
    "\n",
    "print(max(metrics_ood_dict['dose']['BraTS T2 val']['dose_kde_lesional']['entropy']))\n",
    "print(min(metrics_ood_dict['dose']['BraTS T2 val']['dose_kde_lesional']['entropy']))"
   ]
  },
  {
   "cell_type": "code",
   "execution_count": null,
   "metadata": {},
   "outputs": [],
   "source": [
    "plot_entropy_samples_over_range(metrics_ood_dict, 'BraTS T2 val', start_val=0, end_val=6, n_values=64,\n",
    "                                axis='off', add_colorbar=False, figsize=(12, 12), cmap='gray')"
   ]
  },
  {
   "cell_type": "code",
   "execution_count": null,
   "metadata": {
    "collapsed": false,
    "jupyter": {
     "outputs_hidden": false
    },
    "pycharm": {
     "name": "#%%\n"
    }
   },
   "outputs": [],
   "source": [
    "# Check for different DoSE KDE stats whether they can distinguish between healthy and unhealthy\n",
    "slice_wise_lesion_detection_dose_kde(brats_t2_dict, metrics_ood_dict, DOSE_STATISTICS, do_plots=True)"
   ]
  },
  {
   "cell_type": "code",
   "execution_count": null,
   "metadata": {},
   "outputs": [],
   "source": [
    "for metric in OOD_METRICS:\n",
    "    n = 8\n",
    "    ood_dict = metrics_ood_dict[metric]\n",
    "    plot_ood_scores(ood_dict, score_label=metric, dataset_name_filters=[], modes_to_include=['healthy', 'lesional'])\n",
    "\n",
    "    #plot_most_least_ood(ood_dict, 'BraTS T2', n_most=n)\n",
    "    #plot_most_least_ood(ood_dict, 'CamCAN train', do_lesional=False, n_most=n)\n",
    "\n",
    "    #plot_samples_close_to_score(ood_dict, 'BraTS T2', min_score=0, max_score=25, n=n, show_ground_truth=False, print_score=True)\n",
    "    #plot_samples_close_to_score(ood_dict, 'CamCAN train', do_lesional=False, show_ground_truth=False, min_score=0, max_score=25, n=n, print_score=True)\n"
   ]
  },
  {
   "cell_type": "markdown",
   "metadata": {},
   "source": [
    "# Slice-Wise Statistics"
   ]
  },
  {
   "cell_type": "code",
   "execution_count": null,
   "metadata": {},
   "outputs": [],
   "source": [
    "import pandas as pd\n",
    "import seaborn as sns\n",
    "\n",
    "from uncertify.evaluation.dose import full_pipeline_slice_wise_dose_scores\n",
    "from uncertify.evaluation.statistics import fit_statistics, aggregate_slice_wise_statistics\n",
    "from uncertify.visualization.dose import do_pair_plot_statistics"
   ]
  },
  {
   "cell_type": "code",
   "execution_count": null,
   "metadata": {},
   "outputs": [],
   "source": [
    "# Plot the fitted training statistics as a lower triangular pair-plot\n",
    "DOSE_STATISTICS = ['elbo', 'rec_err', 'kl_div', 'entropy']\n",
    "MAX_N_BATCHES = 10\n",
    "\n",
    "\n",
    "stat_dataloader_dict = {'BraTS T2': brats_val_t2_dataloader,\n",
    "                   #'BraTS T1': brats_val_t1_dataloader,\n",
    "                   #'BraTS T2 HM': brats_val_t2_hm_dataloader,\n",
    "                   #'BraTS T1 HM': brats_val_t1_hm_dataloader,\n",
    "                   'CamCAN train': camcan_train_dataloader,\n",
    "                   #'Gaussian noise': noise_loader,\n",
    "                   #'MNIST': mnist_val_dataloader\n",
    "}\n",
    "\n",
    "stat_frames = {}\n",
    "\n",
    "for name, dataloader in stat_dataloader_dict.items():\n",
    "    hue = 'is_lesional' if dataloader is not camcan_train_dataloader else None\n",
    "    statistics_dict = aggregate_slice_wise_statistics(model, dataloader,\n",
    "                                                      DOSE_STATISTICS, max_n_batches=MAX_N_BATCHES)\n",
    "    stat_df = pd.DataFrame(statistics_dict)\n",
    "    do_pair_plot_statistics(statistics_dict, DOSE_STATISTICS, dataloader.dataset.name, hue=hue)\n",
    "    stat_frames[name] = stat_df\n",
    "\n",
    "    plt.figure()\n",
    "    sns.histplot(stat_df, x='entropy', hue=hue, kde=True)\n",
    "    ax = plt.gca()\n",
    "    ax.set_xlim([0, 0.16])"
   ]
  },
  {
   "cell_type": "code",
   "execution_count": null,
   "metadata": {},
   "outputs": [],
   "source": [
    "for name, stat_df in stat_frames.items():\n",
    "    plt.figure()\n",
    "    sns.histplot(stat_df, x='entropy', hue='is_lesional' if 'Cam' not in name else None, kde=True)\n",
    "    ax = plt.gca()\n",
    "    ax.set_xlim([0, 0.26])"
   ]
  },
  {
   "cell_type": "code",
   "execution_count": null,
   "metadata": {},
   "outputs": [],
   "source": [
    "from uncertify.utils.python_helpers import get_idx_of_closest_value\n",
    "\n",
    "# Plot lesional and healthy samples which are close to some score (entropy)\n",
    "\n",
    "ref_values = np.linspace(0.05, 0.25, 40)\n",
    "\n",
    "brats_stats = stat_frames['BraTS T2']\n",
    "is_lesional = brats_stats['is_lesional']\n",
    "lesional_scans = list(brats_stats['scans'][is_lesional])\n",
    "healthy_scans = list(brats_stats['scans'][np.invert(is_lesional)])\n",
    "lesional_entropy = list(brats_stats['entropy'][is_lesional])\n",
    "healthy_entropy = list(brats_stats['entropy'][np.invert(is_lesional)])\n",
    "\n",
    "\n",
    "for ref_val in ref_values:\n",
    "    healthy_ids = get_idx_of_closest_value(healthy_entropy, ref_val)\n",
    "    lesional_ids = get_idx_of_closest_value(lesional_entropy, ref_val)\n",
    "    \n",
    "    plt.subplots(figsize=(2, 2))\n",
    "    plt.imshow(lesional_scans[lesional_ids][0].numpy())\n",
    "    plt.title(f'[lesional]\\n entropy={lesional_entropy[lesional_ids]:.3f}')\n",
    "    plt.axis('off')\n",
    "    plt.show()\n",
    "    \n",
    "    plt.subplots(figsize=(2, 2))\n",
    "    plt.imshow(healthy_scans[healthy_ids][0].numpy())\n",
    "    plt.title(f'[healthy]\\n entropy={healthy_entropy[healthy_ids]:.3f}')\n",
    "    plt.axis('off')\n",
    "    plt.show()"
   ]
  },
  {
   "cell_type": "code",
   "execution_count": null,
   "metadata": {},
   "outputs": [],
   "source": [
    "for stat_df, hue in zip(stat_frames.values(), ['is_lesional', None]):\n",
    "    plt.figure()\n",
    "    sns.histplot(stat_df, x='entropy', hue=hue, kde=True)\n",
    "    ax = plt.gca()\n",
    "    ax.set_xlim([0, 0.26])"
   ]
  },
  {
   "cell_type": "code",
   "execution_count": null,
   "metadata": {},
   "outputs": [],
   "source": [
    "# Plot the DoSE KDE scores on a fitted training distribution\n",
    "MAX_N_BATCHES = 5\n",
    "test_dataloaders = [camcan_train_dataloader, brats_val_t2_dataloader] #[brats_val_t2_dataloader, brats_val_t1_dataloader, camcan_train_dataloader]\n",
    "has_lesional_data = [False, True] # [True, True, False]\n",
    "\n",
    "kde_func_dict = fit_statistics(statistics_dict)\n",
    "for dataloader, has_lesions in zip(test_dataloaders, has_lesional_data):\n",
    "    dose_scores, dose_kde_dict = full_pipeline_slice_wise_dose_scores(camcan_train_dataloader, dataloader, model,\n",
    "                                                                      DOSE_STATISTICS, MAX_N_BATCHES, kde_func_dict)\n",
    "    do_pair_plot_statistics(dose_kde_dict, DOSE_STATISTICS, dataloader.dataset.name, 'is_lesional' if has_lesions else None)"
   ]
  },
  {
   "cell_type": "markdown",
   "metadata": {},
   "source": [
    "# Plotting Final Dose Statistics"
   ]
  },
  {
   "cell_type": "code",
   "execution_count": null,
   "metadata": {
    "pycharm": {
     "name": "#%%\n"
    }
   },
   "outputs": [],
   "source": [
    "# Fitting statistics on training data\n",
    "statistics_dict = aggregate_slice_wise_statistics(model, camcan_train_dataloader, DOSE_STATISTICS, max_n_batches=50)\n",
    "kde_func_dict = fit_statistics(statistics_dict)\n",
    "\n",
    "# Computing dose scores on OOD dataset\n",
    "dose_scores, dose_kde_dict = full_pipeline_slice_wise_dose_scores(camcan_train_dataloader, brats_val_t2_dataloader, model, \n",
    "                                                                    DOSE_STATISTICS, MAX_N_BATCHES, kde_func_dict)\n",
    "final_dose_df = pd.DataFrame({'DoSE': dose_scores, 'is_lesional': dose_kde_dict['is_lesional']})\n",
    "sns.kdeplot(final_dose_df.DoSE, hue=final_dose_df.is_lesional)\n",
    "\n",
    "# Computing dose scores on ID dataset\n",
    "dose_scores, dose_kde_dict = full_pipeline_slice_wise_dose_scores(camcan_train_dataloader, camcan_train_dataloader, model, \n",
    "                                                                    DOSE_STATISTICS, 3, kde_func_dict)\n",
    "final_dose_df = pd.DataFrame({'DoSE': dose_scores, 'is_lesional': dose_kde_dict['is_lesional']})\n",
    "sns.kdeplot(final_dose_df.DoSE, hue=final_dose_df.is_lesional)"
   ]
  },
  {
   "cell_type": "code",
   "execution_count": null,
   "metadata": {
    "collapsed": false,
    "jupyter": {
     "outputs_hidden": false
    },
    "pycharm": {
     "name": "#%%\n"
    }
   },
   "outputs": [],
   "source": []
  }
 ],
 "metadata": {
  "kernelspec": {
   "display_name": "uncertify-env",
   "language": "python",
   "name": "uncertify-env"
  },
  "language_info": {
   "codemirror_mode": {
    "name": "ipython",
    "version": 3
   },
   "file_extension": ".py",
   "mimetype": "text/x-python",
   "name": "python",
   "nbconvert_exporter": "python",
   "pygments_lexer": "ipython3",
   "version": "3.8.6"
  }
 },
 "nbformat": 4,
 "nbformat_minor": 4
}
