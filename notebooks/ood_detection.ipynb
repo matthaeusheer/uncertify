{
 "cells": [
  {
   "cell_type": "code",
   "execution_count": null,
   "metadata": {},
   "outputs": [],
   "source": [
    "%load_ext autoreload\n",
    "%autoreload 2\n",
    "\n",
    "from context import uncertify"
   ]
  },
  {
   "cell_type": "code",
   "execution_count": null,
   "metadata": {},
   "outputs": [],
   "source": [
    "import logging\n",
    "from uncertify.log import setup_logging\n",
    "setup_logging()\n",
    "LOG = logging.getLogger(__name__)\n",
    "\n",
    "# Matplotlib DEBUG logging spits out a whole bunch of crap\n",
    "mpl_logger = logging.getLogger('matplotlib')\n",
    "mpl_logger.setLevel(logging.WARNING)"
   ]
  },
  {
   "cell_type": "code",
   "execution_count": null,
   "metadata": {},
   "outputs": [],
   "source": [
    "from pathlib import Path\n",
    "\n",
    "import torch\n",
    "import torchvision\n",
    "from tqdm import tqdm\n",
    "try:\n",
    "    tqdm._instances.clear()\n",
    "except:\n",
    "    pass\n",
    "import seaborn as sns\n",
    "import numpy as np\n",
    "import matplotlib\n",
    "import matplotlib.pyplot as plt\n",
    "from torch.utils.data import DataLoader\n",
    "plt.rc('font', family='serif')\n",
    "matplotlib.rcParams.update({'font.size': 18})\n",
    "\n",
    "from uncertify.data.np_transforms import NumpyReshapeTransform, Numpy2PILTransform\n",
    "from uncertify.data.transforms import H_FLIP_TRANSFORM, V_FLIP_TRANSFORM\n",
    "from uncertify.data.datasets import GaussianNoiseDataset\n",
    "\n",
    "from uncertify.data.dataloaders import dataloader_factory, DatasetType\n",
    "from uncertify.models.vae import VariationalAutoEncoder\n",
    "from uncertify.models.encoder_decoder_baur2020 import BaurDecoder, BaurEncoder\n",
    "\n",
    "from uncertify.io.models import load_ensemble_models\n",
    "from uncertify.evaluation.ood_experiments import run_ood_evaluations, run_ood_to_ood_dict\n",
    "\n",
    "from uncertify.visualization.ood_scores import plot_ood_scores, plot_most_least_ood, plot_samples_close_to_score\n",
    "\n",
    "from uncertify.common import DATA_DIR_PATH"
   ]
  },
  {
   "cell_type": "code",
   "execution_count": null,
   "metadata": {},
   "outputs": [],
   "source": [
    "# Load models\n",
    "RUN_DIR_PATH = Path('/media/juniors/2TB_internal_HD/lightning_logs/train_vae/')\n",
    "RUN_VERSIONS = [0, 1, 2, 3]\n",
    "CHECKPOINT_PATHS = [RUN_DIR_PATH / f'version_{version}/checkpoints/last.ckpt' for version in RUN_VERSIONS]\n",
    "ensemble_models = load_ensemble_models(DATA_DIR_PATH / 'ensemble_models', [f'model{idx}.ckpt' for idx in RUN_VERSIONS])\n",
    "\n",
    "MASKED_CHECKPOINT_PATH = DATA_DIR_PATH / 'lightning_logs/vae_kl_test/version_20/checkpoints/last.ckpt'\n",
    "assert MASKED_CHECKPOINT_PATH.exists(), f'Model checkpoint does not exist!'\n",
    "\n",
    "checkpoint = torch.load(MASKED_CHECKPOINT_PATH)\n",
    "model = VariationalAutoEncoder(BaurEncoder(), BaurDecoder())\n",
    "model.load_state_dict(checkpoint['state_dict'])"
   ]
  },
  {
   "cell_type": "code",
   "execution_count": null,
   "metadata": {
    "pycharm": {
     "name": "#%%\n"
    }
   },
   "outputs": [],
   "source": [
    "batch_size    = 155\n",
    "USE_N_BATCHES = 10\n",
    "NUM_WORKERS   = 0\n",
    "\n",
    "PROCESSED_DIR_PATH = Path('/media/juniors/2TB_internal_HD/datasets/processed/')\n",
    "\n",
    "brats_t2_path    = PROCESSED_DIR_PATH / 'brats17_t2_bc_std_bv3.5_l10.hdf5'\n",
    "brats_t2_hm_path = PROCESSED_DIR_PATH / 'brats17_t2_hm_bc_std_bv-3.5.hdf5'\n",
    "brats_t1_path    = PROCESSED_DIR_PATH / 'brats17_t1_bc_std_bv3.5_l10.hdf5'\n",
    "brats_t1_hm_path = PROCESSED_DIR_PATH / 'brats17_t1_hm_bc_std_bv-3.5.hdf5'\n",
    "camcan_t2_val_path   = DATA_DIR_PATH  / 'processed/camcan_val_t2_hm_std_bv3.5_xe.hdf5'\n",
    "camcan_t2_train_path = DATA_DIR_PATH  / 'processed/camcan_train_t2_hm_std_bv3.5_xe.hdf5'\n",
    "\n",
    "_, brats_val_t2_dataloader    = dataloader_factory(DatasetType.BRATS17, batch_size=batch_size, val_set_path=brats_t2_path, shuffle_val=False, num_workers=NUM_WORKERS)\n",
    "_, brats_val_t1_dataloader    = dataloader_factory(DatasetType.BRATS17, batch_size=batch_size, val_set_path=brats_t1_path, shuffle_val=False, num_workers=NUM_WORKERS)\n",
    "_, brats_val_t2_hm_dataloader = dataloader_factory(DatasetType.BRATS17, batch_size=batch_size, val_set_path=brats_t2_hm_path, shuffle_val=False, num_workers=NUM_WORKERS)\n",
    "_, brats_val_t1_hm_dataloader = dataloader_factory(DatasetType.BRATS17, batch_size=batch_size, val_set_path=brats_t1_hm_path, shuffle_val=False, num_workers=NUM_WORKERS)\n",
    "\n",
    "\n",
    "_, brats_val_t2_hflip_dataloader = dataloader_factory(DatasetType.BRATS17, batch_size=batch_size, val_set_path=brats_t2_path, shuffle_val=False, num_workers=NUM_WORKERS, transform=H_FLIP_TRANSFORM)\n",
    "_, brats_val_t2_vflip_dataloader = dataloader_factory(DatasetType.BRATS17, batch_size=batch_size, val_set_path=brats_t2_path, shuffle_val=False, num_workers=NUM_WORKERS, transform=V_FLIP_TRANSFORM)\n",
    "\n",
    "camcan_train_dataloader, camcan_val_dataloader = dataloader_factory(DatasetType.CAMCAN, batch_size=batch_size, val_set_path=camcan_t2_val_path, train_set_path=camcan_t2_train_path, shuffle_val=False, shuffle_train=True, num_workers=NUM_WORKERS)\n",
    "\n",
    "noise_set = GaussianNoiseDataset()\n",
    "noise_loader = DataLoader(noise_set, batch_size=batch_size)\n",
    "\n",
    "_, mnist_val_dataloader = dataloader_factory(DatasetType.MNIST, batch_size=batch_size, transform=torchvision.transforms.Compose([\n",
    "                                                                        torchvision.transforms.Resize((128, 128)),\n",
    "                                                                        torchvision.transforms.ToTensor()\n",
    "                                                                    ])\n",
    "                         )\n",
    "\n",
    "dataloader_dict = {'BraTS T2 val': brats_val_t2_dataloader, \n",
    "                   'BraTS T1 val': brats_val_t1_dataloader, \n",
    "                   #'BraTS T2 HM val': brats_val_t2_hm_dataloader, \n",
    "                   #'BraTS T1 HM val': brats_val_t1_hm_dataloader,\n",
    "                   #'CamCAN train': camcan_train_dataloader,\n",
    "                   #'CamCAN val': camcan_val_dataloader,\n",
    "                   #'Gaussian noise': noise_loader,\n",
    "                   #'MNIST': mnist_val_dataloader,\n",
    "                   #'BraTS T2 HFlip': brats_val_t2_hflip_dataloader,\n",
    "                   #'BraTS T2 VFlip': brats_val_t2_vflip_dataloader\n",
    "}\n",
    "brats_dataloader_dict = {key: val for key, val in dataloader_dict.items() if 'BraTS' in key}\n",
    "\n",
    "for name, dataloader in dataloader_dict.items(): \n",
    "    print(f'{name:15} dataloader: {len(dataloader)} batches (batch_size: {dataloader.batch_size}) -> {len(dataloader) * dataloader.batch_size} samples.')"
   ]
  },
  {
   "cell_type": "markdown",
   "metadata": {},
   "source": [
    "# OOD Detection Evaluation for different OOD datasets"
   ]
  },
  {
   "cell_type": "code",
   "execution_count": null,
   "metadata": {},
   "outputs": [],
   "source": [
    "run_ood_evaluations(camcan_train_dataloader, dataloader_dict, [model],\n",
    "                    residual_threshold=0.93, max_n_batches=10)"
   ]
  },
  {
   "cell_type": "markdown",
   "metadata": {},
   "source": [
    "# OOD Score"
   ]
  },
  {
   "cell_type": "code",
   "execution_count": null,
   "metadata": {},
   "outputs": [],
   "source": [
    "NUM_BACTHES = 10\n",
    "OOD_METRICS = ('dose', )  # waic\n",
    "DOSE_STATISTICS = ('elbo', 'kl_div', 'rec_err')\n",
    "\n",
    "dataloader_dict = {'BraTS T2 val': brats_val_t2_dataloader, \n",
    "                   #'BraTS T1 val': brats_val_t1_dataloader, \n",
    "                   #'BraTS T2 HM val': brats_val_t2_hm_dataloader,\n",
    "                   #'BraTS T1 HM val': brats_val_t1_hm_dataloader,\n",
    "                   #'CamCAN train': camcan_train_dataloader,\n",
    "                   #'Gaussian noise': noise_loader,\n",
    "                   #'MNIST': mnist_val_dataloader\n",
    "}\n",
    "\n",
    "metrics_ood_dict = run_ood_to_ood_dict(dataloader_dict, [model], camcan_train_dataloader,\n",
    "                                       num_batches=NUM_BACTHES, ood_metrics=OOD_METRICS,\n",
    "                                       dose_statistics=DOSE_STATISTICS)"
   ]
  },
  {
   "cell_type": "code",
   "execution_count": null,
   "metadata": {},
   "outputs": [],
   "source": [
    "for metric in OOD_METRICS:\n",
    "    ood_dict = metrics_ood_dict[metric]\n",
    "    #plot_ood_scores(ood_dict, score_label='metric', dataset_name_filters=[], modes_to_include=['healthy', 'lesional'])\n",
    "\n",
    "    #plot_most_least_ood(ood_dict, 'BraTS T2 val', n_most=64)\n",
    "    #plot_most_least_ood(ood_dict, 'BraTS T2 HM val')\n",
    "    #plot_most_least_ood(ood_dict, 'CamCAN train', do_lesional=False, n_most=64)\n",
    "\n",
    "    plot_samples_close_to_score(ood_dict, 'BraTS T2 val', min_score=0, max_score=24, n=64, show_ground_truth=True)\n",
    "    #plot_samples_close_to_score(ood_dict, 'BraTS T2 HM val', min_score=0.85, max_score=1.2)\n",
    "    #plot_samples_close_to_score(ood_dict, 'CamCAN train', do_lesional=False, min_score=0, max_score=25, n=64)\n"
   ]
  },
  {
   "cell_type": "markdown",
   "metadata": {},
   "source": [
    "# Slice-Wise Statistics"
   ]
  },
  {
   "cell_type": "code",
   "execution_count": null,
   "metadata": {},
   "outputs": [],
   "source": [
    "import pandas as pd\n",
    "import seaborn as sns\n",
    "sns.set_context(\"poster\")\n",
    "\n",
    "from uncertify.evaluation.dose import full_pipeline_slice_wise_dose_scores\n",
    "from uncertify.evaluation.statistics import fit_statistics, aggregate_slice_wise_statistics"
   ]
  },
  {
   "cell_type": "code",
   "execution_count": null,
   "metadata": {},
   "outputs": [],
   "source": [
    "# Plot the fitted training statistics as a lower triangular pair-plot\n",
    "\n",
    "DOSE_STATISTICS = ['elbo', 'rec_err', 'kl_div']\n",
    "MAX_N_BATCHES = 10\n",
    "\n",
    "test_dataloaders = [camcan_train_dataloader]#, brats_val_t2_dataloader]\n",
    "for dataloader in test_dataloaders:\n",
    "    statistics_dict = aggregate_slice_wise_statistics(model, dataloader,\n",
    "                                                      DOSE_STATISTICS, max_n_batches=MAX_N_BATCHES)\n",
    "    kde_func_dict = fit_statistics(statistics_dict)\n",
    "    stat_df = pd.DataFrame(statistics_dict)\n",
    "    plt.figure()\n",
    "    sns_plot = sns.pairplot(stat_df, vars=DOSE_STATISTICS,\n",
    "                            corner=True, plot_kws={\"s\": 10}, palette='viridis',\n",
    "                            hue='is_lesional' if dataloader != camcan_train_dataloader else None)\n",
    "    sns_plot.map_lower(sns.kdeplot, shade=True, thresh=0.05, alpha=0.7)\n",
    "    sns_plot.map_diag(sns.kdeplot)\n",
    "    sns_plot.savefig(DATA_DIR_PATH / 'plots' / f'dose_training_statistics_{dataloader.dataset.name}.png')\n",
    "    \n",
    "    plt.figure()\n",
    "    for stat in DOSE_STATISTICS:\n",
    "        sns.kdeplot(stat_df[stat], label=stat)\n",
    "    "
   ]
  },
  {
   "cell_type": "code",
   "execution_count": null,
   "metadata": {},
   "outputs": [],
   "source": [
    "# Plot the DoSE KDE scores on a fitted training distribution\n",
    "MAX_N_BATCHES = 5\n",
    "test_dataloaders = [brats_val_t1_dataloader]  #, brats_val_t2_dataloader\n",
    "for dataloader in test_dataloaders:\n",
    "    dose_scores, dose_kde_dict = full_pipeline_slice_wise_dose_scores(camcan_train_dataloader, dataloader, model,\n",
    "                                                                    DOSE_STATISTICS, MAX_N_BATCHES, kde_func_dict)\n",
    "    dose_df = pd.DataFrame(dose_kde_dict)\n",
    "    sns_plot = sns.pairplot(dose_df, vars=DOSE_STATISTICS,\n",
    "                            hue='is_lesional' if dataloader != camcan_train_dataloader else None,\n",
    "                            corner=True, plot_kws={\"s\": 10}, palette='viridis')\n",
    "    sns_plot.map_lower(sns.kdeplot, shade=True, thresh=0.05, alpha=0.7)\n",
    "    sns_plot.map_diag(sns.kdeplot)\n",
    "    sns_plot.savefig(DATA_DIR_PATH / 'plots' / f'dose_kde_{dataloader.dataset.name}.png')"
   ]
  },
  {
   "cell_type": "code",
   "execution_count": null,
   "metadata": {},
   "outputs": [],
   "source": [
    "statistics_dict = aggregate_slice_wise_statistics(model, camcan_train_dataloader, DOSE_STATISTICS, max_n_batches=50)\n",
    "kde_func_dict = fit_statistics(statistics_dict)"
   ]
  },
  {
   "cell_type": "code",
   "execution_count": null,
   "metadata": {},
   "outputs": [],
   "source": [
    "dose_scores, dose_kde_dict = full_pipeline_slice_wise_dose_scores(camcan_train_dataloader, brats_val_t2_dataloader, model, \n",
    "                                                                    DOSE_STATISTICS, MAX_N_BATCHES, kde_func_dict)\n",
    "final_dose_df = pd.DataFrame({'DoSE': dose_scores, 'is_lesional': dose_kde_dict['is_lesional']})\n",
    "sns.kdeplot(final_dose_df.DoSE, hue=final_dose_df.is_lesional)"
   ]
  },
  {
   "cell_type": "code",
   "execution_count": null,
   "metadata": {},
   "outputs": [],
   "source": [
    "dose_scores, dose_kde_dict = full_pipeline_slice_wise_dose_scores(camcan_train_dataloader, camcan_train_dataloader, model, \n",
    "                                                                    DOSE_STATISTICS, MAX_N_BATCHES, kde_func_dict)\n",
    "final_dose_df = pd.DataFrame({'DoSE': dose_scores, 'is_lesional': dose_kde_dict['is_lesional']})\n",
    "sns.kdeplot(final_dose_df.DoSE, hue=final_dose_df.is_lesional)"
   ]
  },
  {
   "cell_type": "code",
   "execution_count": null,
   "metadata": {},
   "outputs": [],
   "source": []
  }
 ],
 "metadata": {
  "kernelspec": {
   "display_name": "Python 3",
   "language": "python",
   "name": "python3"
  },
  "language_info": {
   "codemirror_mode": {
    "name": "ipython",
    "version": 3
   },
   "file_extension": ".py",
   "mimetype": "text/x-python",
   "name": "python",
   "nbconvert_exporter": "python",
   "pygments_lexer": "ipython3",
   "version": "3.8.6"
  }
 },
 "nbformat": 4,
 "nbformat_minor": 4
}