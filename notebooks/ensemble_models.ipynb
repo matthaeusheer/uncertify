{
 "cells": [
  {
   "cell_type": "code",
   "execution_count": null,
   "metadata": {},
   "outputs": [],
   "source": [
    "%load_ext autoreload\n",
    "%autoreload 2\n",
    "\n",
    "from context import uncertify"
   ]
  },
  {
   "cell_type": "code",
   "execution_count": null,
   "metadata": {},
   "outputs": [],
   "source": [
    "import logging\n",
    "from uncertify.log import setup_logging\n",
    "setup_logging()\n",
    "LOG = logging.getLogger(__name__)\n",
    "\n",
    "# Matplotlib DEBUG logging spits out a whole bunch of crap\n",
    "mpl_logger = logging.getLogger('matplotlib')\n",
    "mpl_logger.setLevel(logging.WARNING)\n",
    "\n",
    "try:\n",
    "    tqdm._instances.clear()\n",
    "except:\n",
    "    pass"
   ]
  },
  {
   "cell_type": "code",
   "execution_count": null,
   "metadata": {
    "collapsed": false,
    "jupyter": {
     "outputs_hidden": false
    },
    "pycharm": {
     "name": "#%%\n"
    }
   },
   "outputs": [],
   "source": [
    "import torch\n",
    "import torchvision\n",
    "\n",
    "from uncertify.io.models import load_ensemble_models\n",
    "from uncertify.common import HD_MODELS_PATH\n",
    "from uncertify.evaluation.ensembles import yield_inference_batches\n",
    "from uncertify.data.default_dataloaders import default_dataloader_dict_factory\n",
    "from uncertify.evaluation.ensembles import infer_ensembles, combine_ensemble_results, visualize_ensemble_predictions\n",
    "from uncertify.visualization.reconstruction import plot_stacked_scan_reconstruction_batches\n",
    "from uncertify.visualization.grid import imshow_grid"
   ]
  },
  {
   "cell_type": "code",
   "execution_count": null,
   "metadata": {
    "pycharm": {
     "name": "#%%\n"
    }
   },
   "outputs": [],
   "source": [
    "model_dir_path = HD_MODELS_PATH / 'scheduled_masked_ensembles'\n",
    "file_names = [f'model_{idx}.ckpt' for idx in [0, 1, 2, 3, 4]]\n",
    "\n",
    "ensembles = load_ensemble_models(dir_path=model_dir_path, file_names=file_names)\n",
    "dataloader_dict = default_dataloader_dict_factory(batch_size=8, shuffle_val=True, num_workers=1)\n",
    "\n",
    "print(f'Loaded {len(ensembles)} ensemble models.')\n",
    "print(f'Loaded {len(dataloader_dict)} dataloaders: {dataloader_dict.keys()}')"
   ]
  },
  {
   "cell_type": "code",
   "execution_count": null,
   "metadata": {
    "collapsed": false,
    "jupyter": {
     "outputs_hidden": false
    },
    "pycharm": {
     "name": "#%%\n"
    }
   },
   "outputs": [],
   "source": [
    "dataloader = dataloader_dict['BraTS T2 val']\n",
    "model_result_generators = infer_ensembles(ensembles, dataloader,\n",
    "                                          use_n_batches=10, residual_threshold=0.65)\n",
    "\n",
    "ensemble_results = combine_ensemble_results(model_result_generators)\n",
    "visualize_ensemble_predictions(ensemble_results, figsize=(12, 12), cmap='viridis', axis='off')"
   ]
  },
  {
   "cell_type": "code",
   "execution_count": null,
   "metadata": {},
   "outputs": [],
   "source": []
  }
 ],
 "metadata": {
  "kernelspec": {
   "display_name": "uncertify-env",
   "language": "python",
   "name": "uncertify-env"
  },
  "language_info": {
   "codemirror_mode": {
    "name": "ipython",
    "version": 3
   },
   "file_extension": ".py",
   "mimetype": "text/x-python",
   "name": "python",
   "nbconvert_exporter": "python",
   "pygments_lexer": "ipython3",
   "version": "3.8.6"
  }
 },
 "nbformat": 4,
 "nbformat_minor": 4
}
