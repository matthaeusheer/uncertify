{
 "cells": [
  {
   "cell_type": "code",
   "execution_count": null,
   "metadata": {},
   "outputs": [],
   "source": [
    "%load_ext autoreload\n",
    "%autoreload 2\n",
    "\n",
    "from context import uncertify"
   ]
  },
  {
   "cell_type": "code",
   "execution_count": null,
   "metadata": {},
   "outputs": [],
   "source": [
    "import logging\n",
    "from uncertify.log import setup_logging\n",
    "setup_logging()\n",
    "LOG = logging.getLogger(__name__)\n",
    "\n",
    "# Matplotlib DEBUG logging spits out a whole bunch of crap\n",
    "mpl_logger = logging.getLogger('matplotlib')\n",
    "mpl_logger.setLevel(logging.ERROR)"
   ]
  },
  {
   "cell_type": "code",
   "execution_count": null,
   "metadata": {
    "collapsed": false,
    "jupyter": {
     "outputs_hidden": false
    },
    "pycharm": {
     "name": "#%%\n"
    }
   },
   "outputs": [],
   "source": [
    "from pathlib import Path\n",
    "\n",
    "from torch.utils.data import DataLoader\n",
    "import torchvision\n",
    "from tqdm import tqdm\n",
    "try:\n",
    "    tqdm._instances.clear()\n",
    "except:\n",
    "    pass\n",
    "\n",
    "from uncertify.io.models import load_ensemble_models, load_vae_baur_model\n",
    "from uncertify.data.dataloaders import DatasetType\n",
    "from uncertify.data.dataloaders import dataloader_factory\n",
    "from uncertify.evaluation.evaluation_pipeline import run_evaluation_pipeline, print_results\n",
    "from uncertify.evaluation.configs import EvaluationConfig, PerformanceEvaluationConfig, PixelThresholdSearchConfig\n",
    "from uncertify.data.datasets import GaussianNoiseDataset\n",
    "from uncertify.data.default_dataloaders import default_dataloader_dict_factory, filter_dataloader_dict, print_dataloader_dict\n",
    "\n",
    "from uncertify.common import DATA_DIR_PATH, HD_DATA_PATH, HD_MODELS_PATH"
   ]
  },
  {
   "cell_type": "code",
   "execution_count": null,
   "metadata": {},
   "outputs": [],
   "source": [
    "# Load (ensemble) models\n",
    "RUN_VERSIONS = [0, 1, 2, 3, 4]\n",
    "ensemble_models = load_ensemble_models(HD_MODELS_PATH / 'scheduled_masked_ensembles', [f'model_{idx}.ckpt' for idx in RUN_VERSIONS])\n",
    "\n",
    "# Load stand-alone model\n",
    "masked_model = load_vae_baur_model(Path('/mnt/2TB_internal_HD/lightning_logs/schedule_mask/version_3/checkpoints/last.ckpt'))\n",
    "non_masked_model = load_vae_baur_model(Path('/mnt/2TB_internal_HD/lightning_logs/schedule_mask/version_5/checkpoints/last.ckpt'))\n",
    "\n",
    "model = non_masked_model\n",
    "#model = load_vae_baur_model(Path('/mnt/2TB_internal_HD/lightning_logs/beta_test/version_2/checkpoints/last.ckpt'))\n",
    "#model = load_vae_baur_model(Path('/media/1TB_SSD/lightning_logs/camcan_beta/version_0/checkpoints/last.ckpt'))"
   ]
  },
  {
   "cell_type": "code",
   "execution_count": null,
   "metadata": {},
   "outputs": [],
   "source": [
    "dataloader_dict = default_dataloader_dict_factory(batch_size=10, num_workers=12, shuffle_val=True)\n",
    "# filtered_dataloader_dict = filter_dataloader_dict(dataloader_dict, contains=['val', 'BraTS T2 HM'], exclude=['Flip', 'CamCAN val', 'T1'])\n",
    "filtered_dataloader_dict = {name: dataloader_dict[name] for name in ['BraTS T2']}  #,\n",
    "                                                                     #'BraTS T2 HM',\n",
    "                                                                     #'BraTS T1',\n",
    "                                                                     #'BraTS T1 HM',\n",
    "                                                                     #'CamCAN T2 lesion',\n",
    "                                                                     #'MNIST',\n",
    "                                                                     #'Gaussian noise']}\n",
    "print_dataloader_dict(filtered_dataloader_dict)"
   ]
  },
  {
   "cell_type": "code",
   "execution_count": null,
   "metadata": {},
   "outputs": [],
   "source": [
    "DO_SEGMENTATION      = False\n",
    "DO_ANOMALY_DETECTION = False\n",
    "DO_LOSS_HISTOGRAMS   = False\n",
    "DO_OOD               = True\n",
    "RESIDUAL_THRESHOLD   = 0.69\n",
    "DO_EXAMPLE_IMGS      = False\n",
    "DO_PLOTS             = True\n",
    "\n",
    "eval_cfg = EvaluationConfig()\n",
    "USE_N_BATCHES = 5\n",
    "TRAIN_LOADER_NAME = 'CamCAN T2'\n",
    "TRAIN_DATALOADER = dataloader_dict[TRAIN_LOADER_NAME]\n",
    "eval_cfg.do_plots = DO_PLOTS\n",
    "eval_cfg.use_n_batches = USE_N_BATCHES\n",
    "eval_cfg.ood_config.metrics = ('dose', )  # ('waic', 'dose')\n",
    "eval_cfg.ood_config.dose_statistics = ('rec_err', 'kl_div', 'elbo', 'entropy')  # ('rec_err', 'kl_div', 'elbo', 'entropy')\n",
    "\n",
    "results = {}\n",
    "counter = 0\n",
    "for val_set_name, dataloader  in filtered_dataloader_dict.items():\n",
    "    LOG.info(f'Running evaluation on {val_set_name}!')\n",
    "    result = run_evaluation_pipeline(model, \n",
    "                                     TRAIN_DATALOADER, \n",
    "                                     TRAIN_LOADER_NAME,\n",
    "                                     dataloader,\n",
    "                                     val_set_name,\n",
    "                                     eval_cfg, \n",
    "                                     RESIDUAL_THRESHOLD,\n",
    "                                     run_segmentation=DO_SEGMENTATION, \n",
    "                                     run_anomaly_detection=DO_ANOMALY_DETECTION, \n",
    "                                     run_loss_histograms=DO_LOSS_HISTOGRAMS,\n",
    "                                     run_ood_detection=DO_OOD,\n",
    "                                     do_example_imgs=DO_EXAMPLE_IMGS,\n",
    "                                     ensemble_models=ensemble_models)\n",
    "    results[val_set_name] = result\n",
    "    counter += 1\n",
    "    if counter == 2:\n",
    "        pass\n",
    "    \n",
    "\n",
    "for name, result in results.items():\n",
    "    print(f'\\n\\t{name}')\n",
    "    print_results(result)      "
   ]
  },
  {
   "cell_type": "code",
   "execution_count": null,
   "metadata": {},
   "outputs": [],
   "source": []
  },
  {
   "cell_type": "code",
   "execution_count": null,
   "metadata": {},
   "outputs": [],
   "source": []
  }
 ],
 "metadata": {
  "kernelspec": {
   "display_name": "uncertify-env",
   "language": "python",
   "name": "uncertify-env"
  },
  "language_info": {
   "codemirror_mode": {
    "name": "ipython",
    "version": 3
   },
   "file_extension": ".py",
   "mimetype": "text/x-python",
   "name": "python",
   "nbconvert_exporter": "python",
   "pygments_lexer": "ipython3",
   "version": "3.8.6"
  }
 },
 "nbformat": 4,
 "nbformat_minor": 4
}