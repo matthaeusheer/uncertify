{
 "cells": [
  {
   "cell_type": "code",
   "execution_count": 1,
   "metadata": {},
   "outputs": [],
   "source": [
    "%load_ext autoreload\n",
    "%autoreload 2\n",
    "\n",
    "from context import uncertify"
   ]
  },
  {
   "cell_type": "code",
   "execution_count": 2,
   "metadata": {},
   "outputs": [],
   "source": [
    "import logging\n",
    "from uncertify.log import setup_logging\n",
    "setup_logging()\n",
    "LOG = logging.getLogger(__name__)\n",
    "\n",
    "# Matplotlib DEBUG logging spits out a whole bunch of crap\n",
    "mpl_logger = logging.getLogger('matplotlib')\n",
    "mpl_logger.setLevel(logging.WARNING)"
   ]
  },
  {
   "cell_type": "code",
   "execution_count": 13,
   "metadata": {
    "collapsed": false,
    "jupyter": {
     "outputs_hidden": false
    },
    "pycharm": {
     "name": "#%%\n"
    }
   },
   "outputs": [],
   "source": [
    "from pathlib import Path\n",
    "\n",
    "from torch.utils.data import DataLoader\n",
    "import torchvision\n",
    "\n",
    "from uncertify.models.vae import load_vae_baur_model\n",
    "from uncertify.data.dataloaders import DatasetType\n",
    "from uncertify.data.dataloaders import dataloader_factory\n",
    "from uncertify.evaluation.evaluation_pipeline import run_evaluation_pipeline\n",
    "from uncertify.evaluation.configs import EvaluationConfig, PerformanceEvaluationConfig, PixelThresholdSearchConfig\n",
    "from uncertify.data.datasets import GaussianNoiseDataset\n",
    "from uncertify.common import DATA_DIR_PATH"
   ]
  },
  {
   "cell_type": "code",
   "execution_count": 14,
   "metadata": {},
   "outputs": [],
   "source": [
    "# Define some paths and high level parameters\n",
    "CHECKPOINT_PATH = Path('/media/juniors/2TB_internal_HD/lightning_logs/train_vae/version_2/checkpoints/last.ckpt')\n",
    "HDD_PROCESSED_DIR_PATH = Path('/media/juniors/2TB_internal_HD/datasets/processed/')\n",
    "BATCH_SIZE = 155\n",
    "\n",
    "# Load the model and define the evaluation config\n",
    "model = load_vae_baur_model(CHECKPOINT_PATH)\n",
    "eval_cfg = EvaluationConfig(\n",
    "    thresh_search_config=PixelThresholdSearchConfig(\n",
    "        accepted_fpr=0.05,\n",
    "    ),\n",
    "    performance_config=PerformanceEvaluationConfig(\n",
    "        use_n_batches=None\n",
    "    )\n",
    ")\n",
    "\n",
    "_, brats_val_t2_dataloader = dataloader_factory(DatasetType.BRATS17, batch_size=BATCH_SIZE, \n",
    "                                             val_set_path=HDD_PROCESSED_DIR_PATH / 'brats17_t2_hm_bc_std_bv-3.5.hdf5', shuffle_val=False)\n",
    "_, brats_val_t1_dataloader = dataloader_factory(DatasetType.BRATS17, batch_size=BATCH_SIZE, \n",
    "                                             val_set_path=HDD_PROCESSED_DIR_PATH / 'brats17_t1_hm_bc_std_bv-3.5.hdf5', shuffle_val=False)\n",
    "\n",
    "camcan_train_dataloader, camcan_val_dataloader = dataloader_factory(DatasetType.CAMCAN, batch_size=BATCH_SIZE, \n",
    "                                                                    val_set_path=DATA_DIR_PATH / 'processed/camcan_val_t2_hm_std_bv3.5_xe.hdf5', \n",
    "                                                                    train_set_path=DATA_DIR_PATH / 'processed/camcan_train_t2_hm_std_bv3.5_xe.hdf5', \n",
    "                                                                    shuffle_val=False, shuffle_train=True)\n",
    "noise_set = GaussianNoiseDataset()\n",
    "noise_loader = DataLoader(noise_set, batch_size=BATCH_SIZE)\n",
    "\n",
    "_, mnist_val_dataloader = dataloader_factory(DatasetType.MNIST, batch_size=BATCH_SIZE, transform=torchvision.transforms.Compose([\n",
    "                                                                        torchvision.transforms.Resize((128, 128)),\n",
    "                                                                        torchvision.transforms.ToTensor()\n",
    "                                                                    ])\n",
    "                         )"
   ]
  },
  {
   "cell_type": "code",
   "execution_count": null,
   "metadata": {},
   "outputs": [
    {
     "name": "stdout",
     "output_type": "stream",
     "text": [
      "2020-10-22 22:37:45,814 : uncertify.evaluation.evaluation_pipeline : INFO       Determining best residual threshold based on accepted FPR (0.05)\n"
     ]
    },
    {
     "name": "stderr",
     "output_type": "stream",
     "text": [
      "Inferring batches :  50%|█████     | 50/100 [02:33<02:34,  3.09s/it]"
     ]
    },
    {
     "name": "stdout",
     "output_type": "stream",
     "text": [
      "2020-10-22 22:40:21,936 : uncertify.evaluation.thresholding : INFO       Threshold: 0.00 - 50 of 100 batches done.\n"
     ]
    },
    {
     "name": "stderr",
     "output_type": "stream",
     "text": [
      "Inferring batches : 100%|██████████| 100/100 [05:06<00:00,  3.08s/it]"
     ]
    },
    {
     "name": "stdout",
     "output_type": "stream",
     "text": [
      "2020-10-22 22:42:55,631 : uncertify.evaluation.thresholding : INFO       Threshold: 0.00 - 100 of 100 batches done.\n"
     ]
    },
    {
     "name": "stderr",
     "output_type": "stream",
     "text": [
      "Inferring batches : 100%|██████████| 100/100 [05:09<00:00,  3.10s/it]\n",
      "Inferring batches :  50%|█████     | 50/100 [02:27<02:30,  3.01s/it]"
     ]
    },
    {
     "name": "stdout",
     "output_type": "stream",
     "text": [
      "2020-10-22 22:45:26,429 : uncertify.evaluation.thresholding : INFO       Threshold: 0.07 - 50 of 100 batches done.\n"
     ]
    },
    {
     "name": "stderr",
     "output_type": "stream",
     "text": [
      "Inferring batches : 100%|██████████| 100/100 [04:59<00:00,  3.09s/it]"
     ]
    },
    {
     "name": "stdout",
     "output_type": "stream",
     "text": [
      "2020-10-22 22:47:58,475 : uncertify.evaluation.thresholding : INFO       Threshold: 0.07 - 100 of 100 batches done.\n"
     ]
    },
    {
     "name": "stderr",
     "output_type": "stream",
     "text": [
      "Inferring batches : 100%|██████████| 100/100 [05:02<00:00,  3.03s/it]\n",
      "Inferring batches :  50%|█████     | 50/100 [02:29<02:31,  3.03s/it]"
     ]
    },
    {
     "name": "stdout",
     "output_type": "stream",
     "text": [
      "2020-10-22 22:50:30,624 : uncertify.evaluation.thresholding : INFO       Threshold: 0.14 - 50 of 100 batches done.\n"
     ]
    },
    {
     "name": "stderr",
     "output_type": "stream",
     "text": [
      "Inferring batches : 100%|██████████| 100/100 [05:00<00:00,  3.04s/it]"
     ]
    },
    {
     "name": "stdout",
     "output_type": "stream",
     "text": [
      "2020-10-22 22:53:02,231 : uncertify.evaluation.thresholding : INFO       Threshold: 0.14 - 100 of 100 batches done.\n"
     ]
    },
    {
     "name": "stderr",
     "output_type": "stream",
     "text": [
      "Inferring batches : 100%|██████████| 100/100 [05:03<00:00,  3.04s/it]\n",
      "Inferring batches :  50%|█████     | 50/100 [02:27<02:30,  3.01s/it]"
     ]
    },
    {
     "name": "stdout",
     "output_type": "stream",
     "text": [
      "2020-10-22 22:55:32,649 : uncertify.evaluation.thresholding : INFO       Threshold: 0.21 - 50 of 100 batches done.\n"
     ]
    },
    {
     "name": "stderr",
     "output_type": "stream",
     "text": [
      "Inferring batches : 100%|██████████| 100/100 [04:58<00:00,  3.04s/it]"
     ]
    },
    {
     "name": "stdout",
     "output_type": "stream",
     "text": [
      "2020-10-22 22:58:04,190 : uncertify.evaluation.thresholding : INFO       Threshold: 0.21 - 100 of 100 batches done.\n"
     ]
    },
    {
     "name": "stderr",
     "output_type": "stream",
     "text": [
      "Inferring batches : 100%|██████████| 100/100 [05:01<00:00,  3.02s/it]\n",
      "Inferring batches :  50%|█████     | 50/100 [02:27<02:29,  2.99s/it]"
     ]
    },
    {
     "name": "stdout",
     "output_type": "stream",
     "text": [
      "2020-10-22 23:00:34,499 : uncertify.evaluation.thresholding : INFO       Threshold: 0.29 - 50 of 100 batches done.\n"
     ]
    },
    {
     "name": "stderr",
     "output_type": "stream",
     "text": [
      "Inferring batches : 100%|██████████| 100/100 [04:58<00:00,  3.04s/it]"
     ]
    },
    {
     "name": "stdout",
     "output_type": "stream",
     "text": [
      "2020-10-22 23:03:06,147 : uncertify.evaluation.thresholding : INFO       Threshold: 0.29 - 100 of 100 batches done.\n"
     ]
    },
    {
     "name": "stderr",
     "output_type": "stream",
     "text": [
      "Inferring batches : 100%|██████████| 100/100 [05:01<00:00,  3.02s/it]\n",
      "Inferring batches :  50%|█████     | 50/100 [02:26<02:29,  2.99s/it]"
     ]
    },
    {
     "name": "stdout",
     "output_type": "stream",
     "text": [
      "2020-10-22 23:05:35,950 : uncertify.evaluation.thresholding : INFO       Threshold: 0.36 - 50 of 100 batches done.\n"
     ]
    },
    {
     "name": "stderr",
     "output_type": "stream",
     "text": [
      "Inferring batches : 100%|██████████| 100/100 [04:58<00:00,  3.01s/it]"
     ]
    },
    {
     "name": "stdout",
     "output_type": "stream",
     "text": [
      "2020-10-22 23:08:07,593 : uncertify.evaluation.thresholding : INFO       Threshold: 0.36 - 100 of 100 batches done.\n"
     ]
    },
    {
     "name": "stderr",
     "output_type": "stream",
     "text": [
      "Inferring batches : 100%|██████████| 100/100 [05:01<00:00,  3.01s/it]\n",
      "Inferring batches :  50%|█████     | 50/100 [02:26<02:27,  2.95s/it]"
     ]
    },
    {
     "name": "stdout",
     "output_type": "stream",
     "text": [
      "2020-10-22 23:10:37,287 : uncertify.evaluation.thresholding : INFO       Threshold: 0.43 - 50 of 100 batches done.\n"
     ]
    },
    {
     "name": "stderr",
     "output_type": "stream",
     "text": [
      "Inferring batches : 100%|██████████| 100/100 [04:57<00:00,  3.07s/it]"
     ]
    },
    {
     "name": "stdout",
     "output_type": "stream",
     "text": [
      "2020-10-22 23:13:08,221 : uncertify.evaluation.thresholding : INFO       Threshold: 0.43 - 100 of 100 batches done.\n"
     ]
    },
    {
     "name": "stderr",
     "output_type": "stream",
     "text": [
      "Inferring batches : 100%|██████████| 100/100 [05:00<00:00,  3.01s/it]\n",
      "Inferring batches :  50%|█████     | 50/100 [02:26<02:31,  3.02s/it]"
     ]
    },
    {
     "name": "stdout",
     "output_type": "stream",
     "text": [
      "2020-10-22 23:15:37,367 : uncertify.evaluation.thresholding : INFO       Threshold: 0.50 - 50 of 100 batches done.\n"
     ]
    },
    {
     "name": "stderr",
     "output_type": "stream",
     "text": [
      "Inferring batches : 100%|██████████| 100/100 [04:56<00:00,  2.99s/it]"
     ]
    },
    {
     "name": "stdout",
     "output_type": "stream",
     "text": [
      "2020-10-22 23:18:08,067 : uncertify.evaluation.thresholding : INFO       Threshold: 0.50 - 100 of 100 batches done.\n"
     ]
    },
    {
     "name": "stderr",
     "output_type": "stream",
     "text": [
      "Inferring batches : 100%|██████████| 100/100 [04:59<00:00,  3.00s/it]\n",
      "Inferring batches :  50%|█████     | 50/100 [02:26<02:29,  2.99s/it]"
     ]
    },
    {
     "name": "stdout",
     "output_type": "stream",
     "text": [
      "2020-10-22 23:20:37,577 : uncertify.evaluation.thresholding : INFO       Threshold: 0.57 - 50 of 100 batches done.\n"
     ]
    },
    {
     "name": "stderr",
     "output_type": "stream",
     "text": [
      "Inferring batches : 100%|██████████| 100/100 [04:57<00:00,  3.01s/it]"
     ]
    },
    {
     "name": "stdout",
     "output_type": "stream",
     "text": [
      "2020-10-22 23:23:08,753 : uncertify.evaluation.thresholding : INFO       Threshold: 0.57 - 100 of 100 batches done.\n"
     ]
    },
    {
     "name": "stderr",
     "output_type": "stream",
     "text": [
      "Inferring batches : 100%|██████████| 100/100 [05:00<00:00,  3.01s/it]\n",
      "Inferring batches :  50%|█████     | 50/100 [02:26<02:30,  3.01s/it]"
     ]
    },
    {
     "name": "stdout",
     "output_type": "stream",
     "text": [
      "2020-10-22 23:25:38,421 : uncertify.evaluation.thresholding : INFO       Threshold: 0.64 - 50 of 100 batches done.\n"
     ]
    },
    {
     "name": "stderr",
     "output_type": "stream",
     "text": [
      "Inferring batches : 100%|██████████| 100/100 [04:58<00:00,  3.01s/it]"
     ]
    },
    {
     "name": "stdout",
     "output_type": "stream",
     "text": [
      "2020-10-22 23:28:10,364 : uncertify.evaluation.thresholding : INFO       Threshold: 0.64 - 100 of 100 batches done.\n"
     ]
    },
    {
     "name": "stderr",
     "output_type": "stream",
     "text": [
      "Inferring batches : 100%|██████████| 100/100 [05:01<00:00,  3.02s/it]\n",
      "Inferring batches :  50%|█████     | 50/100 [02:26<02:29,  2.99s/it]"
     ]
    },
    {
     "name": "stdout",
     "output_type": "stream",
     "text": [
      "2020-10-22 23:30:39,949 : uncertify.evaluation.thresholding : INFO       Threshold: 0.71 - 50 of 100 batches done.\n"
     ]
    },
    {
     "name": "stderr",
     "output_type": "stream",
     "text": [
      "Inferring batches : 100%|██████████| 100/100 [04:57<00:00,  3.10s/it]"
     ]
    },
    {
     "name": "stdout",
     "output_type": "stream",
     "text": [
      "2020-10-22 23:33:10,511 : uncertify.evaluation.thresholding : INFO       Threshold: 0.71 - 100 of 100 batches done.\n"
     ]
    },
    {
     "name": "stderr",
     "output_type": "stream",
     "text": [
      "Inferring batches : 100%|██████████| 100/100 [05:00<00:00,  3.00s/it]\n",
      "Inferring batches :  50%|█████     | 50/100 [02:26<02:28,  2.98s/it]"
     ]
    },
    {
     "name": "stdout",
     "output_type": "stream",
     "text": [
      "2020-10-22 23:35:39,767 : uncertify.evaluation.thresholding : INFO       Threshold: 0.79 - 50 of 100 batches done.\n"
     ]
    },
    {
     "name": "stderr",
     "output_type": "stream",
     "text": [
      "Inferring batches : 100%|██████████| 100/100 [04:56<00:00,  3.04s/it]"
     ]
    },
    {
     "name": "stdout",
     "output_type": "stream",
     "text": [
      "2020-10-22 23:38:10,280 : uncertify.evaluation.thresholding : INFO       Threshold: 0.79 - 100 of 100 batches done.\n"
     ]
    },
    {
     "name": "stderr",
     "output_type": "stream",
     "text": [
      "Inferring batches : 100%|██████████| 100/100 [04:59<00:00,  3.00s/it]\n",
      "Inferring batches :  50%|█████     | 50/100 [02:27<02:28,  2.98s/it]"
     ]
    },
    {
     "name": "stdout",
     "output_type": "stream",
     "text": [
      "2020-10-22 23:40:40,644 : uncertify.evaluation.thresholding : INFO       Threshold: 0.86 - 50 of 100 batches done.\n"
     ]
    },
    {
     "name": "stderr",
     "output_type": "stream",
     "text": [
      "Inferring batches : 100%|██████████| 100/100 [04:57<00:00,  2.98s/it]"
     ]
    },
    {
     "name": "stdout",
     "output_type": "stream",
     "text": [
      "2020-10-22 23:43:10,944 : uncertify.evaluation.thresholding : INFO       Threshold: 0.86 - 100 of 100 batches done.\n"
     ]
    },
    {
     "name": "stderr",
     "output_type": "stream",
     "text": [
      "Inferring batches : 100%|██████████| 100/100 [05:00<00:00,  3.01s/it]\n",
      "Inferring batches :  50%|█████     | 50/100 [02:26<02:29,  2.98s/it]"
     ]
    },
    {
     "name": "stdout",
     "output_type": "stream",
     "text": [
      "2020-10-22 23:45:40,479 : uncertify.evaluation.thresholding : INFO       Threshold: 0.93 - 50 of 100 batches done.\n"
     ]
    },
    {
     "name": "stderr",
     "output_type": "stream",
     "text": [
      "Inferring batches : 100%|██████████| 100/100 [05:00<00:00,  3.03s/it]"
     ]
    },
    {
     "name": "stdout",
     "output_type": "stream",
     "text": [
      "2020-10-22 23:48:13,889 : uncertify.evaluation.thresholding : INFO       Threshold: 0.93 - 100 of 100 batches done.\n"
     ]
    },
    {
     "name": "stderr",
     "output_type": "stream",
     "text": [
      "Inferring batches : 100%|██████████| 100/100 [05:02<00:00,  3.03s/it]\n",
      "Inferring batches :  50%|█████     | 50/100 [02:27<02:32,  3.04s/it]"
     ]
    },
    {
     "name": "stdout",
     "output_type": "stream",
     "text": [
      "2020-10-22 23:50:44,206 : uncertify.evaluation.thresholding : INFO       Threshold: 1.00 - 50 of 100 batches done.\n"
     ]
    },
    {
     "name": "stderr",
     "output_type": "stream",
     "text": [
      "Inferring batches : 100%|██████████| 100/100 [04:57<00:00,  3.01s/it]"
     ]
    },
    {
     "name": "stdout",
     "output_type": "stream",
     "text": [
      "2020-10-22 23:53:14,702 : uncertify.evaluation.thresholding : INFO       Threshold: 1.00 - 100 of 100 batches done.\n"
     ]
    },
    {
     "name": "stderr",
     "output_type": "stream",
     "text": [
      "Inferring batches : 100%|██████████| 100/100 [05:00<00:00,  3.01s/it]\n",
      "Inferring batches :  50%|█████     | 50/100 [02:26<02:30,  3.02s/it]"
     ]
    },
    {
     "name": "stdout",
     "output_type": "stream",
     "text": [
      "2020-10-22 23:55:44,640 : uncertify.evaluation.thresholding : INFO       Threshold: 0.38 - 50 of 100 batches done.\n"
     ]
    },
    {
     "name": "stderr",
     "output_type": "stream",
     "text": [
      "Inferring batches : 100%|██████████| 100/100 [04:58<00:00,  2.99s/it]"
     ]
    },
    {
     "name": "stdout",
     "output_type": "stream",
     "text": [
      "2020-10-22 23:58:15,732 : uncertify.evaluation.thresholding : INFO       Threshold: 0.38 - 100 of 100 batches done.\n"
     ]
    },
    {
     "name": "stderr",
     "output_type": "stream",
     "text": [
      "Inferring batches : 100%|██████████| 100/100 [05:01<00:00,  3.01s/it]\n",
      "Inferring batches :  50%|█████     | 50/100 [02:26<02:30,  3.01s/it]"
     ]
    },
    {
     "name": "stdout",
     "output_type": "stream",
     "text": [
      "2020-10-23 00:00:45,611 : uncertify.evaluation.thresholding : INFO       Threshold: 0.62 - 50 of 100 batches done.\n"
     ]
    },
    {
     "name": "stderr",
     "output_type": "stream",
     "text": [
      "Inferring batches : 100%|██████████| 100/100 [04:57<00:00,  3.03s/it]"
     ]
    },
    {
     "name": "stdout",
     "output_type": "stream",
     "text": [
      "2020-10-23 00:03:16,036 : uncertify.evaluation.thresholding : INFO       Threshold: 0.62 - 100 of 100 batches done.\n"
     ]
    },
    {
     "name": "stderr",
     "output_type": "stream",
     "text": [
      "Inferring batches : 100%|██████████| 100/100 [05:00<00:00,  3.00s/it]\n",
      "Inferring batches :  50%|█████     | 50/100 [02:27<02:32,  3.06s/it]"
     ]
    },
    {
     "name": "stdout",
     "output_type": "stream",
     "text": [
      "2020-10-23 00:05:46,479 : uncertify.evaluation.thresholding : INFO       Threshold: 0.24 - 50 of 100 batches done.\n"
     ]
    },
    {
     "name": "stderr",
     "output_type": "stream",
     "text": [
      "Inferring batches : 100%|██████████| 100/100 [04:59<00:00,  3.01s/it]"
     ]
    },
    {
     "name": "stdout",
     "output_type": "stream",
     "text": [
      "2020-10-23 00:08:18,270 : uncertify.evaluation.thresholding : INFO       Threshold: 0.24 - 100 of 100 batches done.\n"
     ]
    },
    {
     "name": "stderr",
     "output_type": "stream",
     "text": [
      "Inferring batches : 100%|██████████| 100/100 [05:02<00:00,  3.02s/it]\n",
      "Inferring batches :  50%|█████     | 50/100 [02:26<02:29,  2.98s/it]"
     ]
    },
    {
     "name": "stdout",
     "output_type": "stream",
     "text": [
      "2020-10-23 00:10:47,662 : uncertify.evaluation.thresholding : INFO       Threshold: 0.15 - 50 of 100 batches done.\n"
     ]
    },
    {
     "name": "stderr",
     "output_type": "stream",
     "text": [
      "Inferring batches : 100%|██████████| 100/100 [04:56<00:00,  3.03s/it]"
     ]
    },
    {
     "name": "stdout",
     "output_type": "stream",
     "text": [
      "2020-10-23 00:13:18,200 : uncertify.evaluation.thresholding : INFO       Threshold: 0.15 - 100 of 100 batches done.\n"
     ]
    },
    {
     "name": "stderr",
     "output_type": "stream",
     "text": [
      "Inferring batches : 100%|██████████| 100/100 [04:59<00:00,  3.00s/it]\n",
      "Inferring batches :  50%|█████     | 50/100 [02:27<02:33,  3.07s/it]"
     ]
    },
    {
     "name": "stdout",
     "output_type": "stream",
     "text": [
      "2020-10-23 00:15:48,860 : uncertify.evaluation.thresholding : INFO       Threshold: 0.29 - 50 of 100 batches done.\n"
     ]
    },
    {
     "name": "stderr",
     "output_type": "stream",
     "text": [
      "Inferring batches : 100%|██████████| 100/100 [04:59<00:00,  3.01s/it]"
     ]
    },
    {
     "name": "stdout",
     "output_type": "stream",
     "text": [
      "2020-10-23 00:18:20,664 : uncertify.evaluation.thresholding : INFO       Threshold: 0.29 - 100 of 100 batches done.\n"
     ]
    },
    {
     "name": "stderr",
     "output_type": "stream",
     "text": [
      "Inferring batches : 100%|██████████| 100/100 [05:02<00:00,  3.02s/it]\n",
      "Inferring batches :  50%|█████     | 50/100 [02:26<02:31,  3.02s/it]"
     ]
    },
    {
     "name": "stdout",
     "output_type": "stream",
     "text": [
      "2020-10-23 00:20:50,481 : uncertify.evaluation.thresholding : INFO       Threshold: 0.33 - 50 of 100 batches done.\n"
     ]
    },
    {
     "name": "stderr",
     "output_type": "stream",
     "text": [
      "Inferring batches : 100%|██████████| 100/100 [04:58<00:00,  3.02s/it]"
     ]
    },
    {
     "name": "stdout",
     "output_type": "stream",
     "text": [
      "2020-10-23 00:23:21,626 : uncertify.evaluation.thresholding : INFO       Threshold: 0.33 - 100 of 100 batches done.\n"
     ]
    },
    {
     "name": "stderr",
     "output_type": "stream",
     "text": [
      "Inferring batches : 100%|██████████| 100/100 [05:00<00:00,  3.01s/it]\n",
      "Inferring batches :  50%|█████     | 50/100 [02:25<02:31,  3.04s/it]"
     ]
    },
    {
     "name": "stdout",
     "output_type": "stream",
     "text": [
      "2020-10-23 00:25:50,011 : uncertify.evaluation.thresholding : INFO       Threshold: 0.27 - 50 of 100 batches done.\n"
     ]
    },
    {
     "name": "stderr",
     "output_type": "stream",
     "text": [
      "Inferring batches : 100%|██████████| 100/100 [04:55<00:00,  3.01s/it]"
     ]
    },
    {
     "name": "stdout",
     "output_type": "stream",
     "text": [
      "2020-10-23 00:28:20,092 : uncertify.evaluation.thresholding : INFO       Threshold: 0.27 - 100 of 100 batches done.\n"
     ]
    },
    {
     "name": "stderr",
     "output_type": "stream",
     "text": [
      "Inferring batches : 100%|██████████| 100/100 [04:58<00:00,  2.98s/it]\n",
      "Inferring batches :  50%|█████     | 50/100 [02:25<02:27,  2.96s/it]"
     ]
    },
    {
     "name": "stdout",
     "output_type": "stream",
     "text": [
      "2020-10-23 00:30:48,795 : uncertify.evaluation.thresholding : INFO       Threshold: 0.26 - 50 of 100 batches done.\n"
     ]
    },
    {
     "name": "stderr",
     "output_type": "stream",
     "text": [
      "Inferring batches : 100%|██████████| 100/100 [04:56<00:00,  3.01s/it]"
     ]
    },
    {
     "name": "stdout",
     "output_type": "stream",
     "text": [
      "2020-10-23 00:33:19,421 : uncertify.evaluation.thresholding : INFO       Threshold: 0.26 - 100 of 100 batches done.\n"
     ]
    },
    {
     "name": "stderr",
     "output_type": "stream",
     "text": [
      "Inferring batches : 100%|██████████| 100/100 [04:59<00:00,  2.99s/it]\n",
      "Inferring batches :  50%|█████     | 50/100 [02:26<02:31,  3.03s/it]"
     ]
    },
    {
     "name": "stdout",
     "output_type": "stream",
     "text": [
      "2020-10-23 00:35:49,355 : uncertify.evaluation.thresholding : INFO       Threshold: 0.28 - 50 of 100 batches done.\n"
     ]
    },
    {
     "name": "stderr",
     "output_type": "stream",
     "text": [
      "Inferring batches : 100%|██████████| 100/100 [04:58<00:00,  3.09s/it]"
     ]
    },
    {
     "name": "stdout",
     "output_type": "stream",
     "text": [
      "2020-10-23 00:38:20,743 : uncertify.evaluation.thresholding : INFO       Threshold: 0.28 - 100 of 100 batches done.\n"
     ]
    },
    {
     "name": "stderr",
     "output_type": "stream",
     "text": [
      "Inferring batches : 100%|██████████| 100/100 [05:01<00:00,  3.01s/it]\n",
      "Inferring batches :  50%|█████     | 50/100 [02:26<02:29,  2.99s/it]"
     ]
    },
    {
     "name": "stdout",
     "output_type": "stream",
     "text": [
      "2020-10-23 00:40:50,506 : uncertify.evaluation.thresholding : INFO       Threshold: 0.27 - 50 of 100 batches done.\n"
     ]
    },
    {
     "name": "stderr",
     "output_type": "stream",
     "text": [
      "Inferring batches : 100%|██████████| 100/100 [04:56<00:00,  3.02s/it]"
     ]
    },
    {
     "name": "stdout",
     "output_type": "stream",
     "text": [
      "2020-10-23 00:43:19,995 : uncertify.evaluation.thresholding : INFO       Threshold: 0.27 - 100 of 100 batches done.\n"
     ]
    },
    {
     "name": "stderr",
     "output_type": "stream",
     "text": [
      "Inferring batches : 100%|██████████| 100/100 [04:59<00:00,  2.99s/it]\n",
      "Inferring batches :  50%|█████     | 50/100 [02:27<02:32,  3.04s/it]"
     ]
    },
    {
     "name": "stdout",
     "output_type": "stream",
     "text": [
      "2020-10-23 00:45:50,841 : uncertify.evaluation.thresholding : INFO       Threshold: 0.26 - 50 of 100 batches done.\n"
     ]
    },
    {
     "name": "stderr",
     "output_type": "stream",
     "text": [
      "Inferring batches : 100%|██████████| 100/100 [04:58<00:00,  3.07s/it]"
     ]
    },
    {
     "name": "stdout",
     "output_type": "stream",
     "text": [
      "2020-10-23 00:48:21,718 : uncertify.evaluation.thresholding : INFO       Threshold: 0.26 - 100 of 100 batches done.\n"
     ]
    },
    {
     "name": "stderr",
     "output_type": "stream",
     "text": [
      "Inferring batches : 100%|██████████| 100/100 [05:01<00:00,  3.02s/it]\n",
      "Inferring batches :  50%|█████     | 50/100 [02:26<02:30,  3.01s/it]"
     ]
    },
    {
     "name": "stdout",
     "output_type": "stream",
     "text": [
      "2020-10-23 00:50:51,118 : uncertify.evaluation.thresholding : INFO       Threshold: 0.27 - 50 of 100 batches done.\n"
     ]
    },
    {
     "name": "stderr",
     "output_type": "stream",
     "text": [
      "Inferring batches : 100%|██████████| 100/100 [04:57<00:00,  3.04s/it]"
     ]
    },
    {
     "name": "stdout",
     "output_type": "stream",
     "text": [
      "2020-10-23 00:53:22,472 : uncertify.evaluation.thresholding : INFO       Threshold: 0.27 - 100 of 100 batches done.\n"
     ]
    },
    {
     "name": "stderr",
     "output_type": "stream",
     "text": [
      "Inferring batches : 100%|██████████| 100/100 [05:00<00:00,  3.01s/it]\n",
      "Inferring batches :  50%|█████     | 50/100 [02:27<02:29,  2.99s/it]"
     ]
    },
    {
     "name": "stdout",
     "output_type": "stream",
     "text": [
      "2020-10-23 00:55:53,171 : uncertify.evaluation.thresholding : INFO       Threshold: 0.27 - 50 of 100 batches done.\n"
     ]
    },
    {
     "name": "stderr",
     "output_type": "stream",
     "text": [
      "Inferring batches : 100%|██████████| 100/100 [04:57<00:00,  3.01s/it]"
     ]
    },
    {
     "name": "stdout",
     "output_type": "stream",
     "text": [
      "2020-10-23 00:58:23,446 : uncertify.evaluation.thresholding : INFO       Threshold: 0.27 - 100 of 100 batches done.\n"
     ]
    },
    {
     "name": "stderr",
     "output_type": "stream",
     "text": [
      "Inferring batches : 100%|██████████| 100/100 [05:00<00:00,  3.01s/it]\n",
      "Inferring batches :  50%|█████     | 50/100 [02:26<02:34,  3.09s/it]"
     ]
    },
    {
     "name": "stdout",
     "output_type": "stream",
     "text": [
      "2020-10-23 01:00:52,892 : uncertify.evaluation.thresholding : INFO       Threshold: 0.27 - 50 of 100 batches done.\n"
     ]
    },
    {
     "name": "stderr",
     "output_type": "stream",
     "text": [
      "Inferring batches : 100%|██████████| 100/100 [04:56<00:00,  3.06s/it]"
     ]
    },
    {
     "name": "stdout",
     "output_type": "stream",
     "text": [
      "2020-10-23 01:03:23,481 : uncertify.evaluation.thresholding : INFO       Threshold: 0.27 - 100 of 100 batches done.\n"
     ]
    },
    {
     "name": "stderr",
     "output_type": "stream",
     "text": [
      "Inferring batches : 100%|██████████| 100/100 [05:00<00:00,  3.00s/it]"
     ]
    },
    {
     "name": "stdout",
     "output_type": "stream",
     "text": [
      "2020-10-23 01:03:23,524 : matplotlib.font_manager : WARNING    findfont: Font family ['normal'] not found. Falling back to DejaVu Sans.\n",
      "2020-10-23 01:03:23,543 : matplotlib.font_manager : WARNING    findfont: Font family ['normal'] not found. Falling back to DejaVu Sans.\n",
      "2020-10-23 01:03:23,616 : uncertify.evaluation.evaluation_pipeline : INFO       Calculated residual threshold: 0.2676307631601733\n",
      "2020-10-23 01:03:23,616 : uncertify.evaluation.evaluation_pipeline : INFO       Calculating segmentation performance...\n"
     ]
    },
    {
     "name": "stderr",
     "output_type": "stream",
     "text": [
      "\n",
      "Inferring batches : 256it [12:45,  2.99s/it]                         \n",
      "Inferring batches : 256it [12:56,  3.03s/it]                         \n",
      "Inferring batches : 256it [12:56,  3.03s/it]                         \n",
      "Inferring batches : 256it [12:59,  3.04s/it]                         \n",
      "Inferring batches : 256it [12:57,  3.04s/it]                         \n",
      "Inferring batches : 256it [12:56,  3.03s/it]                         \n",
      "Inferring batches : 256it [12:57,  3.04s/it]                         \n",
      "Inferring batches : 256it [12:56,  3.03s/it]                         \n",
      "Inferring batches : 256it [12:58,  3.04s/it]                         \n",
      "Inferring batches : 256it [12:55,  3.03s/it]                         \n",
      "Inferring batches : 256it [12:55,  3.03s/it]                         \n",
      "Inferring batches : 256it [12:56,  3.03s/it]                         \n",
      "Inferring batches : 256it [12:57,  3.04s/it]                         \n",
      "Inferring batches : 256it [12:57,  3.04s/it]                         \n",
      "Inferring batches : 256it [12:58,  3.04s/it]                         \n",
      "Inferring batches : 256it [12:58,  3.04s/it]                         \n",
      "Inferring batches : 256it [12:56,  3.03s/it]                         \n",
      "Inferring batches : 256it [12:59,  3.04s/it]                         \n",
      "Inferring batches : 256it [12:59,  3.04s/it]                         \n",
      "Inferring batches : 256it [12:58,  3.04s/it]                         \n",
      "Inferring batches : 256it [12:58,  3.04s/it]                         \n",
      "Inferring batches : 256it [12:57,  3.04s/it]                         \n",
      "Inferring batches : 256it [12:56,  3.03s/it]                         \n",
      "Inferring batches : 256it [12:53,  3.02s/it]                         \n",
      "Inferring batches :  39%|███▉      | 99/255 [04:48<07:35,  2.92s/it]"
     ]
    }
   ],
   "source": [
    "for dataloader in [brats_val_t2_dataloader, brats_val_t1_dataloader, noise_loader, mnist_val_dataloader]:\n",
    "    run_evaluation_pipeline(model, camcan_train_dataloader, dataloader, eval_cfg)"
   ]
  },
  {
   "cell_type": "code",
   "execution_count": null,
   "metadata": {},
   "outputs": [],
   "source": []
  }
 ],
 "metadata": {
  "kernelspec": {
   "display_name": "uncertify-env",
   "language": "python",
   "name": "uncertify-env"
  },
  "language_info": {
   "codemirror_mode": {
    "name": "ipython",
    "version": 3
   },
   "file_extension": ".py",
   "mimetype": "text/x-python",
   "name": "python",
   "nbconvert_exporter": "python",
   "pygments_lexer": "ipython3",
   "version": "3.8.2"
  }
 },
 "nbformat": 4,
 "nbformat_minor": 4
}
