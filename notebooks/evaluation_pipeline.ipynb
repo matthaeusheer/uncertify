{
 "cells": [
  {
   "cell_type": "code",
   "execution_count": null,
   "metadata": {},
   "outputs": [],
   "source": [
    "%load_ext autoreload\n",
    "%autoreload 2\n",
    "\n",
    "from context import uncertify"
   ]
  },
  {
   "cell_type": "code",
   "execution_count": null,
   "metadata": {},
   "outputs": [],
   "source": [
    "import logging\n",
    "from uncertify.log import setup_logging\n",
    "setup_logging()\n",
    "LOG = logging.getLogger(__name__)\n",
    "\n",
    "# Matplotlib DEBUG logging spits out a whole bunch of crap\n",
    "mpl_logger = logging.getLogger('matplotlib')\n",
    "mpl_logger.setLevel(logging.ERROR)"
   ]
  },
  {
   "cell_type": "code",
   "execution_count": null,
   "metadata": {
    "collapsed": false,
    "jupyter": {
     "outputs_hidden": false
    },
    "pycharm": {
     "name": "#%%\n"
    }
   },
   "outputs": [],
   "source": [
    "from pathlib import Path\n",
    "\n",
    "from torch.utils.data import DataLoader\n",
    "import torchvision\n",
    "\n",
    "from uncertify.io.models import load_ensemble_models\n",
    "from uncertify.models.vae import load_vae_baur_model\n",
    "from uncertify.data.dataloaders import DatasetType\n",
    "from uncertify.data.dataloaders import dataloader_factory\n",
    "from uncertify.evaluation.evaluation_pipeline import run_evaluation_pipeline, print_results\n",
    "from uncertify.evaluation.configs import EvaluationConfig, PerformanceEvaluationConfig, PixelThresholdSearchConfig\n",
    "from uncertify.data.datasets import GaussianNoiseDataset\n",
    "from uncertify.common import DATA_DIR_PATH, HD_DATA_PATH"
   ]
  },
  {
   "cell_type": "code",
   "execution_count": null,
   "metadata": {},
   "outputs": [],
   "source": [
    "# Load models\n",
    "RUN_VERSIONS = [1, 2, 3, 4, 5]\n",
    "ensemble_models = load_ensemble_models(DATA_DIR_PATH / 'masked_ensemble_models', [f'model{idx}.ckpt' for idx in RUN_VERSIONS])\n",
    "model = ensemble_models[0]"
   ]
  },
  {
   "cell_type": "code",
   "execution_count": null,
   "metadata": {},
   "outputs": [],
   "source": [
    "model = load_vae_baur_model(HD_DATA_PATH.parent / 'lightning_logs/schedule_test/version_4/checkpoints/last.ckpt')"
   ]
  },
  {
   "cell_type": "code",
   "execution_count": null,
   "metadata": {},
   "outputs": [],
   "source": [
    "BATCH_SIZE = 155\n",
    "SHUFFLE_VAL = True\n",
    "\n",
    "brats_t2_path    = HD_DATA_PATH / 'processed/brats17_t2_bc_std_bv3.5.hdf5'\n",
    "brats_t2_hm_path = HD_DATA_PATH / 'processed/brats17_t2_hm_bc_std_bv3.5.hdf5'\n",
    "brats_t1_path    = HD_DATA_PATH / 'processed/brats17_t1_bc_std_bv3.5.hdf5'\n",
    "brats_t1_hm_path = HD_DATA_PATH / 'processed/brats17_t1_hm_bc_std_bv-3.5.hdf5'\n",
    "camcan_t2_val_path   = DATA_DIR_PATH  / 'processed/camcan_val_t2_hm_std_bv3.5_xe.hdf5'\n",
    "camcan_t2_train_path = DATA_DIR_PATH  / 'processed/camcan_train_t2_hm_std_bv3.5_xe.hdf5'\n",
    "\n",
    "_, brats_val_t2_dataloader    = dataloader_factory(DatasetType.BRATS17, batch_size=BATCH_SIZE, val_set_path=brats_t2_path, shuffle_val=SHUFFLE_VAL)\n",
    "_, brats_val_t1_dataloader    = dataloader_factory(DatasetType.BRATS17, batch_size=BATCH_SIZE, val_set_path=brats_t1_path, shuffle_val=SHUFFLE_VAL)\n",
    "_, brats_val_t2_hm_dataloader = dataloader_factory(DatasetType.BRATS17, batch_size=BATCH_SIZE, val_set_path=brats_t2_hm_path, shuffle_val=SHUFFLE_VAL)\n",
    "_, brats_val_t1_hm_dataloader = dataloader_factory(DatasetType.BRATS17, batch_size=BATCH_SIZE, val_set_path=brats_t1_hm_path, shuffle_val=SHUFFLE_VAL)\n",
    "\n",
    "camcan_train_dataloader, camcan_val_dataloader = dataloader_factory(DatasetType.CAMCAN, batch_size=BATCH_SIZE, val_set_path=camcan_t2_val_path, train_set_path=camcan_t2_train_path, shuffle_val=SHUFFLE_VAL, shuffle_train=True)\n",
    "camcan_lesional_train_dataloader, camcan_lesional_val_dataloader = dataloader_factory(DatasetType.CAMCAN, batch_size=BATCH_SIZE, val_set_path=camcan_t2_val_path, train_set_path=camcan_t2_train_path, shuffle_val=SHUFFLE_VAL, shuffle_train=True, add_gauss_blobs=True)\n",
    "\n",
    "\n",
    "noise_set = GaussianNoiseDataset()\n",
    "noise_loader = DataLoader(noise_set, batch_size=BATCH_SIZE)\n",
    "\n",
    "_, mnist_val_dataloader = dataloader_factory(DatasetType.MNIST, batch_size=BATCH_SIZE, transform=torchvision.transforms.Compose([\n",
    "                                                                        torchvision.transforms.Resize((128, 128)),\n",
    "                                                                        torchvision.transforms.ToTensor()]))\n",
    "\n",
    "dataloader_dict = {#'BraTS T2': brats_val_t2_dataloader,\n",
    "                   #'BraTS T1': brats_val_t1_dataloader, \n",
    "                   #'CamCAN lesion train': camcan_lesional_val_dataloader,\n",
    "                   #'CamCAN lesion val': camcan_lesional_val_dataloader,\n",
    "                   'BraTS T2 HM': brats_val_t2_hm_dataloader,\n",
    "                   #'BraTS T1 HM': brats_val_t1_hm_dataloader,\n",
    "                   #'CamCAN T2': camcan_train_dataloader,\n",
    "                   #'CamCAN val': camcan_val_dataloader,\n",
    "                   #'Gaussian noise': noise_loader,\n",
    "                   #'MNIST': mnist_val_dataloader,\n",
    "                   #'BraTS T2 HFlip': brats_val_t2_hflip_dataloader,\n",
    "                   #'BraTS T2 VFlip': brats_val_t2_vflip_dataloader\n",
    "}\n",
    "brats_dataloader_dict = {key: val for key, val in dataloader_dict.items() if 'BraTS' in key}\n",
    "\n",
    "for name, dataloader in dataloader_dict.items(): \n",
    "    print(f'{name:15} dataloader: {len(dataloader)} batches (batch_size: {dataloader.batch_size}) -> {len(dataloader) * dataloader.batch_size} samples.')"
   ]
  },
  {
   "cell_type": "code",
   "execution_count": null,
   "metadata": {},
   "outputs": [],
   "source": [
    "DO_SEGMENTATION      = True\n",
    "DO_ANOMALY_DETECTION = True\n",
    "DO_LOSS_HISTOGRAMS   = False\n",
    "DO_OOD               = False\n",
    "RESIDUAL_THRESHOLD   = 0.93\n",
    "DO_PLOTS             = True\n",
    "\n",
    "eval_cfg = EvaluationConfig()\n",
    "USE_N_BATCHES = 10\n",
    "eval_cfg.do_plots = DO_PLOTS\n",
    "eval_cfg.use_n_batches = USE_N_BATCHES\n",
    "eval_cfg.ood_config.metrics = ('waic', 'dose')  # 'dose'\n",
    "eval_cfg.ood_config.dose_statistics = ('rec_err', 'elbo')  # 'entropy, 'kl_div','\n",
    "\n",
    "results = {}\n",
    "counter = 0\n",
    "for name, dataloader  in dataloader_dict.items():\n",
    "    LOG.info(f'Running evaluation on {name}!')\n",
    "    result = run_evaluation_pipeline(model, \n",
    "                                     camcan_train_dataloader, \n",
    "                                     'CamCAN T2',\n",
    "                                     dataloader,\n",
    "                                     name,\n",
    "                                     eval_cfg, \n",
    "                                     RESIDUAL_THRESHOLD,\n",
    "                                     run_segmentation=DO_SEGMENTATION, \n",
    "                                     run_anomaly_detection=DO_ANOMALY_DETECTION, \n",
    "                                     run_loss_histograms=DO_LOSS_HISTOGRAMS,\n",
    "                                     run_ood_detection=DO_OOD,\n",
    "                                     ensemble_models=ensemble_models)\n",
    "    results[name] = result\n",
    "    counter += 1\n",
    "    if counter == 2:\n",
    "        pass\n",
    "    \n",
    "\n",
    "for name, result in results.items():\n",
    "    print(f'\\n\\t{name}')\n",
    "    print_results(result)      "
   ]
  },
  {
   "cell_type": "code",
   "execution_count": null,
   "metadata": {},
   "outputs": [],
   "source": []
  },
  {
   "cell_type": "code",
   "execution_count": null,
   "metadata": {},
   "outputs": [],
   "source": []
  }
 ],
 "metadata": {
  "kernelspec": {
   "display_name": "uncertify-env",
   "language": "python",
   "name": "uncertify-env"
  },
  "language_info": {
   "codemirror_mode": {
    "name": "ipython",
    "version": 3
   },
   "file_extension": ".py",
   "mimetype": "text/x-python",
   "name": "python",
   "nbconvert_exporter": "python",
   "pygments_lexer": "ipython3",
   "version": "3.8.6"
  }
 },
 "nbformat": 4,
 "nbformat_minor": 4
}
