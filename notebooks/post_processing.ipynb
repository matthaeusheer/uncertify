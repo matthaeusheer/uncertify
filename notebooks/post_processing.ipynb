{
 "cells": [
  {
   "cell_type": "code",
   "execution_count": null,
   "metadata": {},
   "outputs": [],
   "source": [
    "%load_ext autoreload\n",
    "%autoreload 2\n",
    "\n",
    "from context import uncertify"
   ]
  },
  {
   "cell_type": "code",
   "execution_count": null,
   "metadata": {},
   "outputs": [],
   "source": [
    "import logging\n",
    "from uncertify.log import setup_logging\n",
    "setup_logging()\n",
    "LOG = logging.getLogger(__name__)\n",
    "\n",
    "# Matplotlib DEBUG logging spits out a whole bunch of crap\n",
    "mpl_logger = logging.getLogger('matplotlib')\n",
    "mpl_logger.setLevel(logging.WARNING)"
   ]
  },
  {
   "cell_type": "code",
   "execution_count": null,
   "metadata": {},
   "outputs": [],
   "source": [
    "from uncertify.data.dataloaders import dataloader_factory, DatasetType\n",
    "from uncertify.io.models import load_ensemble_models\n",
    "from uncertify.evaluation.inference import yield_inference_batches\n",
    "from uncertify.visualization.reconstruction import plot_stacked_scan_reconstruction_batches\n",
    "from uncertify.common import DATA_DIR_PATH, HD_DATA_PATH"
   ]
  },
  {
   "cell_type": "code",
   "execution_count": null,
   "metadata": {},
   "outputs": [],
   "source": [
    "# Load models\n",
    "RUN_VERSIONS = [1, 2, 3, 4, 5]\n",
    "ensemble_models = load_ensemble_models(DATA_DIR_PATH / 'masked_ensemble_models', [f'model{idx}.ckpt' for idx in RUN_VERSIONS])\n",
    "model = ensemble_models[0]"
   ]
  },
  {
   "cell_type": "code",
   "execution_count": null,
   "metadata": {},
   "outputs": [],
   "source": [
    "batch_size    = 12\n",
    "USE_N_BATCHES = 10\n",
    "NUM_WORKERS   = 0\n",
    "SHUFFLE_VAL   = True\n",
    "\n",
    "brats_t2_path    = HD_DATA_PATH / 'processed/brats17_t2_bc_std_bv3.5.hdf5'\n",
    "brats_t2_hm_path = HD_DATA_PATH / 'processed/brats17_t2_hm_bc_std_bv3.5.hdf5'\n",
    "camcan_t2_val_path   = DATA_DIR_PATH  / 'processed/camcan_val_t2_hm_std_bv3.5_xe.hdf5'\n",
    "camcan_t2_train_path = DATA_DIR_PATH  / 'processed/camcan_train_t2_hm_std_bv3.5_xe.hdf5'\n",
    "\n",
    "_, brats_t2_dataloader    = dataloader_factory(DatasetType.BRATS17, batch_size=batch_size, val_set_path=brats_t2_path, shuffle_val=SHUFFLE_VAL, num_workers=NUM_WORKERS)\n",
    "_, brats_val_t2_hm_dataloader = dataloader_factory(DatasetType.BRATS17, batch_size=batch_size, val_set_path=brats_t2_hm_path, shuffle_val=SHUFFLE_VAL, num_workers=NUM_WORKERS)\n",
    "camcan_train_dataloader, camcan_val_dataloader = dataloader_factory(DatasetType.CAMCAN, batch_size=batch_size, val_set_path=camcan_t2_val_path, train_set_path=camcan_t2_train_path, shuffle_val=SHUFFLE_VAL, shuffle_train=True, num_workers=NUM_WORKERS)\n",
    "\n",
    "dataloader_dict = {'BraTS T2 val': brats_t2_dataloader}\n",
    "\n",
    "for name, dataloader in dataloader_dict.items(): \n",
    "    print(f'{name:15} dataloader: {len(dataloader)} batches (batch_size: {dataloader.batch_size}) -> {len(dataloader) * dataloader.batch_size} samples.')"
   ]
  },
  {
   "cell_type": "code",
   "execution_count": null,
   "metadata": {},
   "outputs": [],
   "source": [
    "plot_n_batches = 3\n",
    "\n",
    "dataloaders = [brats_val_t2_hm_dataloader, brats_t2_dataloader, camcan_train_dataloader]\n",
    "\n",
    "for dataloader in dataloaders:\n",
    "    print(f'Dataset: {dataloader.dataset.name}')\n",
    "    batch_generator = yield_inference_batches(dataloader, model, residual_threshold=0.95)\n",
    "    plot_stacked_scan_reconstruction_batches(batch_generator, plot_n_batches, nrow=16, show_mask=False,\n",
    "                                             cmap='gray', axis='off', figsize=(20, 15),\n",
    "                                             save_dir_path=DATA_DIR_PATH/'reconstructions')"
   ]
  }
 ],
 "metadata": {
  "kernelspec": {
   "display_name": "uncertify-env",
   "language": "python",
   "name": "uncertify-env"
  },
  "language_info": {
   "codemirror_mode": {
    "name": "ipython",
    "version": 3
   },
   "file_extension": ".py",
   "mimetype": "text/x-python",
   "name": "python",
   "nbconvert_exporter": "python",
   "pygments_lexer": "ipython3",
   "version": "3.8.6"
  }
 },
 "nbformat": 4,
 "nbformat_minor": 4
}
