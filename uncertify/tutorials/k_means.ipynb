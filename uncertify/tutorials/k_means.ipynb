{
 "cells": [
  {
   "cell_type": "code",
   "execution_count": null,
   "metadata": {
    "collapsed": true
   },
   "outputs": [],
   "source": [
    "%load_ext autoreload\n",
    "%autoreload 2\n",
    "\n",
    "import random\n",
    "\n",
    "from uncertify.tutorials.k_means import k_means\n",
    "from uncertify.tutorials.k_means import Point\n",
    "\n",
    "from typing import List"
   ]
  },
  {
   "cell_type": "code",
   "execution_count": null,
   "outputs": [],
   "source": [
    "num_points = 1000\n",
    "num_clusters = 3\n",
    "\n",
    "def create_gaussian_blobs(num_samples: int) -> List[Point]:\n",
    "    blob1 = [Point(x=random.gauss(mu=20.0, sigma=5.0), y=random.gauss(mu=30.0, sigma=5)) for _ in range(num_samples)]\n",
    "    blob2 = [Point(x=random.gauss(mu=-30.0, sigma=1.0), y=random.gauss(mu=2.0, sigma=1.5)) for _ in range(num_samples)]\n",
    "    blob3 = [Point(x=random.gauss(mu=10.0, sigma=5.0), y=random.gauss(mu=-10.0, sigma=7.0)) for _ in range(num_samples)]\n",
    "    return blob1 + blob2 + blob3\n",
    "\n",
    "data_points = create_gaussian_blobs(num_points)\n",
    "clusters = k_means(data_points, num_clusters=num_clusters)\n"
   ],
   "metadata": {
    "collapsed": false,
    "pycharm": {
     "name": "#%%\n"
    }
   }
  }
 ],
 "metadata": {
  "kernelspec": {
   "display_name": "Python 3",
   "language": "python",
   "name": "python3"
  },
  "language_info": {
   "codemirror_mode": {
    "name": "ipython",
    "version": 2
   },
   "file_extension": ".py",
   "mimetype": "text/x-python",
   "name": "python",
   "nbconvert_exporter": "python",
   "pygments_lexer": "ipython2",
   "version": "2.7.6"
  }
 },
 "nbformat": 4,
 "nbformat_minor": 0
}