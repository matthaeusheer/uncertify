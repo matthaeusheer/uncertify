{
 "cells": [
  {
   "cell_type": "code",
   "execution_count": null,
   "metadata": {
    "collapsed": true
   },
   "outputs": [],
   "source": [
    "%load_ext autoreload\n",
    "%autoreload 2\n",
    "\n",
    "import random\n",
    "\n",
    "import numpy as np\n",
    "\n",
    "from uncertify.tutorials.k_means import Point\n",
    "from uncertify.tutorials.k_means import k_means\n",
    "from uncertify.tutorials.expectation_maximization import expectation_maximization\n",
    "\n",
    "from typing import List"
   ]
  },
  {
   "cell_type": "code",
   "execution_count": null,
   "outputs": [],
   "source": [
    "num_points = 1000\n",
    "num_clusters = 3\n",
    "\n",
    "def create_gaussian_blobs(num_samples: int) -> List[Point]:\n",
    "    blob1 = [Point(x=random.gauss(mu=20.0, sigma=5.0), y=random.gauss(mu=30.0, sigma=5)) for _ in range(num_samples//3)]\n",
    "    blob2 = [Point(x=random.gauss(mu=-30.0, sigma=1.0), y=random.gauss(mu=2.0, sigma=1.5)) for _ in range(num_samples//3)]\n",
    "    blob3 = [Point(x=random.gauss(mu=10.0, sigma=5.0), y=random.gauss(mu=-10.0, sigma=7.0)) for _ in range(num_samples//3)]\n",
    "    return blob1 + blob2 + blob3\n",
    "\n",
    "data_points = create_gaussian_blobs(num_points)\n",
    "clusters = k_means(data_points, num_clusters=num_clusters)"
   ],
   "metadata": {
    "collapsed": false,
    "pycharm": {
     "name": "#%%\n"
    }
   }
  },
  {
   "cell_type": "code",
   "execution_count": null,
   "outputs": [],
   "source": [
    "num_points = 10\n",
    "num_mixtures = 3\n",
    "\n",
    "def create_gaussian_blobs(num_samples: int) -> np.ndarray:\n",
    "    blob1_x = np.random.normal(loc=-10, scale=2, size=(1, num_samples//2))\n",
    "    blob1_y = np.random.normal(loc=-10, scale=1, size=(1, num_samples//2))\n",
    "    blob2_x = np.random.normal(loc=10, scale=2, size=(1, num_samples//2))\n",
    "    blob2_y = np.random.normal(loc=10, scale=1, size=(1, num_samples//2))\n",
    "    blob1 = np.vstack([blob1_x, blob1_y])\n",
    "    blob2 = np.vstack([blob2_x, blob2_y])\n",
    "    return np.hstack([blob1, blob2])\n",
    "\n",
    "data_points = create_gaussian_blobs(num_points)\n",
    "expectation_maximization(data_points, num_clusters=2, max_iterations=3)"
   ],
   "metadata": {
    "collapsed": false,
    "pycharm": {
     "name": "#%%\n"
    }
   }
  },
  {
   "cell_type": "code",
   "execution_count": null,
   "outputs": [],
   "source": [
    "\n"
   ],
   "metadata": {
    "collapsed": false,
    "pycharm": {
     "name": "#%%\n"
    }
   }
  }
 ],
 "metadata": {
  "kernelspec": {
   "display_name": "Python 3",
   "language": "python",
   "name": "python3"
  },
  "language_info": {
   "codemirror_mode": {
    "name": "ipython",
    "version": 2
   },
   "file_extension": ".py",
   "mimetype": "text/x-python",
   "name": "python",
   "nbconvert_exporter": "python",
   "pygments_lexer": "ipython2",
   "version": "2.7.6"
  }
 },
 "nbformat": 4,
 "nbformat_minor": 0
}